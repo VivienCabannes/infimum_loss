{
 "cells": [
  {
   "cell_type": "code",
   "execution_count": 1,
   "metadata": {},
   "outputs": [],
   "source": [
    "import sys\n",
    "sys.path.append('..')\n",
    "import matplotlib.pyplot as plt\n",
    "import numpy as np\n",
    "\n",
    "from kernel import KernelComputer, KernelRegressor\n",
    "from dataloader import Synthesizer\n",
    "from regression import DF, IL"
   ]
  },
  {
   "cell_type": "code",
   "execution_count": 2,
   "metadata": {},
   "outputs": [],
   "source": [
    "%matplotlib inline\n",
    "np.random.seed(0)"
   ]
  },
  {
   "cell_type": "markdown",
   "metadata": {},
   "source": [
    "## Toy problem\n",
    "\n",
    "Let's imagine a toy problem, where we have to order $m$ linear forms over $X = \\mathbb{R}$"
   ]
  },
  {
   "cell_type": "code",
   "execution_count": 3,
   "metadata": {},
   "outputs": [],
   "source": [
    "n_train = 30\n",
    "n_test = 200\n",
    "exp_par, offset = 3, 1\n",
    "corruption = exp_par, offset\n",
    "proportion = .7\n",
    "\n",
    "datagen = Synthesizer('IR-' + str(n_train))\n",
    "x_train, y_train = datagen.get_trainset()\n",
    "x_test, y_test = datagen.get_testset(n_test)\n",
    "S_train = datagen.synthetic_corruption(y_train, corruption, skewed=False)\n",
    "c_train, r_train = S_train\n",
    "\n",
    "y_train += 3\n",
    "c_train += 3\n",
    "y_test += 3\n",
    "\n",
    "bad_ind = np.random.rand(n_train) < proportion\n",
    "S_train = (c_train, r_train, bad_ind)\n",
    "good_ind = ~bad_ind"
   ]
  },
  {
   "cell_type": "code",
   "execution_count": 4,
   "metadata": {},
   "outputs": [],
   "source": [
    "def l2_loss(A, B):\n",
    "    dist = A @ B.T\n",
    "    dist *= -2\n",
    "    dist += np.sum(A ** 2, axis=1)[:, np.newaxis]\n",
    "    dist += np.sum(B ** 2, axis=1)\n",
    "    return dist\n",
    "\n",
    "\n",
    "def point_l2_loss(a, b):\n",
    "    dist = a - b\n",
    "    dist **= 2\n",
    "    dist = np.sum(dist, axis=1)\n",
    "    return dist"
   ]
  },
  {
   "cell_type": "code",
   "execution_count": 5,
   "metadata": {},
   "outputs": [],
   "source": [
    "def projection_df_pr(ys, Ss):\n",
    "    cs, rs, bad_ind = Ss\n",
    "    ind = ys.squeeze() < 0\n",
    "    ind &= bad_ind\n",
    "    ys[ind] *= -1\n",
    "    diff = (ys - cs).squeeze()\n",
    "    outside = np.abs(diff) > rs\n",
    "    ys[outside] = cs[outside] + (rs[outside] * np.sign(diff)[outside])[:, np.newaxis]\n",
    "    ys[ind] *= -1\n",
    "    return ys"
   ]
  },
  {
   "cell_type": "code",
   "execution_count": 6,
   "metadata": {},
   "outputs": [],
   "source": [
    "y_grid = np.linspace(-6, 6, num=1000)[:, np.newaxis]\n",
    "AC_loss = l2_loss(c_train, y_grid)\n",
    "AC_loss[bad_ind] = np.sum(y_grid ** 2, axis=1)\n",
    "\n",
    "IL_loss_pos = l2_loss(c_train, y_grid)\n",
    "IL_loss_pos -= r_train[:, np.newaxis]\n",
    "IL_loss_neg = l2_loss(-c_train, y_grid)\n",
    "IL_loss_neg -= r_train[:, np.newaxis]\n",
    "IL_loss_neg[good_ind] = np.inf\n",
    "IL_loss = np.stack((IL_loss_pos, IL_loss_neg)).min(axis=0)\n",
    "IL_loss[IL_loss < 0] = 0\n",
    "IL_loss **= 2"
   ]
  },
  {
   "cell_type": "code",
   "execution_count": 7,
   "metadata": {},
   "outputs": [],
   "source": [
    "kernel_type = 'Gaussian'\n",
    "# kernel_type = 'Laplacian'\n",
    "# sigmas = [1e0, 5e-1, 1e-1, 5e-2, 1e-2]\n",
    "sigmas = [1e-1, 5e-2, 1e-2, 5e-3]\n",
    "lambdas = [1e12, 1e9, 1e6, 1e3, 1e0, 1e-3, 1e-6, 1e-9]"
   ]
  },
  {
   "cell_type": "code",
   "execution_count": 8,
   "metadata": {},
   "outputs": [
    {
     "name": "stdout",
     "output_type": "stream",
     "text": [
      "................................"
     ]
    }
   ],
   "source": [
    "kernel = KernelComputer(kernel_type, sigma=1)\n",
    "kernel_reg = KernelRegressor(kernel)\n",
    "kernel_reg.set_support(x_train)\n",
    "\n",
    "best_err_df, best_err_il, best_err_ac = 3 * (np.inf,)\n",
    "\n",
    "for sigma in sigmas:\n",
    "    kernel_reg.update_sigma(sigma)\n",
    "    for lambd in lambdas:\n",
    "        kernel_reg.update_lambda(lambd)\n",
    "        \n",
    "        alpha = kernel_reg(x_train)        \n",
    "        y_dis = DF.disambiguation(alpha, S_train, 10e-6, 10e6, projection_df_pr)\n",
    "        \n",
    "        alpha = kernel_reg(x_test)\n",
    "        alpha /= alpha.sum(axis=1)[:, np.newaxis]\n",
    "\n",
    "        y_df = alpha @ y_dis\n",
    "#         y_il = IL.disambiguation(alpha, S_train, 10e-6, 10e3, projection_il_df)\n",
    "        loss_grid = alpha @ IL_loss\n",
    "        y_il = y_grid[np.argmin(loss_grid, axis=1)]\n",
    "        loss_grid = alpha @ AC_loss\n",
    "        y_ac = y_grid[np.argmin(loss_grid, axis=1)]\n",
    "        \n",
    "        err_df = np.diag(l2_loss(y_df, y_test)).mean()\n",
    "        err_il = np.diag(l2_loss(y_il, y_test)).mean()\n",
    "        err_ac = np.diag(l2_loss(y_ac, y_test)).mean()\n",
    "        \n",
    "        if err_df < best_err_df:\n",
    "            best_err_df = err_df\n",
    "            best_y_df = y_df\n",
    "            best_dis = y_dis\n",
    "            best_s_df = sigma\n",
    "            best_l_df = lambd\n",
    "        if err_il < best_err_il:\n",
    "            best_err_il = err_il\n",
    "            best_y_il = y_il\n",
    "            best_s_il = sigma\n",
    "            best_l_il = lambd   \n",
    "        if err_ac < best_err_ac:\n",
    "            best_err_ac = err_ac\n",
    "            best_y_ac = y_ac\n",
    "            best_s_ac = sigma\n",
    "            best_l_ac = lambd\n",
    "        print('.', end='')"
   ]
  },
  {
   "cell_type": "code",
   "execution_count": 9,
   "metadata": {},
   "outputs": [
    {
     "name": "stdout",
     "output_type": "stream",
     "text": [
      "0.07611916958377354 0.19630352903532686 4.875013843343144\n",
      "0.1 0.05 0.1 1e-06 1000000000000.0 1.0\n"
     ]
    }
   ],
   "source": [
    "print(best_err_df, best_err_il, best_err_ac)\n",
    "print(best_s_df, best_s_il, best_s_ac, best_l_df, best_l_il, best_l_ac)"
   ]
  },
  {
   "cell_type": "code",
   "execution_count": 10,
   "metadata": {},
   "outputs": [
    {
     "data": {
      "image/png": "[encoded data removed]",
      "text/plain": [
       "<Figure size 576x288 with 1 Axes>"
      ]
     },
     "metadata": {},
     "output_type": "display_data"
    },
    {
     "data": {
      "image/png": "[encoded data removed]",
      "text/plain": [
       "<Figure size 576x288 with 1 Axes>"
      ]
     },
     "metadata": {},
     "output_type": "display_data"
    }
   ],
   "source": [
    "fig1, ax1 = plt.subplots(figsize=(8, 4))\n",
    "a, = ax1.plot(x_test[:, 0], y_test[:, 0], linestyle=\"--\", linewidth=3, color=\"C0\")\n",
    "b = ax1.errorbar(x_train[:, 0], c_train[:, 0], yerr=r_train, fmt=' ', color=\"C0\")\n",
    "ax1.errorbar(x_train[bad_ind, :], -c_train[bad_ind, 0], yerr=r_train[bad_ind], fmt=' ', color=\"C0\")\n",
    "c = ax1.scatter(x_train[bad_ind, 0], np.zeros(bad_ind.sum()), color=\"C0\")\n",
    "ax1.scatter(x_train[good_ind, 0], c_train[good_ind, 0], color=\"C0\")\n",
    "ax1.legend([a, b, c], [\"signal\", \"sets\", \"centers\"], prop={\"size\": 20})\n",
    "ax1.set_title(\"Problem setting\", size=25)\n",
    "\n",
    "fig2, ax2 = plt.subplots(figsize=(8, 4))\n",
    "ax2.plot(x_test[:, 0], y_test[:, 0], linestyle=\"--\", linewidth=1, color=\"C0\")\n",
    "alpha = .5\n",
    "ax2.errorbar(x_train[:, 0], c_train[:, 0], yerr=r_train, fmt=' ', color=\"C0\", alpha=alpha)\n",
    "ax2.errorbar(x_train[bad_ind, :], -c_train[bad_ind, 0], yerr=r_train[bad_ind], fmt=' ', color=\"C0\", alpha=alpha)\n",
    "ax2.scatter(x_train[bad_ind, 0], np.zeros(bad_ind.sum()), color=\"C0\", alpha=alpha)\n",
    "ax2.scatter(x_train[good_ind, 0], c_train[good_ind, 0], color=\"C0\", alpha=alpha)\n",
    "a, = ax2.plot(x_test.squeeze(), best_y_df.squeeze(), linestyle=\"-\", linewidth=3, color=\"C1\")\n",
    "ax2.scatter(x_train.squeeze(), best_dis.squeeze(), color=\"C1\")\n",
    "b, = ax2.plot(x_test.squeeze(), best_y_il.squeeze(), linestyle=\"-\", linewidth=3, color=\"C2\")\n",
    "c, = ax2.plot(x_test.squeeze(), best_y_ac.squeeze(), linestyle=\"-\", linewidth=3, color=\"C3\")\n",
    "# ax2.legend([a, b], ['DF', 'IL'], prop={'size':20})\n",
    "ax2.legend([a, b, c], ['DF', 'IL', 'AC'], prop={'size':20})\n",
    "ax2.set_title(\"Reconstruction\", size=25)\n",
    "\n",
    "for ax in [ax1, ax2]:\n",
    "    ax.set_xlabel(\"x\", size=20)\n",
    "    ax.set_ylabel(\"y\", size=20)\n",
    "    ax.set_ylim(-6, 6)\n",
    "    ax.tick_params(\n",
    "        axis='both',\n",
    "        which='both',\n",
    "        bottom=False,\n",
    "        left=False,\n",
    "        labelbottom=False,\n",
    "        labelleft=False)\n",
    "\n",
    "# fig1.savefig('savings/ir_setting.pdf')\n",
    "# fig2.savefig('savings/ir_reconstruction.pdf')"
   ]
  },
  {
   "cell_type": "code",
   "execution_count": null,
   "metadata": {},
   "outputs": [],
   "source": []
  }
 ],
 "metadata": {
  "kernelspec": {
   "display_name": "Python 3",
   "language": "python",
   "name": "python3"
  },
  "language_info": {
   "codemirror_mode": {
    "name": "ipython",
    "version": 3
   },
   "file_extension": ".py",
   "mimetype": "text/x-python",
   "name": "python",
   "nbconvert_exporter": "python",
   "pygments_lexer": "ipython3",
   "version": "3.7.3"
  }
 },
 "nbformat": 4,
 "nbformat_minor": 4
}
