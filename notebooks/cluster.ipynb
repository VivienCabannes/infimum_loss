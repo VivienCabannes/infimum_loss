{
 "cells": [
  {
   "cell_type": "code",
   "execution_count": 2,
   "metadata": {},
   "outputs": [],
   "source": [
    "import pickle\n",
    "from distributed import Client, LocalCluster\n",
    "from dask_jobqueue import SGECluster\n",
    "import numpy as np"
   ]
  },
  {
   "cell_type": "code",
   "execution_count": 3,
   "metadata": {},
   "outputs": [],
   "source": [
    "def experiment(dataset, Loader, methods):\n",
    "    datasets = [dataset]\n",
    "    corruptions = [i / 10 for i in range(10)]\n",
    "    nb_folds = 10\n",
    "    floader = FoldsLoader(Loader, cross_on_weak_loss=False)\n",
    "    C_sigmas = np.logspace(-2, 2, 5)\n",
    "    C_lambdas = np.logspace(-3, 3, 7)\n",
    "    np.random.seed(0)\n",
    "    res_dict = iterate_on_datasets(datasets, corruptions, nb_folds, floader,\n",
    "                                   methods, C_sigmas, C_lambdas, low_rank=200)\n",
    "    if floader.wk:\n",
    "        dataset += '_weak'\n",
    "    with open(SAVE_DIR / (dataset + '.pk'), 'wb') as f:\n",
    "        pickle.dump(res_dict, f)\n",
    "    return res_dict\n",
    "\n",
    "\n",
    "def MULAN_experiment(dataset):\n",
    "    methods = ['plasp', 'low rank', 'diffusion']\n",
    "    return experiment(dataset, MULANLoader, methods)\n",
    "\n",
    "\n",
    "def LIBSVM_experiment(dataset):\n",
    "    methods = ['plasp', 'averaging', 'diffusion']\n",
    "    return experiment(dataset, LIBSVMLoader, methods)\n",
    "\n",
    "\n",
    "def synthetic_experiment(dataset):\n",
    "    methods = ['plasp', 'diffrac', 'diffusion', 'low rank']\n",
    "    return experiment(dataset, Synthesizer, methods)"
   ]
  },
  {
   "cell_type": "code",
   "execution_count": 26,
   "metadata": {},
   "outputs": [],
   "source": [
    "def get_dask_cluster(on_server, n_workers):\n",
    "    if on_server:\n",
    "        env_extra = [\n",
    "            'conda activate main',\n",
    "            'source /home/vcabanne/.bashrc',\n",
    "            'export LANG=en_US.UTF-8',\n",
    "            'export LC_ALL=en_US.UTF-8'\n",
    "        ]\n",
    "        log_directory = \"/sequoia/data2/vcabanne/logs\"\n",
    "        local_directory = '/sequoia/data2/vcabanne/dask-spill'\n",
    "\n",
    "        cluster = SGECluster(queue='all.q,bigmem.q',\n",
    "                             resource_spec='h_vmem=12000M,mem_req=8000M',\n",
    "                             walltime='720:00:00',\n",
    "                             name='plasp',\n",
    "                             cores=1,\n",
    "                             memory='8000m',\n",
    "                             processes=1,\n",
    "                             interface='ib0',\n",
    "                             env_extra=env_extra,\n",
    "                             log_directory=log_directory,\n",
    "                             local_directory=local_directory)\n",
    "        cluster.scale(n_workers)\n",
    "\n",
    "    else:\n",
    "        cluster = LocalCluster(n_workers=n_workers, threads_per_worker=1,\n",
    "                               processes=False)\n",
    "\n",
    "    return cluster\n"
   ]
  },
  {
   "cell_type": "code",
   "execution_count": 27,
   "metadata": {},
   "outputs": [
    {
     "name": "stderr",
     "output_type": "stream",
     "text": [
      "/sequoia/data1/vcabanne/miniconda3/envs/main/lib/python3.7/site-packages/distributed/deploy/local.py:138: UserWarning: diagnostics_port has been deprecated. Please use `dashboard_address=` instead\n",
      "  \"diagnostics_port has been deprecated. \"\n",
      "/sequoia/data1/vcabanne/miniconda3/envs/main/lib/python3.7/site-packages/distributed/bokeh/core.py:74: UserWarning: \n",
      "Port 8787 is already in use. \n",
      "Perhaps you already have a cluster running?\n",
      "Hosting the diagnostics dashboard on a random port instead.\n",
      "  warnings.warn(\"\\n\" + msg)\n"
     ]
    },
    {
     "ename": "NameError",
     "evalue": "name 'MULANLoader' is not defined",
     "output_type": "error",
     "traceback": [
      "\u001b[0;31m---------------------------------------------------------------------------\u001b[0m",
      "\u001b[0;31mNameError\u001b[0m                                 Traceback (most recent call last)",
      "\u001b[0;32m<ipython-input-27-6ab978eadf3d>\u001b[0m in \u001b[0;36m<module>\u001b[0;34m\u001b[0m\n\u001b[1;32m      6\u001b[0m \u001b[0;34m\u001b[0m\u001b[0m\n\u001b[1;32m      7\u001b[0m \u001b[0;31m# MULAN data\u001b[0m\u001b[0;34m\u001b[0m\u001b[0;34m\u001b[0m\u001b[0;34m\u001b[0m\u001b[0m\n\u001b[0;32m----> 8\u001b[0;31m \u001b[0mMULAN_datasets\u001b[0m \u001b[0;34m=\u001b[0m \u001b[0mMULANLoader\u001b[0m\u001b[0;34m.\u001b[0m\u001b[0mdatasets\u001b[0m\u001b[0;34m\u001b[0m\u001b[0;34m\u001b[0m\u001b[0m\n\u001b[0m\u001b[1;32m      9\u001b[0m MULAN_datasets = [\n\u001b[1;32m     10\u001b[0m     \u001b[0;34m'birds'\u001b[0m\u001b[0;34m,\u001b[0m\u001b[0;34m\u001b[0m\u001b[0;34m\u001b[0m\u001b[0m\n",
      "\u001b[0;31mNameError\u001b[0m: name 'MULANLoader' is not defined"
     ]
    }
   ],
   "source": [
    "# architecture\n",
    "on_server = True\n",
    "n_workers = 1\n",
    "cluster = get_dask_cluster(on_server, n_workers)\n",
    "client = Client(cluster)\n",
    "\n",
    "# MULAN data\n",
    "MULAN_datasets = MULANLoader.datasets\n",
    "MULAN_datasets = [\n",
    "    'birds',\n",
    "    'CAL500',\n",
    "    'emotions',\n",
    "    'enron',\n",
    "    'flags',\n",
    "    'genbase',\n",
    "    'medical',\n",
    "    'scene',\n",
    "    'yeast'\n",
    "]\n",
    "futures = client.map(MULAN_experiment, MULAN_datasets)\n",
    "# results = client.gather(futures)\n",
    "\n",
    "# LIBSSM data\n",
    "LIBSVM_datasets = LIBSVMLoader.datasets\n",
    "LIBSVM_datasets = [\n",
    "    'iris',\n",
    "    'wine',\n",
    "    'svmguide2',\n",
    "    'glass',\n",
    "    'svmguide4',\n",
    "    'vehicle',\n",
    "    'vowel',\n",
    "    'dna'\n",
    "]\n",
    "futures = client.map(LIBSVM_experiment, LIBSVM_datasets)\n",
    "# results = client.gather(futures)\n",
    "\n",
    "# Synthetic data\n",
    "datasets = ['CL-1000', 'CL-400', 'CL-100',\n",
    "            'ML-1000', 'ML-400', 'ML-100']\n",
    "futures = client.map(synthetic_experiment, datasets)\n",
    "results = client.gather(futures)"
   ]
  },
  {
   "cell_type": "code",
   "execution_count": 28,
   "metadata": {},
   "outputs": [
    {
     "data": {
      "application/vnd.jupyter.widget-view+json": {
       "model_id": "9d292c9e5a1647dd8e44cb651cc739f9",
       "version_major": 2,
       "version_minor": 0
      },
      "text/plain": [
       "VBox(children=(HTML(value='<h2>SGECluster</h2>'), HBox(children=(HTML(value='\\n<div>\\n  <style scoped>\\n    .d…"
      ]
     },
     "metadata": {},
     "output_type": "display_data"
    }
   ],
   "source": [
    "cluster"
   ]
  },
  {
   "cell_type": "code",
   "execution_count": 30,
   "metadata": {},
   "outputs": [
    {
     "data": {
      "text/html": [
       "<table style=\"border: 2px solid white;\">\n",
       "<tr>\n",
       "<td style=\"vertical-align: top; border: 0px solid white\">\n",
       "<h3>Client</h3>\n",
       "<ul>\n",
       "  <li><b>Scheduler: </b>tcp://10.149.0.19:41047\n",
       "  <li><b>Dashboard: </b><a href='http://10.149.0.19:47144/status' target='_blank'>http://10.149.0.19:47144/status</a>\n",
       "</ul>\n",
       "</td>\n",
       "<td style=\"vertical-align: top; border: 0px solid white\">\n",
       "<h3>Cluster</h3>\n",
       "<ul>\n",
       "  <li><b>Workers: </b>1</li>\n",
       "  <li><b>Cores: </b>1</li>\n",
       "  <li><b>Memory: </b>8.00 GB</li>\n",
       "</ul>\n",
       "</td>\n",
       "</tr>\n",
       "</table>"
      ],
      "text/plain": [
       "<Client: scheduler='tcp://10.149.0.19:41047' processes=1 cores=1>"
      ]
     },
     "execution_count": 30,
     "metadata": {},
     "output_type": "execute_result"
    }
   ],
   "source": [
    "client"
   ]
  },
  {
   "cell_type": "code",
   "execution_count": 17,
   "metadata": {},
   "outputs": [
    {
     "ename": "AttributeError",
     "evalue": "'Client' object has no attribute 'get_logs'",
     "output_type": "error",
     "traceback": [
      "\u001b[0;31m---------------------------------------------------------------------------\u001b[0m",
      "\u001b[0;31mAttributeError\u001b[0m                            Traceback (most recent call last)",
      "\u001b[0;32m<ipython-input-17-d88836c95f4f>\u001b[0m in \u001b[0;36m<module>\u001b[0;34m\u001b[0m\n\u001b[0;32m----> 1\u001b[0;31m \u001b[0mclient\u001b[0m\u001b[0;34m.\u001b[0m\u001b[0mget_logs\u001b[0m\u001b[0;34m(\u001b[0m\u001b[0;34m)\u001b[0m\u001b[0;34m\u001b[0m\u001b[0;34m\u001b[0m\u001b[0m\n\u001b[0m",
      "\u001b[0;31mAttributeError\u001b[0m: 'Client' object has no attribute 'get_logs'"
     ]
    }
   ],
   "source": [
    "client."
   ]
  },
  {
   "cell_type": "code",
   "execution_count": 20,
   "metadata": {},
   "outputs": [
    {
     "data": {
      "text/plain": [
       "<class 'distributed.scheduler._StateLegacyMapping'>({})"
      ]
     },
     "execution_count": 20,
     "metadata": {},
     "output_type": "execute_result"
    }
   ],
   "source": [
    "cluster.scheduler.processing"
   ]
  },
  {
   "cell_type": "code",
   "execution_count": null,
   "metadata": {},
   "outputs": [],
   "source": []
  }
 ],
 "metadata": {
  "kernelspec": {
   "display_name": "Python 3",
   "language": "python",
   "name": "python3"
  },
  "language_info": {
   "codemirror_mode": {
    "name": "ipython",
    "version": 3
   },
   "file_extension": ".py",
   "mimetype": "text/x-python",
   "name": "python",
   "nbconvert_exporter": "python",
   "pygments_lexer": "ipython3",
   "version": "3.7.9"
  }
 },
 "nbformat": 4,
 "nbformat_minor": 4
}
