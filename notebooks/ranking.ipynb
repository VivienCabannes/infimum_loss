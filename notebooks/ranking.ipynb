{
 "cells": [
  {
   "cell_type": "code",
   "execution_count": 1,
   "metadata": {},
   "outputs": [],
   "source": [
    "import sys\n",
    "sys.path.append('..')\n",
    "import matplotlib.pyplot as plt\n",
    "import numpy as np\n",
    "\n",
    "from kernel import KernelComputer, KernelRegressor\n",
    "from ranking import BasicFasSolver, IlpSolver, AC, IL, SP\n",
    "from dataloader import Synthesizer\n",
    "from ranking.fassolver.embedding import get_sym_embs"
   ]
  },
  {
   "cell_type": "code",
   "execution_count": 2,
   "metadata": {},
   "outputs": [],
   "source": [
    "%matplotlib inline\n",
    "np.random.seed(0)"
   ]
  },
  {
   "cell_type": "code",
   "execution_count": 3,
   "metadata": {},
   "outputs": [],
   "source": [
    "class DF:\n",
    "    def __init__(self, kernel, fas_solver):\n",
    "        self.kernel = kernel\n",
    "        self.solver = fas_solver\n",
    "        self.is_ilp = type(self.solver) == IlpSolver\n",
    "\n",
    "    def train(self, x_train, S_train, lambd, threshold=1e-3, nb_epochs=1, solver=None, quadratic=False, method='FW'):\n",
    "        if solver is None:\n",
    "            solver = self.solver\n",
    "        n_train = len(S_train)\n",
    "\n",
    "        self.kernel.set_support(x_train)\n",
    "        K = self.kernel.get_k()\n",
    "        w, v = np.linalg.eigh(K)\n",
    "        w_reg = w / (w + n_train * lambd)\n",
    "        alpha = (w_reg * v) @ v.T\n",
    "        \n",
    "        if quadratic:\n",
    "            alpha = alpha.T @ alpha\n",
    "            y_train = self.quadratic_disambiguation(alpha, S_train, method, nb_epochs, solver)\n",
    "        else:\n",
    "            y_train = self.disambiguation(alpha, S_train, threshold, solver)\n",
    "\n",
    "        self.beta = v / (w + n_train * lambd) @ (v.T @ y_train)\n",
    "        self.y_train = y_train\n",
    "        \n",
    "    def __call__(self, x, verbose=False):\n",
    "        out = self.kernel(x).T @ self.beta\n",
    "        out *= -1\n",
    "        for i in range(len(x)):\n",
    "            if self.is_ilp:\n",
    "                self.solver.set_objective(out[i])\n",
    "                out[i] = self.solver.solve()\n",
    "            else:\n",
    "                self.solver.solve_out(out[i], out[i])\n",
    "            if verbose and not (100 * i) % len(x):\n",
    "                print(i, end=\", \")\n",
    "        return out\n",
    "    \n",
    "    @staticmethod\n",
    "    def disambiguation(alpha, S_train, threshold, solver):\n",
    "        is_ilp = type(solver) == IlpSolver\n",
    "        y_train = S_train.astype(np.float)\n",
    "        const = S_train.astype(np.float)\n",
    "\n",
    "        z = np.zeros(y_train.shape)\n",
    "        z_old = np.ones(y_train.shape)\n",
    "        while not np.abs(z - z_old).max() > 1e-3:\n",
    "            z_old[:] = z[:]\n",
    "\n",
    "            # Minimization over z\n",
    "            np.matmul(alpha, y_train, out=z)\n",
    "            z *= -1\n",
    "            for i in range(len(z)):\n",
    "                if is_ilp:\n",
    "                    solver.set_objective(z[i])\n",
    "                    z[i] = solver.solve()\n",
    "                else:\n",
    "                    solver.solve_out(z[i], z[i])\n",
    "\n",
    "            # Minimization over y\n",
    "            np.matmul(alpha, z, out=y_train)\n",
    "            y_train *= -1\n",
    "            for j in range(len(y_train)):\n",
    "                if is_ilp:\n",
    "                    solver.set_constraints(const[j])\n",
    "                    solver.set_objective(y_train[j])\n",
    "                    y_train[j] = solver.solve()\n",
    "                else:\n",
    "                    solver.solve_const_out(y_train[j], const[j], y_train[j])\n",
    "    \n",
    "            if is_ilp:\n",
    "                solver.reset_constraints()\n",
    "\n",
    "        return y_train\n",
    "        \n",
    "    @staticmethod\n",
    "    def quadratic_disambiguation(alpha, S_train, method, nb_epochs, solver):\n",
    "        is_ilp = type(solver) == IlpSolver\n",
    "        y_train = S_train.astype(np.float)\n",
    "        const = S_train.astype(np.float)\n",
    "\n",
    "#         alpha -= np.eye(n_train)\n",
    "        if method.lower() == 'bw':\n",
    "            # Blockwise Frank-Wolfe    \n",
    "            n_train = len(y_train)\n",
    "            for t in range(nb_epochs):\n",
    "                i = np.random.randint(n_train)\n",
    "\n",
    "                if is_ilp:\n",
    "                    solver.set_constraints(const[i])\n",
    "                    solver.set_objective(-alpha[i] @ y_train)\n",
    "                    dir_bw = solver.solve()\n",
    "                else:\n",
    "                    dir_bw = solver.solve_const(-alpha[i] @ y_train, const[i])\n",
    "\n",
    "                y_train[i] *= t / (2*n_train + t)\n",
    "                y_train[i] += (2*n_train / (2*n_train + t)) * dir_bw\n",
    "    \n",
    "        else:\n",
    "            # Frank-Wolfe\n",
    "            for t in range(nb_epochs):\n",
    "                dir_fw = alpha @ y_train\n",
    "                dir_fw *= -1\n",
    "                for i in range(len(dir_fw)):\n",
    "                    if is_ilp:\n",
    "                        solver.set_constraints(const[i])\n",
    "                        solver.set_objective(dir_fw[i])\n",
    "                        dir_fw[j] = solver.solve()\n",
    "                    else:\n",
    "                        solver.solve_const_out(dir_fw[i], const[i], dir_fw[i])\n",
    "\n",
    "                dir_fw -= y_train\n",
    "                dir_fw *= 2 / (t + 2)\n",
    "                y_train += dir_fw\n",
    "    \n",
    "        if is_ilp:\n",
    "            solver.reset_constraints()\n",
    "            \n",
    "#         y_train = aux_argmax == y_train.argmax(axis=1)[:, np.newaxis]\n",
    "        return y_train"
   ]
  },
  {
   "cell_type": "code",
   "execution_count": 4,
   "metadata": {},
   "outputs": [],
   "source": [
    "import numba\n",
    "\n",
    "\n",
    "@numba.jit(\"(f8[:, :], f8[:, :], i8[:, :])\", nopython=True)\n",
    "def fill_distance(dist, y_score, ind_map):\n",
    "    m = len(ind_map)\n",
    "    for j in range(m):\n",
    "        for i in range(j):\n",
    "            ind = ind_map[i, j]\n",
    "            dist[:,ind] = y_score[i] - y_score[j]"
   ]
  },
  {
   "cell_type": "markdown",
   "metadata": {},
   "source": [
    "## Toy problem\n",
    "\n",
    "Let's imagine a toy problem, where we have to order $m$ linear forms over $X = \\mathbb{R}$"
   ]
  },
  {
   "cell_type": "code",
   "execution_count": 5,
   "metadata": {},
   "outputs": [],
   "source": [
    "m = 4\n",
    "n_test = 200\n",
    "\n",
    "datagen = Synthesizer('RK-' + str(m))\n",
    "x_test, (y_test, y_score) = datagen.get_testset(n_test, verbose=True)"
   ]
  },
  {
   "cell_type": "code",
   "execution_count": 6,
   "metadata": {},
   "outputs": [],
   "source": [
    "ind_map = datagen.loader.ind_map"
   ]
  },
  {
   "cell_type": "code",
   "execution_count": 7,
   "metadata": {},
   "outputs": [
    {
     "data": {
      "image/png": "[encoded data removed]",
      "text/plain": [
       "<Figure size 936x360 with 2 Axes>"
      ]
     },
     "metadata": {},
     "output_type": "display_data"
    }
   ],
   "source": [
    "fig, [ax1, ax2] = plt.subplots(1, 2, figsize=(13,5))\n",
    "y = get_sym_embs(y_test, ind_map).sum(axis=-1).argsort()\n",
    "for i in range(y.shape[1]):\n",
    "    ax1.scatter(x_test, (y == i).argmax(axis=1))\n",
    "    ax2.plot(x_test, y_score[i], linewidth=5)\n",
    "ax1.set_title('Ground truth', size=25)\n",
    "ax1.set_ylabel('items preferences', size=25)\n",
    "ax2.set_title('Underlying scores', size=25)\n",
    "ax2.set_ylabel('scores', size=25)\n",
    "for ax in [ax1, ax2]:\n",
    "    ax.set_xlabel(\"x\", size=25)\n",
    "    ax.tick_params(\n",
    "        axis='both',\n",
    "        which='both',\n",
    "        bottom=False,\n",
    "        left=False,\n",
    "        labelbottom=False,\n",
    "        labelleft=False)\n",
    "fig.savefig('savings/ranking_setting.pdf')"
   ]
  },
  {
   "cell_type": "code",
   "execution_count": 8,
   "metadata": {},
   "outputs": [],
   "source": [
    "nb_folds = 8\n",
    "corruptions = np.linspace(0, 1, num=8)\n",
    "sigmas = [1e0, 5e-1, 1e-1, 5e-2]\n",
    "lambdas = [1e3, 1e0, 1e-3, 1e-6]\n",
    "\n",
    "n_train = 20\n",
    "n_test = 50"
   ]
  },
  {
   "cell_type": "code",
   "execution_count": 9,
   "metadata": {},
   "outputs": [],
   "source": [
    "kernel = KernelComputer('Gaussian', sigma=1)\n",
    "kernel_reg = KernelRegressor(kernel)"
   ]
  },
  {
   "cell_type": "code",
   "execution_count": 10,
   "metadata": {},
   "outputs": [],
   "source": [
    "m = 10\n",
    "datagen = Synthesizer('RK-' + str(m))\n",
    "ind_map = datagen.loader.ind_map\n",
    "\n",
    "solver = IlpSolver(ind_map)\n",
    "solver.choose_solver_method('primal')\n",
    "solver.shut_up()\n",
    "\n",
    "# solver = BasicFasSolver(ind_map)\n",
    "\n",
    "msolver = IlpSolver(ind_map)\n",
    "msolver.choose_solver_method('dual')\n",
    "# msolver.shut_up()\n",
    "\n",
    "met_ac = AC(kernel_reg.kernel, solver)\n",
    "met_il = IL(kernel_reg.kernel, solver)\n",
    "met_df = DF(kernel_reg.kernel, solver)"
   ]
  },
  {
   "cell_type": "code",
   "execution_count": null,
   "metadata": {
    "scrolled": true
   },
   "outputs": [
    {
     "name": "stdout",
     "output_type": "stream",
     "text": [
      "0.0,1.0,2.0,4.0,5.0,7.0,8.0,10.0,0.0,1.0,2.0,4.0,5.0,7.0,8.0,10.0,0.0,1.0,2.0,4.0,5.0,7.0,8.0,10.0,0.0,1.0,2.0,4.0,5.0,7.0,8.0,10.0,0.0,1.0,2.0,4.0,5.0,7.0,8.0,10.0,0.0,1.0,2.0,4.0,5.0,7.0,8.0,10.0,0.0,1.0,2.0,4.0,5.0,7.0,8.0,10.0,0.0,1.0,2.0,4.0,5.0,7.0,8.0,10.0,0.0,1.0,2.0,4.0,5.0,7.0,8.0,10.0,0.0,1.0,2.0,4.0,5.0,7.0,8.0,10.0,0.0,1.0,2.0,4.0,5.0,7.0,8.0,10.0,0.0,1.0,2.0,4.0,5.0,7.0,8.0,10.0,0.0,1.0,2.0,4.0,5.0,7.0,8.0,10.0,0.0,1.0,2.0,4.0,5.0,7.0,8.0,10.0,0.0,1.0,2.0,4.0,5.0,7.0,8.0,10.0,0.0,1.0,2.0,4.0,5.0,7.0,8.0,10.0,0.0,1.0,2.0,4.0,5.0,7.0,8.0,10.0,0.0,1.0,2.0,4.0,5.0,7.0,8.0,10.0,0.0,1.0,2.0,4.0,5.0,7.0,8.0,10.0,0.0,1.0,2.0,4.0,5.0,7.0,8.0,10.0,0.0,1.0,2.0,4.0,5.0,7.0,8.0,10.0,0.0,1.0,2.0,4.0,5.0,7.0,8.0,10.0,0.0,1.0,2.0,4.0,5.0,7.0,8.0,10.0,0.0,1.0,2.0,4.0,5.0,7.0,8.0,10.0,0.0,1.0,2.0,4.0,5.0,7.0,8.0,10.0,0.0,1.0,2.0,4.0,5.0,7.0,8.0,10.0,0.0,1.0,2.0,4.0,5.0,7.0,8.0,10.0,0.0,1.0,2.0,4.0,5.0,7.0,8.0,10.0,0.0,1.0,2.0,4.0,5.0,7.0,8.0,10.0,0.0,1.0,2.0,4.0,5.0,7.0,8.0,10.0,0.0,1.0,2.0,4.0,5.0,7.0,8.0,10.0,0.0,1.0,2.0,4.0,5.0,7.0,8.0,10.0,0.0,1.0,2.0,4.0,5.0,7.0,8.0,10.0,0.0,1.0,2.0,4.0,5.0,7.0,8.0,10.0,0.0,1.0,2.0,4.0,5.0,7.0,8.0,10.0,0.0,1.0,2.0,4.0,5.0,7.0,8.0,10.0,0.0,1.0,2.0,4.0,5.0,7.0,8.0,10.0,0.0,1.0,2.0,4.0,5.0,7.0,8.0,10.0,0.0,1.0,2.0,4.0,5.0,7.0,8.0,10.0,0.0,1.0,2.0,4.0,5.0,7.0,8.0,10.0,0.0,1.0,2.0,4.0,5.0,7.0,8.0,10.0,0.0,1.0,2.0,4.0,5.0,7.0,8.0,10.0,0.0,1.0,2.0,4.0,5.0,7.0,8.0,10.0,0.0,1.0,2.0,4.0,5.0,7.0,8.0,10.0,0.0,1.0,2.0,4.0,5.0,7.0,8.0,10.0,0.0,1.0,2.0,4.0,5.0,7.0,8.0,10.0,0.0,1.0,2.0,4.0,5.0,7.0,8.0,10.0,0.0,1.0,2.0,4.0,5.0,7.0,8.0,10.0,0.0,1.0,2.0,4.0,5.0,7.0,8.0,10.0,0.0,1.0,2.0,4.0,5.0,7.0,8.0,10.0,0.0,1.0,2.0,4.0,5.0,7.0,8.0,10.0,0.0,1.0,2.0,4.0,5.0,7.0,8.0,10.0,0.0,1.0,2.0,4.0,5.0,7.0,8.0,10.0,0.0,1.0,2.0,4.0,5.0,7.0,8.0,10.0,0.0,1.0,2.0,4.0,5.0,7.0,8.0,10.0,0.0,1.0,2.0,4.0,5.0,7.0,8.0,10.0,0.0,1.0,2.0,4.0,5.0,7.0,8.0,10.0,0.0,1.0,2.0,4.0,5.0,7.0,8.0,10.0,0.0,1.0,2.0,4.0,5.0,7.0,8.0,10.0,0.0,1.0,2.0,4.0,5.0,7.0,8.0,10.0,0.0,1.0,2.0,4.0,5.0,7.0,8.0,10.0,0.0,1.0,2.0,4.0,5.0,7.0,8.0,10.0,0.0,1.0,2.0,4.0,5.0,7.0,8.0,10.0,0.0,1.0,2.0,4.0,5.0,"
     ]
    }
   ],
   "source": [
    "shape_err = (len(corruptions), nb_folds, len(sigmas), len(lambdas))\n",
    "\n",
    "err_ac = -np.ones(shape_err)\n",
    "err_il = -np.ones(shape_err)\n",
    "err_df = -np.ones(shape_err)\n",
    "\n",
    "for fold in range(nb_folds):\n",
    "    datagen = Synthesizer('RK-' + str(m))\n",
    "    x_train, (y_train, y_score) = datagen.get_trainset(n_train, verbose=True)\n",
    "    x_test, y_test = datagen.get_trainset(n_test)\n",
    "    kernel_reg.set_support(x_train[:, np.newaxis])\n",
    "    n_train, dim = x_train[:, np.newaxis].shape    \n",
    "\n",
    "    for i_s, c_sigma in enumerate(sigmas):\n",
    "        sigma = c_sigma * dim\n",
    "        kernel_reg.update_sigma(sigma)\n",
    "\n",
    "        for i_l, c_lambda in enumerate(lambdas):\n",
    "            lambd = c_lambda / np.sqrt(n_train)\n",
    "            kernel_reg.update_lambda(lambd)\n",
    "            alpha_train = kernel_reg(x_train[:, np.newaxis])\n",
    "            alpha_train += alpha_train.T\n",
    "\n",
    "            for i_c, corruption in enumerate(corruptions):\n",
    "                S_train = y_train.copy()\n",
    "                \n",
    "                dist = np.empty(S_train.shape)\n",
    "                fill_distance(dist, y_score, datagen.loader.ind_map)\n",
    "                np.abs(dist, out=dist)\n",
    "                dist /= np.max(dist, axis=1)[:, np.newaxis]\n",
    "                ind_lost = dist > 1 - corruption\n",
    "                S_train[ind_lost] = 0\n",
    "                \n",
    "#                 S_train[np.random.rand(*S_train.shape) < corruption] = 0\n",
    "\n",
    "                y_df = DF.disambiguation(alpha_train, S_train, 1e-3, solver)\n",
    "                met_df.beta = kernel_reg.K_inv @ y_df\n",
    "                met_il.train(None, S_train, None, K_inv=-kernel_reg.K_inv)\n",
    "                met_ac.train(None, S_train, None, K_inv=-kernel_reg.K_inv)\n",
    "\n",
    "                y_df = met_df(x_test[:, np.newaxis], verbose=False)\n",
    "                y_il = met_il(x_test[:, np.newaxis], verbose=False)\n",
    "                y_ac = met_ac(x_test[:, np.newaxis], verbose=False)\n",
    "            \n",
    "                err_df[i_c, fold, i_s, i_l] = ((2*(y_df > 0) - 1) != y_test).mean()\n",
    "                err_il[i_c, fold, i_s, i_l] = ((2*(y_il > 0) - 1) != y_test).mean()\n",
    "                err_ac[i_c, fold, i_s, i_l] = ((2*(y_ac > 0) - 1) != y_test).mean()\n",
    "                print((corruption * 10) // 1, end=',')"
   ]
  },
  {
   "cell_type": "code",
   "execution_count": null,
   "metadata": {},
   "outputs": [],
   "source": [
    "mus = np.empty((3, len(corruptions)))\n",
    "stds = np.empty((3, len(corruptions)))\n",
    "\n",
    "for err, i in zip([err_ac, err_il, err_df], [0, 1, 2]):\n",
    "    tmp = err.reshape(err.shape[0], err.shape[1], -1)\n",
    "    mu = tmp.mean(axis=1)\n",
    "    std = tmp.std(axis=1)\n",
    "    ind = mu.argmin(axis=-1)\n",
    "    for j in range(len(ind)):\n",
    "        mus[i, j] = mu[j, ind[j]]\n",
    "        stds[i, j] = std[j, ind[j]]"
   ]
  },
  {
   "cell_type": "code",
   "execution_count": null,
   "metadata": {},
   "outputs": [],
   "source": [
    "fig, ax = plt.subplots()\n",
    "# a = ax.errorbar([100*i for i in corruptions[:-1]], mus[0][:-1], .5*stds[0][:-1], capsize=10, linewidth=3, capthick=3)\n",
    "b = ax.errorbar([100*i for i in corruptions[:-1]], mus[1][:-1], .5*stds[1][:-1], capsize=10, linewidth=3, capthick=3)\n",
    "c = ax.errorbar([100*i for i in corruptions[:-1]], mus[2][:-1], .5*stds[2][:-1], capsize=10, linewidth=3, capthick=3)\n",
    "# ax.legend([a, b, c], ['AC', \"IL\", \"DF\"], prop={'size':15})\n",
    "ax.grid()\n",
    "ax.set_title('Ranking, m=10', size=25)\n",
    "ax.set_ylabel('Loss', size=20)\n",
    "ax.set_xlabel('Corruption (in %)', size=20)\n",
    "ax.tick_params(axis='both', which='major', labelsize=12)\n",
    "plt.tight_layout()\n",
    "fig.savefig('savings/RK-10.pdf')"
   ]
  },
  {
   "cell_type": "code",
   "execution_count": null,
   "metadata": {},
   "outputs": [],
   "source": [
    "fig, ax = plt.subplots()\n",
    "a = ax.errorbar([100*i for i in corruptions[:]], mus[0][:], .5*stds[0][:], capsize=10, linewidth=3, capthick=3)\n",
    "b = ax.errorbar([100*i for i in corruptions[:]], mus[1][:], .5*stds[1][:], capsize=10, linewidth=3, capthick=3)\n",
    "ax.legend([a, b], ['AC', \"IL\"], prop={'size':15})\n",
    "ax.grid()\n",
    "ax.set_title('Ranking, m=10', size=25)\n",
    "ax.set_ylabel('Loss', size=20)\n",
    "ax.set_xlabel('Corruption (in %)', size=20)\n",
    "ax.tick_params(axis='both', which='major', labelsize=12)\n",
    "plt.tight_layout()\n",
    "fig.savefig('savings/RK-10.pdf')"
   ]
  },
  {
   "cell_type": "code",
   "execution_count": null,
   "metadata": {},
   "outputs": [],
   "source": [
    "def show_reconstruction(x_test, y_ac, y_il, y_test, ind_map):\n",
    "    m = len(ind_map)\n",
    "    fig, (ax1, ax2, ax3) = plt.subplots(1, 3, figsize=(20, 3))\n",
    "\n",
    "    s_ac = get_sym_embs(y_ac, ind_map).sum(axis=1).argsort()[:,::-1]\n",
    "    s_il = get_sym_embs(y_il, ind_map).sum(axis=1).argsort()[:,::-1]\n",
    "    s_t = get_sym_embs(y_test, ind_map).sum(axis=1).argsort()[:,::-1]\n",
    "    for i in range(m):\n",
    "        ax2.scatter(x_test, (s_ac==i).argmax(axis=1))\n",
    "        ax1.scatter(x_test, (s_il==i).argmax(axis=1))\n",
    "        ax3.scatter(x_test, (s_t==i).argmax(axis=1))\n",
    "\n",
    "    ax2.set_title(\"AC Reconstruction\", size=25)\n",
    "    ax1.set_title(\"IL Reconstruction\", size=25)\n",
    "    ax3.set_title(\"Ground truth\", size=25)\n",
    "    fig.savefig('savings/ranking_reconstruction.pdf')\n",
    "    \n",
    "    \n",
    "show_reconstruction(x_test, y_ac, y_il, y_test, ind_map)"
   ]
  },
  {
   "cell_type": "code",
   "execution_count": null,
   "metadata": {},
   "outputs": [],
   "source": []
  }
 ],
 "metadata": {
  "kernelspec": {
   "display_name": "Python 3",
   "language": "python",
   "name": "python3"
  },
  "language_info": {
   "codemirror_mode": {
    "name": "ipython",
    "version": 3
   },
   "file_extension": ".py",
   "mimetype": "text/x-python",
   "name": "python",
   "nbconvert_exporter": "python",
   "pygments_lexer": "ipython3",
   "version": "3.7.5"
  }
 },
 "nbformat": 4,
 "nbformat_minor": 4
}
