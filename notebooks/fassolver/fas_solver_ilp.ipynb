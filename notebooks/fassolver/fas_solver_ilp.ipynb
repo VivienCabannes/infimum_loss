{
 "cells": [
  {
   "cell_type": "markdown",
   "metadata": {},
   "source": [
    "# Integer Linear Programming (ILP) Fas Solver\n",
    "\n",
    "Let's solve the minimum feedback arc set problem, using a linear programming relaxation.\n",
    "Notation and embeddings follow the ``ranking_embedding`` one."
   ]
  },
  {
   "cell_type": "code",
   "execution_count": 1,
   "metadata": {},
   "outputs": [],
   "source": [
    "import sys\n",
    "import cplex as cp\n",
    "import numba\n",
    "import numpy as np\n",
    "sys.path.append('../..')\n",
    "from ranking.fassolver.embedding import (\n",
    "    fill_sym_emb, fill_emb_f8, canonical_map, \n",
    "    get_sym_emb, get_emb, get_emb_from_rank, fill_emb_from_rank\n",
    ") "
   ]
  },
  {
   "cell_type": "code",
   "execution_count": 2,
   "metadata": {},
   "outputs": [],
   "source": [
    "np.random.seed(0)"
   ]
  },
  {
   "cell_type": "markdown",
   "metadata": {},
   "source": [
    "Let's consider a feedback arc set problem, with target $$\\inf <\\phi(y), c>,$$ and constraint \n",
    "$$\\phi(y)_{ij} = \\text{const}_{ij}, \\qquad\\text{if}\\qquad \\text{const}_{ij} \\neq 0.$$"
   ]
  },
  {
   "cell_type": "code",
   "execution_count": 3,
   "metadata": {},
   "outputs": [],
   "source": [
    "m = 10\n",
    "m_emb = (m*(m-1)) // 2\n",
    "ind_map = canonical_map(m)\n",
    "c = np.random.randn(m_emb)"
   ]
  },
  {
   "cell_type": "markdown",
   "metadata": {},
   "source": [
    "Let's first solve the unconstraint problem.\n",
    "\n",
    "For this we will consider the Kendall's embedding, and try to approach the convex hull of $(\\phi(\\sigma))_{\\sigma\\in\\mathfrak{S}}$.\n",
    "\n",
    "To do so, we consider the transitivity constraints, for $i < j < k$\n",
    "$$\n",
    "    \\phi_{ij} + \\phi{jk} - 1 \\leq \\phi_{ik} \\leq \\phi_{ij} + \\phi_{jk} + 1.\n",
    "$$\n",
    "We also consider the relaxation constraints $\\phi_{ij} \\in [-1, 1]$."
   ]
  },
  {
   "cell_type": "code",
   "execution_count": 4,
   "metadata": {},
   "outputs": [
    {
     "data": {
      "text/plain": [
       "range(0, 45)"
      ]
     },
     "execution_count": 4,
     "metadata": {},
     "output_type": "execute_result"
    }
   ],
   "source": [
    "# Instanciate solver\n",
    "solver = cp.Cplex()\n",
    "\n",
    "# Instanciate variables with relaxation constraints\n",
    "solver.variables.add(ub=[1.0] * m_emb, lb=[-1.0] * m_emb)"
   ]
  },
  {
   "cell_type": "code",
   "execution_count": 5,
   "metadata": {},
   "outputs": [
    {
     "name": "stdout",
     "output_type": "stream",
     "text": [
      "120\n",
      "120\n"
     ]
    },
    {
     "data": {
      "text/plain": [
       "range(120, 240)"
      ]
     },
     "execution_count": 5,
     "metadata": {},
     "output_type": "execute_result"
    }
   ],
   "source": [
    "# Set transitivity constraints\n",
    "\n",
    "# m = 10\n",
    "# ind_map = canonical_map(m)\n",
    "\n",
    "nb_const = ((m * (m + 1) * (2*m+1)) // 6 - 3 * (m * (m-1)) // 2 - m) // 2\n",
    "tr_const = np.empty((nb_const, 3), dtype=np.int)\n",
    "\n",
    "@numba.jit(\"(i8[:, :], i8[:, :])\", nopython=True)\n",
    "def _fill_tr_const(tr_const, ind_map):\n",
    "    m = len(ind_map)\n",
    "    ind = 0\n",
    "    for k in range(m):\n",
    "        for j in range(k):\n",
    "            for i in range(j):\n",
    "                tr_const[ind, 0] = ind_map[i, j]\n",
    "                tr_const[ind, 1] = ind_map[j, k]\n",
    "                tr_const[ind, 2] = ind_map[i, k]\n",
    "                ind += 1\n",
    "    print(ind)\n",
    "print(nb_const)\n",
    "    \n",
    "_fill_tr_const(tr_const, ind_map)\n",
    "\n",
    "# Formatting for cplex\n",
    "cp_const = [[i, [1.0, 1.0, -1.0]] for i in tr_const.tolist()]\n",
    "\n",
    "# x_ij + x_jk - x_ik <= 1\n",
    "solver.linear_constraints.add(lin_expr=cp_const,\n",
    "                              senses='L' * len(cp_const),\n",
    "                              rhs=[1.0] * len(cp_const))\n",
    "# x_ij + x_jk - x_ik >= -1\n",
    "solver.linear_constraints.add(lin_expr=cp_const,\n",
    "                              senses='G' * len(cp_const),\n",
    "                              rhs=[-1.0] * len(cp_const))"
   ]
  },
  {
   "cell_type": "code",
   "execution_count": 6,
   "metadata": {},
   "outputs": [],
   "source": [
    "# Set objective\n",
    "solver.objective.set_linear(enumerate(c))"
   ]
  },
  {
   "cell_type": "code",
   "execution_count": 7,
   "metadata": {},
   "outputs": [
    {
     "name": "stdout",
     "output_type": "stream",
     "text": [
      "method for linear optimization:\n",
      "  0 = automatic\n",
      "  1 = primal simplex\n",
      "  2 = dual simplex\n",
      "  3 = network simplex\n",
      "  4 = barrier\n",
      "  5 = sifting\n",
      "  6 = concurrent optimizers\n",
      "Solver is set to 1.\n"
     ]
    }
   ],
   "source": [
    "# Choose optimization method\n",
    "solver.parameters.lpmethod.set(solver.parameters.lpmethod.values.primal)\n",
    "print(solver.parameters.lpmethod.help())\n",
    "print(\"Solver is set to %d.\" %solver.parameters.lpmethod.get())"
   ]
  },
  {
   "cell_type": "code",
   "execution_count": 8,
   "metadata": {},
   "outputs": [
    {
     "name": "stdout",
     "output_type": "stream",
     "text": [
      "CPXPARAM_Read_DataCheck                          1\n",
      "CPXPARAM_LPMethod                                1\n",
      "Tried aggregator 1 time.\n",
      "No LP presolve or aggregator reductions.\n",
      "Presolve time = 0.06 sec. (0.10 ticks)\n",
      "\n",
      "Iteration log . . .\n",
      "Iteration:     1    Objective     =             6.239876\n"
     ]
    }
   ],
   "source": [
    "# solve the problem\n",
    "solver.solve()"
   ]
  },
  {
   "cell_type": "code",
   "execution_count": 9,
   "metadata": {},
   "outputs": [],
   "source": [
    "sol_emb = np.array(solver.solution.get_values())"
   ]
  },
  {
   "cell_type": "code",
   "execution_count": 10,
   "metadata": {},
   "outputs": [
    {
     "name": "stdout",
     "output_type": "stream",
     "text": [
      "There are no bound infeasibilities.\n",
      "There are no reduced-cost infeasibilities.\n",
      "Maximum Ax-b residual              = 0\n",
      "Maximum c-B'pi residual            = 5.55112e-17\n",
      "Maximum |x|                        = 1\n",
      "Maximum |slack|                    = 2\n",
      "Maximum |pi|                       = 1.34272\n",
      "Maximum |red-cost|                 = 2.797\n",
      "Condition number of unscaled basis = 1.3e+01\n",
      "\n"
     ]
    }
   ],
   "source": [
    "print(solver.solution.get_quality_metrics())"
   ]
  },
  {
   "cell_type": "markdown",
   "metadata": {},
   "source": [
    "## Adding constraints\n",
    "\n",
    "Let's get some constraint from partial ordering"
   ]
  },
  {
   "cell_type": "code",
   "execution_count": 11,
   "metadata": {},
   "outputs": [
    {
     "name": "stdout",
     "output_type": "stream",
     "text": [
      "[ 0.  0.  0.  0.  0.  0.  0.  0.  0.  0.  0.  0.  0.  0.  0.  0.  0.  0.\n",
      "  0.  0.  0.  1.  0.  1.  0.  0.  0.  0.  0.  0.  0.  0. -1.  0.  0. -1.\n",
      "  1.  1.  0.  0. -1.  0.  1.  0.  1.]\n"
     ]
    }
   ],
   "source": [
    "sigma = np.random.permutation(m)\n",
    "const = get_emb(sigma, ind_map)\n",
    "const *= (np.random.randn(m_emb) > .5).astype(np.float)\n",
    "const[const == 0] = 0\n",
    "print(const)"
   ]
  },
  {
   "cell_type": "code",
   "execution_count": 12,
   "metadata": {},
   "outputs": [],
   "source": [
    "# get equality constraints\n",
    "ind = const != 0\n",
    "index = np.arange(m_emb)[ind].tolist()\n",
    "values = const[ind].tolist()\n",
    "\n",
    "# cplex formatting\n",
    "cp_const = [(index[i], values[i]) for i in range(len(index))]\n",
    "\n",
    "solver.variables.set_lower_bounds(cp_const)\n",
    "solver.variables.set_upper_bounds(cp_const)"
   ]
  },
  {
   "cell_type": "code",
   "execution_count": 13,
   "metadata": {},
   "outputs": [
    {
     "name": "stdout",
     "output_type": "stream",
     "text": [
      "CPXPARAM_Read_DataCheck                          1\n",
      "CPXPARAM_LPMethod                                1\n",
      "\n",
      "Iteration log . . .\n",
      "Iteration:     1    Infeasibility =            14.000000\n",
      "Switched to devex.\n",
      "Iteration:     9    Objective     =           -20.260226\n"
     ]
    }
   ],
   "source": [
    "solver.solve()"
   ]
  },
  {
   "cell_type": "code",
   "execution_count": 14,
   "metadata": {},
   "outputs": [
    {
     "name": "stdout",
     "output_type": "stream",
     "text": [
      "There are no bound infeasibilities.\n",
      "There are no reduced-cost infeasibilities.\n",
      "Maximum Ax-b residual              = 0\n",
      "Maximum c-B'pi residual            = 2.22045e-16\n",
      "Maximum |x|                        = 1\n",
      "Maximum |slack|                    = 2\n",
      "Maximum |pi|                       = 2.06343\n",
      "Maximum |red-cost|                 = 3.55621\n",
      "Condition number of unscaled basis = 1.9e+01\n",
      "\n"
     ]
    }
   ],
   "source": [
    "print(solver.solution.get_quality_metrics())"
   ]
  },
  {
   "cell_type": "code",
   "execution_count": 15,
   "metadata": {},
   "outputs": [],
   "source": [
    "# Warmstart\n",
    "basis = solver.solution.basis.get_basis()\n",
    "solver.start.set_start(col_status=basis[0], row_status=basis[1], col_primal=[], row_primal=[], col_dual=[], row_dual=[])\n",
    "\n",
    "# solver.solution.basis.write('sol.bas')\n",
    "# solver.start.read_basis('sol.bas')"
   ]
  },
  {
   "cell_type": "markdown",
   "metadata": {},
   "source": [
    "## Class"
   ]
  },
  {
   "cell_type": "code",
   "execution_count": 16,
   "metadata": {},
   "outputs": [],
   "source": [
    "class IlpSolver:\n",
    "    def __init__(self, ind_map, method='primal'):\n",
    "        self.ind_map = ind_map\n",
    "        \n",
    "        # Instanciate LP\n",
    "        self.solver = cp.Cplex()\n",
    "        self.instanciate_variables()\n",
    "        self.set_transitivity_constraints()\n",
    "        \n",
    "        self.choose_solver_method(method)\n",
    "        self.info_for_reset = None\n",
    "        \n",
    "    def set_constraints(self, const):\n",
    "        \"\"\"\n",
    "        const is of shape (m_emb,), with:\n",
    "           - c[ind_map[i,j]] = 1, means that x_ij = 1\n",
    "           - c[ind_map[i,j]] = -1, means that x_ij = -1\n",
    "           - c[ind_map[i,j]] = 0, means that x_ij is not constrained\n",
    "        \"\"\"\n",
    "        self.reset_constraints()\n",
    "        m_emb = len(const)\n",
    "        \n",
    "        # get equality constraints\n",
    "        ind = const != 0\n",
    "        index = np.arange(m_emb)[ind].tolist()\n",
    "        values = const[ind].tolist()\n",
    "\n",
    "        # cplex formatting\n",
    "        cp_const = [(index[i], values[i]) for i in range(len(index))]\n",
    "        self.solver.variables.set_lower_bounds(cp_const)\n",
    "        self.solver.variables.set_upper_bounds(cp_const)\n",
    "        \n",
    "        self.info_for_reset = index\n",
    "        \n",
    "    def set_objective(self, c):\n",
    "        self.solver.objective.set_linear(enumerate(c))\n",
    "        \n",
    "    def solve(self):\n",
    "        self.solver.solve()\n",
    "        return np.array(self.solver.solution.get_values())\n",
    "    \n",
    "    def get_warmstart(self):\n",
    "        basis = self.solver.solution.basis.get_basis()\n",
    "        return basis\n",
    "    \n",
    "    def set_warmstart(self, basis):\n",
    "        self.solver.start.set_start(\n",
    "            col_status=basis[0], row_status=basis[1], \n",
    "            col_primal=[], row_primal=[], col_dual=[], row_dual=[])\n",
    "    \n",
    "    def export(self, file_name):\n",
    "        self.solver.write(file_name)\n",
    "        \n",
    "    def import_pb(self, file_name):\n",
    "        self.solver.read(file_name)\n",
    "        \n",
    "    def shut_up(self):\n",
    "        self.solver.set_results_stream(None)\n",
    "        self.solver.set_warning_stream(None)\n",
    "        self.solver.set_error_stream(None)\n",
    "        self.solver.set_log_stream(None) \n",
    "        \n",
    "    def delete(self):\n",
    "        self.solver.end()\n",
    "    \n",
    "    def choose_solver_method(self, solver_method):\n",
    "        \"\"\"\n",
    "        solver method should be:\n",
    "            - 'auto' for automatic\n",
    "            - 'primal' = primal simplex (default)\n",
    "            - 'dual' = dual simplex\n",
    "            - 'network' for network simplex\n",
    "            - 'barrier' for barrier\n",
    "            - 'sifting' for sifting\n",
    "            - 'concurrent' for concurrent optimizers\n",
    "        \"\"\"\n",
    "        i = getattr(self.solver.parameters.lpmethod.values, solver_method)\n",
    "        self.solver.parameters.lpmethod.set(i)\n",
    "        \n",
    "        # For gradient, the devex pricing is adapated to the type of problem we are solving\n",
    "        dgradient = 'full' # 'full', 'devex',...\n",
    "        i = getattr(self.solver.parameters.simplex.dgradient.values, dgradient)\n",
    "        self.solver.parameters.simplex.dgradient.set(i)\n",
    "\n",
    "        pgradient = 'steep' # 'partial', 'devex', 'steep',...\n",
    "        i = getattr(self.solver.parameters.simplex.pgradient.values, pgradient)\n",
    "        self.solver.parameters.simplex.pgradient.set(i)\n",
    "    \n",
    "    def reset_constraints(self):\n",
    "        index = self.info_for_reset\n",
    "        if index is None:\n",
    "            return\n",
    "        \n",
    "        cp_const = [(index[i], -1) for i in range(len(index))]\n",
    "        self.solver.variables.set_lower_bounds(cp_const)\n",
    "        \n",
    "        cp_const = [(index[i], 1) for i in range(len(index))]\n",
    "        self.solver.variables.set_upper_bounds(cp_const)\n",
    "\n",
    "    def instanciate_variables(self):\n",
    "        m = len(self.ind_map)\n",
    "        m_emb = (m*(m-1)) // 2\n",
    "        self.solver.variables.add(ub=[1.0] * m_emb, lb=[-1.0] * m_emb)\n",
    "        \n",
    "    @staticmethod    \n",
    "    @numba.jit(\"(i8[:, :], i8[:, :])\", nopython=True)\n",
    "    def _fill_tr_const(tr_const, ind_map):\n",
    "        m = len(ind_map)\n",
    "        ind = 0\n",
    "        for k in range(m):\n",
    "            for j in range(k):\n",
    "                for i in range(j):\n",
    "                    tr_const[ind, 0] = ind_map[i, j]\n",
    "                    tr_const[ind, 1] = ind_map[j, k]\n",
    "                    tr_const[ind, 2] = ind_map[i, k]\n",
    "                    ind += 1\n",
    "\n",
    "    def set_transitivity_constraints(self):\n",
    "        m = len(self.ind_map)\n",
    "        nb_const = ((m * (m + 1) * (2*m+1)) // 6 - 3 * (m * (m-1)) // 2 - m) // 2\n",
    "        tr_const = np.empty((nb_const, 3), dtype=np.int)\n",
    "\n",
    "        self._fill_tr_const(tr_const, self.ind_map)\n",
    "\n",
    "        # Formatting for cplex\n",
    "        cp_const = [[i, [1.0, 1.0, -1.0]] for i in tr_const.tolist()]\n",
    "\n",
    "        # x_ij + x_jk - x_ik <= 1\n",
    "        self.solver.linear_constraints.add(lin_expr=cp_const,\n",
    "                                           senses='L' * len(cp_const),\n",
    "                                           rhs=[1.0] * len(cp_const))\n",
    "        # x_ij + x_jk - x_ik >= -1\n",
    "        self.solver.linear_constraints.add(lin_expr=cp_const,\n",
    "                                           senses='G' * len(cp_const),\n",
    "                                           rhs=[-1.0] * len(cp_const))"
   ]
  },
  {
   "cell_type": "code",
   "execution_count": 17,
   "metadata": {},
   "outputs": [],
   "source": [
    "ilp_solver = IlpSolver(ind_map)"
   ]
  },
  {
   "cell_type": "code",
   "execution_count": 18,
   "metadata": {},
   "outputs": [
    {
     "name": "stdout",
     "output_type": "stream",
     "text": [
      "CPXPARAM_Simplex_DGradient                       1\n",
      "CPXPARAM_Simplex_PGradient                       2\n",
      "CPXPARAM_Read_DataCheck                          1\n",
      "CPXPARAM_LPMethod                                1\n",
      "Tried aggregator 1 time.\n",
      "No LP presolve or aggregator reductions.\n",
      "Presolve time = 0.01 sec. (0.10 ticks)\n",
      "\n",
      "Iteration log . . .\n",
      "Iteration:     1    Objective     =             9.767981\n"
     ]
    }
   ],
   "source": [
    "ilp_solver.set_objective(c)\n",
    "sol_emb = ilp_solver.solve()"
   ]
  },
  {
   "cell_type": "code",
   "execution_count": 19,
   "metadata": {},
   "outputs": [
    {
     "name": "stdout",
     "output_type": "stream",
     "text": [
      "CPXPARAM_Simplex_DGradient                       1\n",
      "CPXPARAM_Simplex_PGradient                       2\n",
      "CPXPARAM_Read_DataCheck                          1\n",
      "CPXPARAM_LPMethod                                1\n",
      "Reinitializing primal norms . . .\n",
      "Initializing primal norms . . .\n",
      "\n",
      "Iteration log . . .\n",
      "Iteration:     1    Infeasibility =            18.000000\n",
      "Iteration:    10    Objective     =           -20.260226\n"
     ]
    }
   ],
   "source": [
    "ilp_solver.set_constraints(const)\n",
    "sol_emb = ilp_solver.solve()"
   ]
  },
  {
   "cell_type": "markdown",
   "metadata": {},
   "source": [
    "## Testing result quality\n",
    "We can show that when the solution of the ilp problem is in $\\{-1, 1\\}^{m_e}$ it is the solution of the original minimum feedback arcset problem. Let's try to see in pratice how often this arise for different $m$."
   ]
  },
  {
   "cell_type": "code",
   "execution_count": 20,
   "metadata": {},
   "outputs": [
    {
     "name": "stdout",
     "output_type": "stream",
     "text": [
      "0,1000,2000,3000,4000,5000,6000,7000,8000,9000,4\n",
      "0,1000,2000,3000,4000,5000,6000,7000,8000,9000,5\n",
      "0,1000,2000,3000,4000,5000,6000,7000,8000,9000,6\n",
      "0,1000,2000,3000,4000,5000,6000,7000,8000,9000,7\n",
      "0,1000,2000,3000,4000,5000,6000,7000,8000,9000,8\n",
      "0,1000,2000,3000,4000,5000,6000,7000,8000,9000,9\n",
      "0,1000,2000,3000,4000,5000,6000,7000,8000,9000,10\n"
     ]
    }
   ],
   "source": [
    "# ms = [3, 5, 7, 10, 15, 20, 30]\n",
    "# nb_try = 1000\n",
    "ms = [4, 5, 6, 7, 8, 9, 10]\n",
    "nb_try = 10000\n",
    "# ms = [8]\n",
    "# nb_try = 10000\n",
    "res = np.empty((len(ms), nb_try))\n",
    "\n",
    "for i, m in enumerate(ms):\n",
    "    ind_map = canonical_map(m)\n",
    "    solver = IlpSolver(ind_map)\n",
    "    solver.shut_up()\n",
    "    m_emb = (m*(m-1))//2\n",
    "    for j in range(nb_try):\n",
    "        c = np.random.randn(m_emb)\n",
    "        solver.set_objective(c)\n",
    "        sol = solver.solve()\n",
    "        res[i, j] = (1-np.abs(sol)).max() > 1e-5\n",
    "        \n",
    "#         if res[i,j]:\n",
    "#             break\n",
    "        if not j % 1000:\n",
    "            print(j, end=',')\n",
    "    print(m)"
   ]
  },
  {
   "cell_type": "code",
   "execution_count": 26,
   "metadata": {},
   "outputs": [
    {
     "data": {
      "image/png": "[encoded data removed]",
      "text/plain": [
       "<Figure size 720x504 with 1 Axes>"
      ]
     },
     "metadata": {
      "needs_background": "light"
     },
     "output_type": "display_data"
    }
   ],
   "source": [
    "import matplotlib.pyplot as plt\n",
    "%matplotlib inline\n",
    "\n",
    "good = res < 1e-5\n",
    "mu = good.mean(axis=1)\n",
    "fig, ax = plt.subplots(figsize=(10, 7))\n",
    "ax.plot(ms, 100*mu)\n",
    "# ax.set_ylim(0, 110)\n",
    "ax.set_title('Percentage of perfect solutions (10000 runs)', size=25)\n",
    "ax.set_ylabel('Solution recovery (%)', size=20)\n",
    "ax.set_xlabel('Dimension of the problem (m)', size=20)\n",
    "ax.grid()\n",
    "ax.tick_params(axis='both', which='major', labelsize=20)"
   ]
  },
  {
   "cell_type": "markdown",
   "metadata": {},
   "source": [
    "## Study unimodularity"
   ]
  },
  {
   "cell_type": "code",
   "execution_count": 22,
   "metadata": {},
   "outputs": [],
   "source": [
    "@numba.jit(\"(i8[:, :], i8[:, :])\", nopython=True)\n",
    "def _fill_tr_const(tr_const, ind_map):\n",
    "    m = len(ind_map)\n",
    "    ind = 0\n",
    "    for k in range(m):\n",
    "        for j in range(k):\n",
    "            for i in range(j):\n",
    "                tr_const[ind, ind_map[i, j]] = 1\n",
    "                tr_const[ind, ind_map[j, k]] = 1 \n",
    "                tr_const[ind, ind_map[i, k]] = -1 \n",
    "                ind += 1\n",
    "\n",
    "def get_transitivity_constraints(m):\n",
    "    ind_map = canonical_map(m)\n",
    "    nb_const = ((m * (m + 1) * (2*m+1)) // 6 - 3 * (m * (m-1)) // 2 - m) // 2\n",
    "    m_emb = (m*(m-1)) // 2\n",
    "    tr_const = np.zeros((nb_const, m_emb), dtype=np.int)\n",
    "\n",
    "    _fill_tr_const(tr_const, ind_map)\n",
    "    return tr_const"
   ]
  },
  {
   "cell_type": "code",
   "execution_count": 23,
   "metadata": {},
   "outputs": [],
   "source": [
    "M = get_transitivity_constraints(5)"
   ]
  },
  {
   "cell_type": "code",
   "execution_count": 24,
   "metadata": {},
   "outputs": [
    {
     "name": "stdout",
     "output_type": "stream",
     "text": [
      "2.0,"
     ]
    }
   ],
   "source": [
    "for i in range(100000):\n",
    "#     ind_ = np.random.randn(M.shape[0]) > 0\n",
    "#     ind = np.random.choice(M.shape[1], ind_.sum(), replace=False)\n",
    "    \n",
    "    ind = np.random.randn(M.shape[1]) > 0\n",
    "    ind_ = np.random.choice(M.shape[0], ind.sum(), replace=False)\n",
    "    \n",
    "#     dim = 6\n",
    "#     ind = np.random.choice(M.shape[1], dim, replace=False)\n",
    "#     ind_ = np.random.choice(M.shape[0], dim, replace=False)\n",
    "    tmp = np.linalg.det(M[ind_][:,ind])\n",
    "    if tmp not in [-1, 0, 1]:\n",
    "        print(tmp, end=',')\n",
    "#         print(ind.sum())\n",
    "        break"
   ]
  },
  {
   "cell_type": "code",
   "execution_count": null,
   "metadata": {},
   "outputs": [],
   "source": []
  }
 ],
 "metadata": {
  "kernelspec": {
   "display_name": "Python 3",
   "language": "python",
   "name": "python3"
  },
  "language_info": {
   "codemirror_mode": {
    "name": "ipython",
    "version": 3
   },
   "file_extension": ".py",
   "mimetype": "text/x-python",
   "name": "python",
   "nbconvert_exporter": "python",
   "pygments_lexer": "ipython3",
   "version": "3.7.5"
  }
 },
 "nbformat": 4,
 "nbformat_minor": 4
}
