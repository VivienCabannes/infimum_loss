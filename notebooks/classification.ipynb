{
 "cells": [
  {
   "cell_type": "markdown",
   "metadata": {},
   "source": [
    "# Classification"
   ]
  },
  {
   "cell_type": "markdown",
   "metadata": {},
   "source": [
    "Loading standard libraries"
   ]
  },
  {
   "cell_type": "code",
   "execution_count": 1,
   "metadata": {},
   "outputs": [],
   "source": [
    "import sys\n",
    "import matplotlib.pyplot as plt\n",
    "import numpy as np\n",
    "\n",
    "%matplotlib inline"
   ]
  },
  {
   "cell_type": "markdown",
   "metadata": {},
   "source": [
    "Loading internal abstractions"
   ]
  },
  {
   "cell_type": "code",
   "execution_count": 2,
   "metadata": {},
   "outputs": [],
   "source": [
    "sys.path.append('..')\n",
    "from kernel import KernelComputer, KernelRegressor\n",
    "from dataloader import LIBSVMLoader, FoldsGenerator"
   ]
  },
  {
   "cell_type": "markdown",
   "metadata": {},
   "source": [
    "Randomness reproducibility"
   ]
  },
  {
   "cell_type": "code",
   "execution_count": 3,
   "metadata": {},
   "outputs": [],
   "source": [
    "np.random.seed(0)"
   ]
  },
  {
   "cell_type": "markdown",
   "metadata": {},
   "source": [
    "### Choose datasets to play with"
   ]
  },
  {
   "cell_type": "code",
   "execution_count": 4,
   "metadata": {},
   "outputs": [],
   "source": [
    "names = LIBSVMLoader.datasets\n",
    "names = ['dna', 'svmguide2']\n",
    "# names = ['segment', 'vowel']"
   ]
  },
  {
   "cell_type": "markdown",
   "metadata": {},
   "source": [
    "### Choose a kernel"
   ]
  },
  {
   "cell_type": "code",
   "execution_count": 5,
   "metadata": {},
   "outputs": [],
   "source": [
    "kernel = 'Gaussian'  # 'Gaussian', 'Laplacian', 'Linear'"
   ]
  },
  {
   "cell_type": "markdown",
   "metadata": {},
   "source": [
    "### Choose hyparameters for the simulations"
   ]
  },
  {
   "cell_type": "code",
   "execution_count": 6,
   "metadata": {},
   "outputs": [],
   "source": [
    "nb_folds = 8                                              # number of folds\n",
    "corruptions = [0, .1, .2, .3, .4, .5, .6, .7, .8, .9, 1]  # corruptions to test\n",
    "sigmas = [1e2, 5e0, 1e0, 5e-1, 1e-1, 1e-2]                # different kernel parameters to test\n",
    "lambdas = [1e3, 1e2, 1e1, 1e0, 1e-1, 1e-2, 1e-3]          # different regularizations to test"
   ]
  },
  {
   "cell_type": "markdown",
   "metadata": {},
   "source": [
    "Internal main script"
   ]
  },
  {
   "cell_type": "code",
   "execution_count": 7,
   "metadata": {
    "scrolled": true
   },
   "outputs": [
    {
     "name": "stdout",
     "output_type": "stream",
     "text": [
      "dna\n",
      "svmguide2\n"
     ]
    }
   ],
   "source": [
    "_kernel = KernelComputer(kernel, sigma=1)\n",
    "kernel_reg = KernelRegressor(_kernel)\n",
    "\n",
    "err_ac, err_il = {}, {}\n",
    "shape_err = (len(corruptions), nb_folds, len(sigmas), len(lambdas))\n",
    "\n",
    "for name in names:\n",
    "    print(name)\n",
    "    \n",
    "    loader = LIBSVMLoader(name)\n",
    "    x, y = loader.get_trainset()\n",
    "    \n",
    "    index_to_corrupt = np.argmax(y.sum(axis=0))\n",
    "\n",
    "    S = np.empty((*y.shape, len(corruptions)))\n",
    "    for i, corruption in enumerate(corruptions):\n",
    "        S[..., i] = loader.skewed_corruption(y, corruption, index_to_corrupt)\n",
    "#         S[..., i] = loader.synthetic_corruption(y, corruption)\n",
    "        \n",
    "    err_ac[name]= np.empty(shape_err)\n",
    "    err_il[name]= np.empty(shape_err)\n",
    "    \n",
    "    floader = FoldsGenerator(x, y, S, nb_folds=nb_folds)\n",
    "    \n",
    "    for fold in range(nb_folds):\n",
    "\n",
    "        (x_train, S_train), (x_test, y_test) = floader()\n",
    "        y_test = np.argmax(y_test, axis=1)\n",
    "        kernel_reg.set_support(x_train)\n",
    "        n_train, dim = x_train.shape\n",
    "        \n",
    "        for i_s, c_sigma in enumerate(sigmas):\n",
    "            sigma = c_sigma * dim\n",
    "            kernel_reg.update_sigma(sigma)\n",
    "\n",
    "            for i_l, c_lambda in enumerate(lambdas):\n",
    "                lambd = c_lambda / np.sqrt(n_train)\n",
    "                kernel_reg.update_lambda(lambd)\n",
    "                alpha = kernel_reg(x_test)\n",
    "\n",
    "                for i_c, corruption in enumerate(corruptions):\n",
    "\n",
    "                    s_train = S_train[..., i_c]\n",
    "                    \n",
    "                    y_il = np.argmax(alpha @ s_train, axis=1)\n",
    "                    \n",
    "                    s_train = s_train / s_train.sum(axis=1)[:, np.newaxis]\n",
    "                    y_ac = np.argmax(alpha @ s_train, axis=1)\n",
    "                        \n",
    "                    err_ac[name][i_c, fold, i_s, i_l] = (y_ac != y_test).mean()\n",
    "                    err_il[name][i_c, fold, i_s, i_l] = (y_il != y_test).mean()                  "
   ]
  },
  {
   "cell_type": "code",
   "execution_count": 8,
   "metadata": {},
   "outputs": [],
   "source": [
    "n_c = len(corruptions)\n",
    "mus, stds = np.empty((len(names), 2, n_c)), np.empty((len(names), 2, n_c))\n",
    "for i, name in enumerate(names):\n",
    "    for j, err in zip([0,1], [err_ac, err_il]):\n",
    "        tmp = err[name].reshape((len(corruptions), nb_folds, -1))\n",
    "        mu = tmp.mean(axis=-1)\n",
    "        ind = mu.argmin(axis=1)\n",
    "        for k in range(len(corruptions)):\n",
    "            mus[i, j, k] = mu[k, ind[k]]\n",
    "            stds[i, j, k] = tmp[k, ind[k]].std()\n",
    "    mus[i, :, -1] = mus[i, :, -1].mean()\n",
    "    stds[i, :, -1] = stds[i, :, -1].mean()"
   ]
  },
  {
   "cell_type": "code",
   "execution_count": 9,
   "metadata": {},
   "outputs": [
    {
     "data": {
      "image/png": "[encoded data removed]",
      "text/plain": [
       "<Figure size 432x288 with 1 Axes>"
      ]
     },
     "metadata": {
      "needs_background": "light"
     },
     "output_type": "display_data"
    },
    {
     "data": {
      "image/png": "[encoded data removed]",
      "text/plain": [
       "<Figure size 432x288 with 1 Axes>"
      ]
     },
     "metadata": {
      "needs_background": "light"
     },
     "output_type": "display_data"
    }
   ],
   "source": [
    "for i, name in enumerate(names):\n",
    "    fig, ax = plt.subplots()\n",
    "    a = ax.errorbar([100*i for i in corruptions[:-1]], mus[i, 0][:-1], .5*stds[i, 0][:-1], capsize=5, linewidth=3, capthick=3)\n",
    "    b = ax.errorbar([100*i for i in corruptions[:-1]], mus[i, 1][:-1], .5*stds[i, 1][:-1], capsize=5, linewidth=3, capthick=3)\n",
    "    ax.legend([a, b], ['AC', \"IL\"], prop={'size':15})\n",
    "    ax.grid()\n",
    "    ax.set_title(name, size=25)\n",
    "    ax.set_ylabel('Loss', size=20)\n",
    "    ax.set_xlabel('Corruption (in %)', size=20)\n",
    "    ax.tick_params(axis='both', which='major', labelsize=12)\n",
    "    plt.tight_layout()\n",
    "    fig.savefig(name + '.pdf')"
   ]
  },
  {
   "cell_type": "code",
   "execution_count": null,
   "metadata": {},
   "outputs": [],
   "source": []
  }
 ],
 "metadata": {
  "kernelspec": {
   "display_name": "Python 3",
   "language": "python",
   "name": "python3"
  },
  "language_info": {
   "codemirror_mode": {
    "name": "ipython",
    "version": 3
   },
   "file_extension": ".py",
   "mimetype": "text/x-python",
   "name": "python",
   "nbconvert_exporter": "python",
   "pygments_lexer": "ipython3",
   "version": "3.7.5"
  }
 },
 "nbformat": 4,
 "nbformat_minor": 4
}
