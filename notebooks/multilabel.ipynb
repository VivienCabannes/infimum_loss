{
 "cells": [
  {
   "cell_type": "markdown",
   "metadata": {},
   "source": [
    "# Multilabel"
   ]
  },
  {
   "cell_type": "code",
   "execution_count": 1,
   "metadata": {},
   "outputs": [],
   "source": [
    "import os\n",
    "import sys\n",
    "import matplotlib.pyplot as plt\n",
    "import numpy as np\n",
    "\n",
    "%matplotlib inline"
   ]
  },
  {
   "cell_type": "code",
   "execution_count": 2,
   "metadata": {},
   "outputs": [],
   "source": [
    "sys.path.append('..')\n",
    "from kernel import KernelComputer, KernelRegressor\n",
    "from dataloader import MULANLoader, FoldsGenerator\n",
    "from multilabel import DF, IL"
   ]
  },
  {
   "cell_type": "code",
   "execution_count": 28,
   "metadata": {},
   "outputs": [],
   "source": [
    "np.random.seed(0)"
   ]
  },
  {
   "cell_type": "markdown",
   "metadata": {},
   "source": [
    "### Choose datasets to play with"
   ]
  },
  {
   "cell_type": "code",
   "execution_count": 29,
   "metadata": {},
   "outputs": [],
   "source": [
    "names = ['CAL500']"
   ]
  },
  {
   "cell_type": "markdown",
   "metadata": {},
   "source": [
    "### Choose hyparameters for the simulations"
   ]
  },
  {
   "cell_type": "code",
   "execution_count": 41,
   "metadata": {},
   "outputs": [],
   "source": [
    "kernel_type = 'Gaussian'\n",
    "skewed = False\n",
    "nb_folds = 8\n",
    "corruptions = [0, .1, .2, .3, .4, .5, .6, .7, .8, .9]\n",
    "# sigmas = [1e1, 5e0, 1e0, 5e-1, 1e-1, 1e-2]\n",
    "sigmas = [3, 1, 7e-1, 5e-1]\n",
    "# sigmas = [1]\n",
    "lambdas = [1e3, 1e1, 1e0, 1e-1, 1e-3, 1e-6]"
   ]
  },
  {
   "cell_type": "code",
   "execution_count": null,
   "metadata": {},
   "outputs": [
    {
     "name": "stdout",
     "output_type": "stream",
     "text": [
      "CAL500\n",
      "....."
     ]
    }
   ],
   "source": [
    "kernel = KernelComputer(kernel_type, sigma=1)\n",
    "kernel_reg = KernelRegressor(kernel)\n",
    "\n",
    "err_df, err_il = {}, {}\n",
    "shape_err = (len(corruptions), nb_folds, len(sigmas), len(lambdas))\n",
    "\n",
    "for name in names:\n",
    "    print(name)\n",
    "    \n",
    "    loader = MULANLoader(name)\n",
    "    x, y = loader.get_trainset()\n",
    "    \n",
    "    ind = y.sum(axis=0) != 0\n",
    "    y = y[:, ind]\n",
    "    k = int(np.sum(y == 1, axis=1).mean()) + 10\n",
    "    \n",
    "    met_df, met_il = DF(kernel, k), IL(kernel, k)\n",
    "    err_df[name], err_il[name] = np.empty(shape_err), np.empty(shape_err)\n",
    "    \n",
    "    S = np.empty((*y.shape, len(corruptions)))\n",
    "    for i_c, corruption in enumerate(corruptions):\n",
    "        S[..., i_c] = loader.synthetic_corruption(y, corruption, skewed=skewed)\n",
    "        \n",
    "    floader = FoldsGenerator(x, y, S, nb_folds=nb_folds)\n",
    "    for fold in range(nb_folds):\n",
    "        (x_train, S_trains), (x_test, y_test) = floader()\n",
    "        kernel_reg.set_support(x_train)\n",
    "        n_train, dim = x_train.shape\n",
    "        \n",
    "        for i_s, c_sigma in enumerate(sigmas):\n",
    "            sigma = c_sigma * dim\n",
    "            kernel_reg.update_sigma(sigma)\n",
    "\n",
    "            for i_l, c_lambda in enumerate(lambdas):\n",
    "                lambd = c_lambda / np.sqrt(n_train)\n",
    "                kernel_reg.update_lambda(lambd)\n",
    "                alpha_train = kernel_reg(x_train)\n",
    "                alpha = kernel_reg(x_test)\n",
    "\n",
    "                for i_c, corruption in enumerate(corruptions):\n",
    "\n",
    "                    S_train = S_trains[..., i_c]\n",
    "                    y_dis = met_df.disambiguation(alpha_train, S_train, k)\n",
    "                    pred_df = alpha @ y_dis\n",
    "                    pred_il = alpha @ S_train\n",
    "\n",
    "                    for pred in [pred_df, pred_il]:\n",
    "                        idx = np.argsort(pred, axis=1)[:, -k:]\n",
    "                        pred[:] = -1\n",
    "                        met_il.fill_topk_pred(pred, idx)\n",
    "\n",
    "                    err_df[name][i_c, fold, i_s, i_l] = ((pred_df - y_test) != 0).mean()\n",
    "                    err_il[name][i_c, fold, i_s, i_l] = ((pred_il - y_test) != 0).mean()\n",
    "            print(end='.')"
   ]
  },
  {
   "cell_type": "markdown",
   "metadata": {},
   "source": [
    "### Show results"
   ]
  },
  {
   "cell_type": "code",
   "execution_count": null,
   "metadata": {},
   "outputs": [],
   "source": [
    "mus = np.empty((len(names), 2, len(corruptions)))\n",
    "stds = np.empty((len(names), 2, len(corruptions)))\n",
    "best_lambdas = np.empty((len(names), 2, len(corruptions)))\n",
    "best_sigmas = np.empty((len(names), 2, len(corruptions)))\n",
    "\n",
    "for i, name in enumerate(names):\n",
    "    for j, err in zip([0, 1], [err_df, err_il]):\n",
    "        tmp = err[name].reshape(len(corruptions), nb_folds, -1)\n",
    "        mu = tmp.mean(axis=1)\n",
    "        ind = mu.argmin(axis=-1)\n",
    "        for k in range(len(ind)):\n",
    "            mus[i, j, k] = mu[k, ind[k]]\n",
    "            stds[i, j, k] = tmp[k, :, ind[k]].std()            \n",
    "            best_lambdas[i, j, k] = lambdas[ind[k] % len(lambdas)]\n",
    "            best_sigmas[i, j, k] = sigmas[ind[k] // len(lambdas)]"
   ]
  },
  {
   "cell_type": "code",
   "execution_count": null,
   "metadata": {},
   "outputs": [],
   "source": [
    "for i, name in enumerate(names):\n",
    "    fig, ax = plt.subplots()\n",
    "    a = ax.errorbar([100*i for i in corruptions[:]], mus[i, 0][:], .5*stds[i, 0][:], capsize=5, linewidth=3, capthick=3)\n",
    "    b = ax.errorbar([100*i for i in corruptions[:]], mus[i, 1][:], .5*stds[i, 1][:], capsize=5, linewidth=3, capthick=3)\n",
    "    ax.legend([a, b], ['DF', \"IL\"], prop={'size':15})\n",
    "    ax.grid()\n",
    "    ax.set_title(name, size=25)\n",
    "    ax.set_ylabel('Loss', size=20)\n",
    "    ax.set_xlabel('Corruption (in %)', size=20)\n",
    "    ax.tick_params(axis='both', which='major', labelsize=12)\n",
    "    plt.tight_layout()\n",
    "    fig.savefig(os.path.join('savings', 'ml', name + {True: '_skewed', False:''}[skewed] + '.pdf'))"
   ]
  },
  {
   "cell_type": "code",
   "execution_count": null,
   "metadata": {},
   "outputs": [],
   "source": [
    "best_lambdas, best_sigmas"
   ]
  },
  {
   "cell_type": "code",
   "execution_count": null,
   "metadata": {},
   "outputs": [],
   "source": []
  }
 ],
 "metadata": {
  "kernelspec": {
   "display_name": "Python 3",
   "language": "python",
   "name": "python3"
  },
  "language_info": {
   "codemirror_mode": {
    "name": "ipython",
    "version": 3
   },
   "file_extension": ".py",
   "mimetype": "text/x-python",
   "name": "python",
   "nbconvert_exporter": "python",
   "pygments_lexer": "ipython3",
   "version": "3.7.5"
  }
 },
 "nbformat": 4,
 "nbformat_minor": 4
}
