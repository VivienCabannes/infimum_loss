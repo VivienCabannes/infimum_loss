{
 "cells": [
  {
   "cell_type": "markdown",
   "metadata": {},
   "source": [
    "# Classification"
   ]
  },
  {
   "cell_type": "markdown",
   "metadata": {},
   "source": [
    "Loading standard libraries"
   ]
  },
  {
   "cell_type": "code",
   "execution_count": 1,
   "metadata": {},
   "outputs": [],
   "source": [
    "import sys\n",
    "import matplotlib.pyplot as plt\n",
    "import numpy as np\n",
    "\n",
    "%matplotlib inline"
   ]
  },
  {
   "cell_type": "markdown",
   "metadata": {},
   "source": [
    "Loading internal abstractions"
   ]
  },
  {
   "cell_type": "code",
   "execution_count": 2,
   "metadata": {},
   "outputs": [],
   "source": [
    "sys.path.append('..')\n",
    "from kernel import KernelComputer, KernelRegressor\n",
    "from dataloader import MULANLoader, FoldsGenerator"
   ]
  },
  {
   "cell_type": "markdown",
   "metadata": {},
   "source": [
    "Randomness reproducibility"
   ]
  },
  {
   "cell_type": "code",
   "execution_count": 3,
   "metadata": {},
   "outputs": [],
   "source": [
    "np.random.seed(0)"
   ]
  },
  {
   "cell_type": "markdown",
   "metadata": {},
   "source": [
    "### Choose datasets to play with"
   ]
  },
  {
   "cell_type": "code",
   "execution_count": 4,
   "metadata": {},
   "outputs": [],
   "source": [
    "names = MULANLoader.datasets\n",
    "names = ['scene']"
   ]
  },
  {
   "cell_type": "markdown",
   "metadata": {},
   "source": [
    "### Choose a kernel"
   ]
  },
  {
   "cell_type": "code",
   "execution_count": 5,
   "metadata": {},
   "outputs": [],
   "source": [
    "kernel = 'Gaussian'  # 'Gaussian', 'Laplacian', 'Linear'"
   ]
  },
  {
   "cell_type": "markdown",
   "metadata": {},
   "source": [
    "### Choose hyparameters for the simulations"
   ]
  },
  {
   "cell_type": "code",
   "execution_count": 6,
   "metadata": {},
   "outputs": [],
   "source": [
    "nb_folds = 8                                              # number of folds\n",
    "corruptions = [0, 1, 2, 3, 4, 5, 6, 7, 8, 9, 10]          # corruptions to test\n",
    "sigmas = [1e1, 5e0, 1e0, 5e-1, 1e-1, 1e-2]                # different kernel parameters to test\n",
    "lambdas = [1e3, 1e2, 1e1, 1e0, 1e-1, 1e-2, 1e-3]          # different regularizations to test"
   ]
  },
  {
   "cell_type": "markdown",
   "metadata": {},
   "source": [
    "Internal main script"
   ]
  },
  {
   "cell_type": "code",
   "execution_count": 7,
   "metadata": {},
   "outputs": [],
   "source": [
    "import numba\n",
    "\n",
    "\n",
    "@numba.jit(nopython=True)\n",
    "def Hamming_loss(A, B):\n",
    "    d = np.zeros((A.shape[0], B.shape[0]), dtype=np.float64)\n",
    "    for i in range(A.shape[0]):\n",
    "        for j in range(B.shape[0]):\n",
    "            for k in range(5):\n",
    "                if A[i, k] != B[j, k]:\n",
    "                    d[i, j] += 1\n",
    "    return d\n",
    "\n",
    "\n",
    "def get_y_grid(m):\n",
    "    y_grid = np.zeros((2**m, m))\n",
    "    for i in range(2**m):\n",
    "        tmp = np.base_repr(i, 2)\n",
    "        for j in range(len(tmp)):\n",
    "            y_grid[i, -j-1] = int(tmp[-j-1])\n",
    "    return y_grid\n",
    "\n",
    "\n",
    "def add_corruption(y_train, corruption):\n",
    "    n_train, m = y_train.shape\n",
    "    r_train = (corruption * (m + 1) * np.random.rand(n_train)).astype(np.int64)\n",
    "    offset = (m * np.random.rand(n_train, m)).astype(np.int64)\n",
    "    for i in range(n_train):\n",
    "        offset[i] = np.isin(np.arange(m), offset[i, :r_train[i]]).astype(np.int)\n",
    "    c_train = y_train + offset\n",
    "    c_train %= 2\n",
    "    return c_train, r_train"
   ]
  },
  {
   "cell_type": "code",
   "execution_count": 8,
   "metadata": {
    "scrolled": true
   },
   "outputs": [
    {
     "name": "stdout",
     "output_type": "stream",
     "text": [
      "scene\n"
     ]
    }
   ],
   "source": [
    "_kernel = KernelComputer(kernel, sigma=1)\n",
    "kernel_reg = KernelRegressor(_kernel)\n",
    "\n",
    "err_ac, err_il, err_sp = {}, {}, {}\n",
    "shape_err = (len(corruptions), nb_folds, len(sigmas), len(lambdas))\n",
    "\n",
    "for name in names:\n",
    "    print(name)\n",
    "    \n",
    "    loader = MULANLoader(name)\n",
    "    x, y = loader.get_trainset()\n",
    "    \n",
    "    ind = y.sum(axis=0) != 0\n",
    "    y = y[:, ind]\n",
    "    y_grid = get_y_grid(ind.sum())\n",
    "\n",
    "    loss_shape = (y.shape[0], 2**y.shape[-1], len(corruptions))\n",
    "    AC_loss, IL_loss, SP_loss = np.empty(loss_shape), np.empty(loss_shape), np.empty(loss_shape)\n",
    "    for i_c, corruption in enumerate(corruptions):\n",
    "        c, r = add_corruption(y, corruption)\n",
    "        \n",
    "        _loss = Hamming_loss(c, y_grid)\n",
    "        _loss -= r[:, np.newaxis]\n",
    "        _loss[_loss < 0] = 0\n",
    "        IL_loss[..., i_c] = _loss\n",
    "        \n",
    "        S = Hamming_loss(c, y_grid) <= r[:, np.newaxis]\n",
    "        center = S / S.sum(axis=1)[:, np.newaxis]\n",
    "        center = center @ y_grid\n",
    "        AC_loss[..., i_c] = Hamming_loss(center, y_grid)\n",
    "        \n",
    "        loss = Hamming_loss(y_grid, y_grid)\n",
    "        for i in range(len(SP_loss)):\n",
    "            SP_loss[i, :, i_c] = loss[S[i]].max(axis=0)\n",
    "        \n",
    "    S = np.stack((IL_loss, AC_loss, SP_loss), axis=-1)\n",
    "\n",
    "    err_ac[name]= np.empty(shape_err)\n",
    "    err_il[name]= np.empty(shape_err)\n",
    "    err_sp[name]= np.empty(shape_err)\n",
    "    \n",
    "    floader = FoldsGenerator(x, y, S, nb_folds=nb_folds)\n",
    "    \n",
    "    for fold in range(nb_folds):\n",
    "\n",
    "        (x_train, S_train), (x_test, y_test) = floader()\n",
    "        kernel_reg.set_support(x_train)\n",
    "        n_train, dim = x_train.shape\n",
    "        \n",
    "        for i_s, c_sigma in enumerate(sigmas):\n",
    "            sigma = c_sigma * dim\n",
    "            kernel_reg.update_sigma(sigma)\n",
    "\n",
    "            for i_l, c_lambda in enumerate(lambdas):\n",
    "                lambd = c_lambda / np.sqrt(n_train)\n",
    "                kernel_reg.update_lambda(lambd)\n",
    "                alpha = kernel_reg(x_test)\n",
    "\n",
    "                for i_c, corruption in enumerate(corruptions):\n",
    "                    \n",
    "                    IL_loss = S_train[..., i_c, 0]\n",
    "                    AC_loss = S_train[..., i_c, 1]\n",
    "                    SP_loss = S_train[..., i_c, 2]\n",
    "                    \n",
    "                    loss_grid = alpha @ AC_loss\n",
    "                    y_ac = y_grid[np.argmin(loss_grid, axis=1), :]\n",
    "\n",
    "                    loss_grid = alpha @ IL_loss\n",
    "                    y_il = y_grid[np.argmin(loss_grid, axis=1), :]\n",
    "\n",
    "                    loss_grid = alpha @ SP_loss\n",
    "                    y_sp = y_grid[np.argmin(loss_grid, axis=1), :]\n",
    "\n",
    "                    err_ac[name][i_c, fold, i_s, i_l] = ((y_ac - y_test) != 0).mean()\n",
    "                    err_il[name][i_c, fold, i_s, i_l] = ((y_il - y_test) != 0).mean()\n",
    "                    err_sp[name][i_c, fold, i_s, i_l] = ((y_sp - y_test) != 0).mean()"
   ]
  },
  {
   "cell_type": "code",
   "execution_count": 17,
   "metadata": {},
   "outputs": [],
   "source": [
    "n_c = len(corruptions)\n",
    "mus, stds = np.empty((len(names), 3, n_c)), np.empty((len(names), 3, n_c))\n",
    "for i, name in enumerate(names):\n",
    "    for j, err in zip([0,1,2], [err_ac, err_il, err_sp]):\n",
    "        tmp = err[name].reshape((len(corruptions), nb_folds, -1))\n",
    "        mu = tmp.mean(axis=1)\n",
    "        ind = mu.argmin(axis=-1)\n",
    "        for k in range(len(corruptions)):\n",
    "            mus[i, j, k] = mu[k, ind[k]]\n",
    "            stds[i, j, k] = tmp[k, :, ind[k]].std()"
   ]
  },
  {
   "cell_type": "code",
   "execution_count": 19,
   "metadata": {},
   "outputs": [
    {
     "data": {
      "image/png": "[encoded data removed]",
      "text/plain": [
       "<Figure size 432x288 with 1 Axes>"
      ]
     },
     "metadata": {
      "needs_background": "light"
     },
     "output_type": "display_data"
    }
   ],
   "source": [
    "for i, name in enumerate(names):\n",
    "    fig, ax = plt.subplots()\n",
    "    a = ax.errorbar([i for i in corruptions[:]], mus[i, 0][:], .5*stds[i, 0][:], capsize=5, linewidth=3, capthick=3)\n",
    "    b = ax.errorbar([i for i in corruptions[:]], mus[i, 1][:], .5*stds[i, 1][:], capsize=5, linewidth=3, capthick=3)\n",
    "    c = ax.errorbar([i for i in corruptions[:]], mus[i, 2][:], .5*stds[i, 2][:], capsize=5, linewidth=3, capthick=3)\n",
    "    ax.legend([a, b, c], ['AC', \"IL\", \"SP\"], prop={'size':15})\n",
    "    ax.grid()\n",
    "    ax.set_title(name, size=25)\n",
    "    ax.set_ylabel('Loss', size=20)\n",
    "    ax.set_xlabel('Corruption (p.d.u.)', size=20)\n",
    "    ax.tick_params(axis='both', which='major', labelsize=12)\n",
    "    plt.tight_layout()\n",
    "    fig.savefig(name + '.pdf')"
   ]
  },
  {
   "cell_type": "code",
   "execution_count": null,
   "metadata": {},
   "outputs": [],
   "source": []
  }
 ],
 "metadata": {
  "kernelspec": {
   "display_name": "Python 3",
   "language": "python",
   "name": "python3"
  },
  "language_info": {
   "codemirror_mode": {
    "name": "ipython",
    "version": 3
   },
   "file_extension": ".py",
   "mimetype": "text/x-python",
   "name": "python",
   "nbconvert_exporter": "python",
   "pygments_lexer": "ipython3",
   "version": "3.7.5"
  }
 },
 "nbformat": 4,
 "nbformat_minor": 4
}
