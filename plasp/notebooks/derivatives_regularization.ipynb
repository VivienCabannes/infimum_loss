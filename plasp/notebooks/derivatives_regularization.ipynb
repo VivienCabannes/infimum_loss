{
 "cells": [
  {
   "cell_type": "markdown",
   "id": "advised-island",
   "metadata": {},
   "source": [
    "# Laplacian regularization with kernels"
   ]
  },
  {
   "cell_type": "code",
   "execution_count": 1,
   "id": "better-listening",
   "metadata": {},
   "outputs": [],
   "source": [
    "import sys\n",
    "sys.path.append('..')\n",
    "import matplotlib.pyplot as plt\n",
    "import numpy as np\n",
    "from scipy.linalg import eigh\n",
    "\n",
    "from weights import NearestNeighbors, KernelComputer, KernelRegressor\n",
    "np.random.seed(0)"
   ]
  },
  {
   "cell_type": "markdown",
   "id": "conditional-laugh",
   "metadata": {},
   "source": [
    "The following command are using LaTeX backend to produce Type 1 font in PDF produced by matplotlib (it produces Type 3 otherwise). You can uncomment those lines."
   ]
  },
  {
   "cell_type": "code",
   "execution_count": 2,
   "id": "independent-thanksgiving",
   "metadata": {},
   "outputs": [],
   "source": [
    "%matplotlib inline\n",
    "plt.rcParams['text.latex.preamble'] = [r'\\usepackage{newtxmath}'] \n",
    "plt.rcParams['text.usetex'] = True\n",
    "plt.rcParams[\"font.family\"] = \"serif\"\n",
    "plt.rcParams[\"font.serif\"] = \"Times\"\n",
    "plt.rc('text', usetex=True)"
   ]
  },
  {
   "cell_type": "code",
   "execution_count": 22,
   "id": "polish-standard",
   "metadata": {},
   "outputs": [],
   "source": [
    "nb = 2000\n",
    "nl = 4\n",
    "\n",
    "def get_trainset(nb):\n",
    "    theta = 2 * np.pi * np.random.rand(nb)\n",
    "    cluster = np.random.choice(4, nb) + 1\n",
    "    x = cluster * np.cos(theta)\n",
    "    y = cluster * np.sin(theta)\n",
    "    y1 = 2\n",
    "    x1 = -2*np.sqrt(3)\n",
    "    x2 = 1\n",
    "    y2 = -2*np.sqrt(2)\n",
    "    y3 = -1\n",
    "    x3 = -np.sqrt(3)\n",
    "    x4 = -1\n",
    "    y4 = 0\n",
    "    x_train = np.vstack((np.hstack((x1, x2, x3, x4, x)), np.hstack((y1, y2, y3, y4, y)))).T\n",
    "    s_train = np.zeros(x_train.shape[0])\n",
    "    s_train[0] = -1\n",
    "    s_train[1] = +1\n",
    "    s_train[2] = -1\n",
    "    s_train[3] = +1\n",
    "    return x_train, s_train\n",
    "\n",
    "x_train, s_train = get_trainset(nb)"
   ]
  },
  {
   "cell_type": "code",
   "execution_count": 23,
   "id": "comprehensive-start",
   "metadata": {},
   "outputs": [],
   "source": [
    "def get_x_test(num):\n",
    "    x = np.linspace(-4.5, 4.5, num)\n",
    "    X, Y = np.meshgrid(x, x)\n",
    "    x_test = np.vstack((X.reshape(-1), Y.reshape(-1))).T\n",
    "    return x_test, X, Y"
   ]
  },
  {
   "cell_type": "code",
   "execution_count": 24,
   "id": "greatest-greensboro",
   "metadata": {},
   "outputs": [],
   "source": [
    "num = 100\n",
    "x_test, X, Y = get_x_test(num)"
   ]
  },
  {
   "cell_type": "code",
   "execution_count": 25,
   "id": "restricted-symphony",
   "metadata": {},
   "outputs": [],
   "source": [
    "def get_K(x1, x2, sigma):\n",
    "    # x1 = xtrain, x2 = xtest\n",
    "    sigma2 = sigma ** 2\n",
    "    K = x1 @ x2.T\n",
    "    K *= 2\n",
    "    _attr1 = np.sum(x1 ** 2, axis=1)[:, np.newaxis]\n",
    "    K -= _attr1\n",
    "    K -= np.sum(x2 ** 2, axis=1)\n",
    "    K /= 2*sigma2\n",
    "    np.exp(K, out=K)\n",
    "    return K"
   ]
  },
  {
   "cell_type": "code",
   "execution_count": 26,
   "id": "early-practitioner",
   "metadata": {},
   "outputs": [],
   "source": [
    "def get_SZ(x1, x2, sigma, SS=None, reshape=True):\n",
    "    if SS is None:\n",
    "        SS = get_K(x1, x2, sigma)\n",
    "    SZ = np.tile(SS[...,np.newaxis], (1, 1, x1.shape[1]))\n",
    "    # diff[i,j,k] = x1[i,k] - x2[j,k]\n",
    "    diff = x1[:, np.newaxis, :] - x2[np.newaxis, ...]\n",
    "    diff /= sigma**2\n",
    "    SZ *= diff\n",
    "    \"\"\"It might be possible to reshape using 'C' or 'F' order directly, but I am going for the easy solution for now.\"\"\"\n",
    "    if reshape:\n",
    "        n1, n2, d = SZ.shape\n",
    "        SZ_reshape = np.empty((n1, n2*d), SZ.dtype)\n",
    "        for i in range(d):\n",
    "            SZ_reshape[:, i*n2:(i+1)*n2] = SZ[..., i]\n",
    "        return SZ_reshape\n",
    "    return SZ"
   ]
  },
  {
   "cell_type": "code",
   "execution_count": 27,
   "id": "blessed-induction",
   "metadata": {},
   "outputs": [],
   "source": [
    "def get_ZZ(x1, x2, sigma, SS=None, reshape=True):\n",
    "    if SS is None:\n",
    "        SS = get_K(x1, x2, sigma)\n",
    "    d = x1.shape[1]\n",
    "    ZZ = np.tile(SS[...,np.newaxis, np.newaxis], (1, 1, d, d,))\n",
    "    # diff[i,j,k] = x1[i,k] - x2[j,k]\n",
    "    diff = x1[:, np.newaxis, :] - x2[np.newaxis, ...]\n",
    "    # prod_diff[i,j,k,l] = diff[i,j,l]*diff[i,j,k] = (x1[i,l] - x2[j,l]) * (x1[i,k] - x2[j,k])\n",
    "    prod_diff = diff[:,:, np.newaxis, :]*diff[:,:,:,np.newaxis]\n",
    "    prod_diff /= sigma**4\n",
    "    prod_diff *= -1\n",
    "    for i in range(d):\n",
    "        prod_diff[:, :, i, i] += 1 / (sigma**2)\n",
    "    ZZ *= prod_diff\n",
    "    \"\"\"It might be possible to reshape using 'C' or 'F' order directly, but I am going for the easy solution for now.\"\"\"\n",
    "    if reshape:\n",
    "        n1, n2, = SS.shape\n",
    "        ZZ_reshape = np.empty((n1*d, n2*d), ZZ.dtype)\n",
    "        for i in range(d):\n",
    "            for j in range(i):\n",
    "                ZZ_reshape[n1*i:n1*(i+1), n2*j:n2*(j+1)] = ZZ[..., i, j]\n",
    "                ZZ_reshape[n1*j:n1*(j+1), n2*i:n2*(i+1)] = ZZ[..., j, i]\n",
    "            ZZ_reshape[n1*i:n1*(i+1), n2*i:n2*(i+1)] = ZZ[..., i, i]\n",
    "        return ZZ_reshape\n",
    "    return ZZ"
   ]
  },
  {
   "cell_type": "code",
   "execution_count": 28,
   "id": "gothic-action",
   "metadata": {},
   "outputs": [],
   "source": [
    "def get_ST(x1, x2, sigma, SS=None, SZ=None):\n",
    "    if SS is None:\n",
    "        SS = get_K(x1, x2, sigma)\n",
    "    if SZ is None:\n",
    "        SZ = get_SZ(x1, x2, sigma, SS)\n",
    "    n1, n2 = SS.shape\n",
    "    d = x1.shape[1]\n",
    "    ST = np.zeros((n1, n2*(d+1)), dtype=np.float)\n",
    "    ST[:, :n2] = SS\n",
    "    ST[:, n2:] = SZ\n",
    "    return ST"
   ]
  },
  {
   "cell_type": "code",
   "execution_count": 29,
   "id": "rapid-verification",
   "metadata": {},
   "outputs": [],
   "source": [
    "def get_TZ(x1, x2, sigma, SZ=None, ZZ=None):\n",
    "    if SZ is None:\n",
    "        SZ = get_SZ(x1, x2, sigma)\n",
    "    if ZZ is None:\n",
    "        ZZ = get_ZZ(x1, x2, sigma)\n",
    "    n1, d = x1.shape\n",
    "    n2 = x2.shape[0]\n",
    "    TZ = np.zeros((n1*(d+1), n2*d), dtype=np.float)\n",
    "    TZ[:n1,:] = SZ\n",
    "    TZ[n1:,:] = ZZ\n",
    "    return TZ"
   ]
  },
  {
   "cell_type": "code",
   "execution_count": 30,
   "id": "molecular-switch",
   "metadata": {},
   "outputs": [],
   "source": [
    "def get_TT(x1, sigma, SS=None, SZ=None, ZZ=None):\n",
    "    if SS is None:\n",
    "        SS = get_K(x1, sigma)\n",
    "    if SZ is None:\n",
    "        SZ = get_SZ(x1, sigma)\n",
    "    if ZZ is None:\n",
    "        ZZ = get_ZZ(x1, sigma)\n",
    "    n1, d = x1.shape\n",
    "    TT = np.zeros((n*(d+1), n*(d+1)), dtype=np.float)\n",
    "    TT[:n, :n] = SS\n",
    "    TT[:n, n:] = SZ\n",
    "    TT[n:, :n] = SZ.transpose()\n",
    "    TT[n:, n:] = ZZ\n",
    "    return TT"
   ]
  },
  {
   "cell_type": "code",
   "execution_count": 155,
   "id": "aquatic-vertex",
   "metadata": {},
   "outputs": [],
   "source": [
    "sigma = 5e-1\n",
    "lambd, l = 1, 1\n",
    "n, d = x_train.shape\n",
    "mu, m, m_bis = 1/n, '1/n', 'n'\n",
    "\n",
    "# lambd, l = 0, 0\n",
    "# mu, m, m_bis = 1, 1, 1\n",
    "# mu, m, m_bis = 0, 0, 0\n",
    "mu, m, m_bis = 1e-7, 0, 0"
   ]
  },
  {
   "cell_type": "code",
   "execution_count": 156,
   "id": "renewable-project",
   "metadata": {},
   "outputs": [],
   "source": [
    "SS = get_K(x_train, x_train, sigma)\n",
    "SZ = get_SZ(x_train, x_train, sigma, SS)\n",
    "ZZ = get_ZZ(x_train, x_train, sigma, SS)\n",
    "ST = get_ST(x_train, x_train, sigma, SS, SZ)\n",
    "TZ = get_TZ(x_train, x_train, sigma, SZ, ZZ)\n",
    "TT = get_TT(x_train, sigma, SS, SZ, ZZ)"
   ]
  },
  {
   "cell_type": "markdown",
   "id": "sharp-assistant",
   "metadata": {},
   "source": [
    "Solution with small representation"
   ]
  },
  {
   "cell_type": "code",
   "execution_count": 157,
   "id": "surprised-devil",
   "metadata": {},
   "outputs": [],
   "source": [
    "A_d = SZ @ SZ.transpose()\n",
    "A_d /= n\n",
    "A_d *= lambd\n",
    "\n",
    "A = (SS[..., :nl] @ SS[:nl])\n",
    "A /= nl\n",
    "A += A_d\n",
    "A += mu * SS\n",
    "\n",
    "b = SS[..., :nl] @ s_train[:nl]"
   ]
  },
  {
   "cell_type": "code",
   "execution_count": 158,
   "id": "detected-offset",
   "metadata": {},
   "outputs": [],
   "source": [
    "c = np.linalg.solve(A, b)"
   ]
  },
  {
   "cell_type": "code",
   "execution_count": 159,
   "id": "clean-broad",
   "metadata": {},
   "outputs": [],
   "source": [
    "S_test_S = get_K(x_test, x_train, sigma)"
   ]
  },
  {
   "cell_type": "code",
   "execution_count": 160,
   "id": "metropolitan-middle",
   "metadata": {},
   "outputs": [],
   "source": [
    "if l:\n",
    "    Z = S_test_S @ c\n",
    "else:\n",
    "    Z = S_test_S[..., :nl] @ c[:nl]"
   ]
  },
  {
   "cell_type": "code",
   "execution_count": 161,
   "id": "homeless-syracuse",
   "metadata": {},
   "outputs": [
    {
     "data": {
      "image/png": "[encoded data removed]",
      "text/plain": [
       "<Figure size 129.6x108 with 1 Axes>"
      ]
     },
     "metadata": {},
     "output_type": "display_data"
    }
   ],
   "source": [
    "fig, ax = plt.subplots(1, 1, figsize=(1.8, 1.5)) \n",
    "# fig, ax = plt.subplots(1, 1, figsize=(10, 7)) \n",
    "ax.pcolor(X, Y, Z.reshape((num, num)) / np.sqrt(np.mean(Z**2)), cmap=\"RdBu_r\", vmin=-1, vmax=1)\n",
    "ax.scatter(x_train[4:, 0], x_train[4:, 1], color='k', s=1, zorder=2)\n",
    "ax.scatter(x_train[0, 0], x_train[0, 1], color='b', s=10, edgecolor='k', zorder=2)\n",
    "ax.scatter(x_train[1, 0], x_train[1, 1], color='r', s=10, edgecolor='k', zorder=2)\n",
    "ax.scatter(x_train[2, 0], x_train[2, 1], color='b', s=10, edgecolor='k', zorder=2)\n",
    "ax.scatter(x_train[3, 0], x_train[3, 1], color='r', s=10, edgecolor='k', zorder=2)\n",
    "ax.set_xlim(-4.5, 4.5)\n",
    "ax.set_ylim(-4.5, 4.5)\n",
    "ax.tick_params(axis='both', which='major', labelleft=False, labelbottom=False)\n",
    "ax.set_xticks([])\n",
    "ax.set_yticks([])\n",
    "ax.set_title(r'Result: $\\lambda={},\\ \\mu={}$'.format(l, m), size=10)\n",
    "fig.tight_layout()\n",
    "fig.savefig('savings/krr_{}_{}.pdf'.format(l, m_bis))    "
   ]
  },
  {
   "cell_type": "code",
   "execution_count": 162,
   "id": "compound-clarity",
   "metadata": {},
   "outputs": [
    {
     "data": {
      "image/png": "[encoded data removed]",
      "text/plain": [
       "<Figure size 129.6x108 with 1 Axes>"
      ]
     },
     "metadata": {},
     "output_type": "display_data"
    }
   ],
   "source": [
    "fig, ax = plt.subplots(1, 1, figsize=(1.8, 1.5)) \n",
    "# fig, ax = plt.subplots(1, 1, figsize=(10, 7)) \n",
    "ax.pcolor(X, Y, np.sign(Z.reshape((num, num))), cmap=\"RdBu_r\", vmin=-1.2, vmax=1.2)\n",
    "ax.scatter(x_train[4:, 0], x_train[4:, 1], color='k', s=1, zorder=2)\n",
    "ax.scatter(x_train[0, 0], x_train[0, 1], color='b', s=10, edgecolor='k', zorder=2)\n",
    "ax.scatter(x_train[1, 0], x_train[1, 1], color='r', s=10, edgecolor='k', zorder=2)\n",
    "ax.scatter(x_train[2, 0], x_train[2, 1], color='b', s=10, edgecolor='k', zorder=2)\n",
    "ax.scatter(x_train[3, 0], x_train[3, 1], color='r', s=10, edgecolor='k', zorder=2)\n",
    "ax.set_xlim(-4.5, 4.5)\n",
    "ax.set_ylim(-4.5, 4.5)\n",
    "ax.tick_params(axis='both', which='major', labelleft=False, labelbottom=False)\n",
    "ax.set_xticks([])\n",
    "ax.set_yticks([])\n",
    "ax.set_title(r'Approximation: $\\lambda={},\\ \\mu={}$'.format(l, m), size=10)\n",
    "plt.tight_layout()\n",
    "fig.savefig('savings/krr_{}_{}_hard.pdf'.format(l, m_bis))    "
   ]
  },
  {
   "cell_type": "markdown",
   "id": "intensive-measurement",
   "metadata": {},
   "source": [
    "With full covariance"
   ]
  },
  {
   "cell_type": "code",
   "execution_count": 186,
   "id": "operating-adult",
   "metadata": {},
   "outputs": [],
   "source": [
    "A = SS @ SS\n",
    "A /= n\n",
    "# A += A_d\n",
    "A += mu * SS\n",
    "b = SS[..., :nl] @ s_train[:nl]"
   ]
  },
  {
   "cell_type": "code",
   "execution_count": 187,
   "id": "speaking-impression",
   "metadata": {},
   "outputs": [],
   "source": [
    "c = np.linalg.solve(A, b)"
   ]
  },
  {
   "cell_type": "code",
   "execution_count": 188,
   "id": "framed-array",
   "metadata": {},
   "outputs": [],
   "source": [
    "Z = S_test_S @ c"
   ]
  },
  {
   "cell_type": "code",
   "execution_count": 192,
   "id": "expected-miniature",
   "metadata": {},
   "outputs": [
    {
     "data": {
      "image/png": "[encoded data removed]",
      "text/plain": [
       "<Figure size 129.6x108 with 1 Axes>"
      ]
     },
     "metadata": {},
     "output_type": "display_data"
    }
   ],
   "source": [
    "fig, ax = plt.subplots(1, 1, figsize=(1.8, 1.5)) \n",
    "# fig, ax = plt.subplots(1, 1, figsize=(10, 7)) \n",
    "# ax.pcolor(X, Y, Z.reshape((num, num)) / np.sqrt(np.mean(Z**2)), cmap=\"RdBu_r\", vmin=-1, vmax=1)\n",
    "ax.pcolor(X, Y, 4*Z.reshape((num, num)) / np.max(np.abs(Z)), cmap=\"RdBu_r\", vmin=-1, vmax=1)\n",
    "# ax.pcolor(X, Y, np.sign(Z.reshape((num, num))), cmap=\"RdBu_r\", vmin=-1, vmax=1)\n",
    "ax.scatter(x_train[4:, 0], x_train[4:, 1], color='k', s=1, zorder=2)\n",
    "ax.scatter(x_train[0, 0], x_train[0, 1], color='b', s=10, edgecolor='k', zorder=2)\n",
    "ax.scatter(x_train[1, 0], x_train[1, 1], color='r', s=10, edgecolor='k', zorder=2)\n",
    "ax.scatter(x_train[2, 0], x_train[2, 1], color='b', s=10, edgecolor='k', zorder=2)\n",
    "ax.scatter(x_train[3, 0], x_train[3, 1], color='r', s=10, edgecolor='k', zorder=2)\n",
    "ax.set_xlim(-4.5, 4.5)\n",
    "ax.set_ylim(-4.5, 4.5)\n",
    "ax.tick_params(axis='both', which='major', labelleft=False, labelbottom=False)\n",
    "ax.set_xticks([])\n",
    "ax.set_yticks([])\n",
    "ax.set_title(r'$S(\\hat \\Sigma + \\varepsilon)^{-1} \\widehat{S^\\star g_\\rho}$', size=10)\n",
    "plt.tight_layout()\n",
    "fig.savefig('savings/S.pdf'.format(l, m_bis))    "
   ]
  },
  {
   "cell_type": "code",
   "execution_count": 170,
   "id": "dietary-microphone",
   "metadata": {},
   "outputs": [
    {
     "data": {
      "image/png": "[encoded data removed]",
      "text/plain": [
       "<Figure size 129.6x108 with 1 Axes>"
      ]
     },
     "metadata": {},
     "output_type": "display_data"
    }
   ],
   "source": [
    "fig, ax = plt.subplots(1, 1, figsize=(1.8, 1.5)) \n",
    "# fig, ax = plt.subplots(1, 1, figsize=(10, 7)) \n",
    "ax.pcolor(X, Y, np.sign(Z.reshape((num, num))), cmap=\"RdBu_r\", vmin=-1.2, vmax=1.2)\n",
    "ax.scatter(x_train[4:, 0], x_train[4:, 1], color='k', s=1, zorder=2)\n",
    "ax.scatter(x_train[0, 0], x_train[0, 1], color='b', s=10, edgecolor='k', zorder=2)\n",
    "ax.scatter(x_train[1, 0], x_train[1, 1], color='r', s=10, edgecolor='k', zorder=2)\n",
    "ax.scatter(x_train[2, 0], x_train[2, 1], color='b', s=10, edgecolor='k', zorder=2)\n",
    "ax.scatter(x_train[3, 0], x_train[3, 1], color='r', s=10, edgecolor='k', zorder=2)\n",
    "ax.set_xlim(-4.5, 4.5)\n",
    "ax.set_ylim(-4.5, 4.5)\n",
    "ax.tick_params(axis='both', which='major', labelleft=False, labelbottom=False)\n",
    "ax.set_xticks([])\n",
    "ax.set_yticks([])\n",
    "ax.set_title(r'Cov. App.: $\\lambda={},\\ \\mu={}$'.format(l, m), size=10)\n",
    "plt.tight_layout()\n",
    "fig.savefig('savings/krr_{}_{}_fc_hard.pdf'.format(l, m_bis))    "
   ]
  },
  {
   "cell_type": "markdown",
   "id": "unable-omaha",
   "metadata": {},
   "source": [
    "Solution with full representation"
   ]
  },
  {
   "cell_type": "code",
   "execution_count": 193,
   "id": "rational-attraction",
   "metadata": {},
   "outputs": [],
   "source": [
    "A_d = TZ @ TZ.transpose()\n",
    "A_d /= n\n",
    "A_d *= lambd\n",
    "\n",
    "A = (ST.transpose()[..., :nl] @ ST[:nl])\n",
    "A /= nl\n",
    "A[:] = 0\n",
    "A += A_d\n",
    "A += mu * TT\n",
    "\n",
    "b = ST.transpose()[..., :nl] @ s_train[:nl]"
   ]
  },
  {
   "cell_type": "code",
   "execution_count": 194,
   "id": "empty-advantage",
   "metadata": {},
   "outputs": [],
   "source": [
    "c = np.linalg.solve(A, b)"
   ]
  },
  {
   "cell_type": "code",
   "execution_count": 195,
   "id": "chemical-mediterranean",
   "metadata": {},
   "outputs": [],
   "source": [
    "# SS_test = get_K(x_train, x_test, sigma)\n",
    "# SZ_test = get_SZ(x_train, x_test, sigma, SS_test)\n",
    "# ZZ_test = get_ZZ(x_train, x_test, sigma, SS_test)\n",
    "# ST_test = get_ST(x_train, x_test, sigma, SS_test, SZ_test)\n",
    "# TZ_test = get_TZ(x_train, x_test, sigma, SZ_test, ZZ_test)"
   ]
  },
  {
   "cell_type": "code",
   "execution_count": 196,
   "id": "vietnamese-invasion",
   "metadata": {},
   "outputs": [],
   "source": [
    "S_test_S = get_K(x_test, x_train, sigma)\n",
    "S_test_Z = get_SZ(x_test, x_train, sigma, S_test_S)\n",
    "Z_test_Z = get_ZZ(x_test, x_train, sigma, S_test_S)\n",
    "S_test_T = get_ST(x_test, x_train, sigma, S_test_S, S_test_Z)\n",
    "# T_test_Z = get_TZ(x_test, x_train, sigma, S_test_Z, Z_test_Z)"
   ]
  },
  {
   "cell_type": "code",
   "execution_count": 197,
   "id": "fancy-recycling",
   "metadata": {},
   "outputs": [],
   "source": [
    "Z = S_test_T @ c"
   ]
  },
  {
   "cell_type": "markdown",
   "id": "broken-trance",
   "metadata": {},
   "source": [
    "Figure"
   ]
  },
  {
   "cell_type": "code",
   "execution_count": 198,
   "id": "unlike-handy",
   "metadata": {},
   "outputs": [
    {
     "data": {
      "image/png": "[encoded data removed]",
      "text/plain": [
       "<Figure size 129.6x108 with 1 Axes>"
      ]
     },
     "metadata": {},
     "output_type": "display_data"
    }
   ],
   "source": [
    "fig, ax = plt.subplots(1, 1, figsize=(1.8, 1.5)) \n",
    "# fig, ax = plt.subplots(1, 1, figsize=(10, 7)) \n",
    "# ax.pcolor(X, Y, Z.reshape((num, num)) / np.sqrt(np.mean(Z**2)), cmap=\"RdBu_r\", vmin=-1, vmax=1)\n",
    "ax.pcolor(X, Y, 4 * Z.reshape((num, num)) / np.max(np.abs(Z)), cmap=\"RdBu_r\", vmin=-1, vmax=1)\n",
    "# ax.pcolor(X, Y, np.sign(Z.reshape((num, num))), cmap=\"RdBu_r\", vmin=-1, vmax=1)\n",
    "ax.scatter(x_train[4:, 0], x_train[4:, 1], color='k', s=1, zorder=2)\n",
    "ax.scatter(x_train[0, 0], x_train[0, 1], color='b', s=10, edgecolor='k', zorder=2)\n",
    "ax.scatter(x_train[1, 0], x_train[1, 1], color='r', s=10, edgecolor='k', zorder=2)\n",
    "ax.scatter(x_train[2, 0], x_train[2, 1], color='b', s=10, edgecolor='k', zorder=2)\n",
    "ax.scatter(x_train[3, 0], x_train[3, 1], color='r', s=10, edgecolor='k', zorder=2)\n",
    "ax.set_xlim(-4.5, 4.5)\n",
    "ax.set_ylim(-4.5, 4.5)\n",
    "ax.tick_params(axis='both', which='major', labelleft=False, labelbottom=False)\n",
    "ax.set_xticks([])\n",
    "ax.set_yticks([])\n",
    "ax.set_title(r'$S(\\hat L + \\varepsilon)^{-1} \\widehat{S^\\star g_\\rho}$', size=10)\n",
    "plt.tight_layout()\n",
    "fig.savefig('savings/L.pdf'.format(l, m_bis))    "
   ]
  },
  {
   "cell_type": "code",
   "execution_count": 109,
   "id": "improving-liver",
   "metadata": {},
   "outputs": [
    {
     "data": {
      "image/png": "[encoded data removed]",
      "text/plain": [
       "<Figure size 129.6x108 with 1 Axes>"
      ]
     },
     "metadata": {},
     "output_type": "display_data"
    }
   ],
   "source": [
    "fig, ax = plt.subplots(1, 1, figsize=(1.8, 1.5)) \n",
    "# fig, ax = plt.subplots(1, 1, figsize=(10, 7)) \n",
    "# ax.pcolor(X, Y, 10*Z.reshape((num, num)) / np.max(np.abs(Z)), cmap=\"RdBu_r\", vmin=-1, vmax=1)\n",
    "ax.pcolor(X, Y, np.sign(Z.reshape((num, num))), cmap=\"RdBu_r\", vmin=-1.2, vmax=1.2)\n",
    "ax.scatter(x_train[4:, 0], x_train[4:, 1], color='k', s=1, zorder=2)\n",
    "ax.scatter(x_train[0, 0], x_train[0, 1], color='b', s=10, edgecolor='k', zorder=2)\n",
    "ax.scatter(x_train[1, 0], x_train[1, 1], color='r', s=10, edgecolor='k', zorder=2)\n",
    "ax.scatter(x_train[2, 0], x_train[2, 1], color='b', s=10, edgecolor='k', zorder=2)\n",
    "ax.scatter(x_train[3, 0], x_train[3, 1], color='r', s=10, edgecolor='k', zorder=2)\n",
    "ax.set_xlim(-4.5, 4.5)\n",
    "ax.set_ylim(-4.5, 4.5)\n",
    "ax.tick_params(axis='both', which='major', labelleft=False, labelbottom=False)\n",
    "ax.set_xticks([])\n",
    "ax.set_yticks([])\n",
    "ax.set_title(r'Reconstruction: $\\lambda={},\\ \\mu={}$'.format(l, m), size=10)\n",
    "plt.tight_layout()\n",
    "fig.savefig('savings/krr_{}_{}_fhard.pdf'.format(l, m_bis))    "
   ]
  },
  {
   "cell_type": "markdown",
   "id": "supreme-sheffield",
   "metadata": {},
   "source": [
    "With full covariance"
   ]
  },
  {
   "cell_type": "code",
   "execution_count": 90,
   "id": "skilled-hebrew",
   "metadata": {},
   "outputs": [],
   "source": [
    "A = ST.transpose() @ ST\n",
    "A /= n\n",
    "A += A_d\n",
    "A += mu * TT"
   ]
  },
  {
   "cell_type": "code",
   "execution_count": 91,
   "id": "trained-siemens",
   "metadata": {},
   "outputs": [],
   "source": [
    "c = np.linalg.solve(A, b)"
   ]
  },
  {
   "cell_type": "code",
   "execution_count": 92,
   "id": "national-alpha",
   "metadata": {},
   "outputs": [],
   "source": [
    "Z = S_test_T @ c"
   ]
  },
  {
   "cell_type": "markdown",
   "id": "formal-monitor",
   "metadata": {},
   "source": [
    "Figure"
   ]
  },
  {
   "cell_type": "code",
   "execution_count": 93,
   "id": "together-startup",
   "metadata": {},
   "outputs": [
    {
     "data": {
      "image/png": "[encoded data removed]",
      "text/plain": [
       "<Figure size 129.6x108 with 1 Axes>"
      ]
     },
     "metadata": {},
     "output_type": "display_data"
    }
   ],
   "source": [
    "fig, ax = plt.subplots(1, 1, figsize=(1.8, 1.5)) \n",
    "# fig, ax = plt.subplots(1, 1, figsize=(10, 7)) \n",
    "ax.pcolor(X, Y, Z.reshape((num, num)) / np.sqrt(np.mean(Z**2)), cmap=\"RdBu_r\", vmin=-1, vmax=1)\n",
    "ax.scatter(x_train[4:, 0], x_train[4:, 1], color='k', s=1, zorder=2)\n",
    "ax.scatter(x_train[0, 0], x_train[0, 1], color='b', s=10, edgecolor='k', zorder=2)\n",
    "ax.scatter(x_train[1, 0], x_train[1, 1], color='r', s=10, edgecolor='k', zorder=2)\n",
    "ax.scatter(x_train[2, 0], x_train[2, 1], color='b', s=10, edgecolor='k', zorder=2)\n",
    "ax.scatter(x_train[3, 0], x_train[3, 1], color='r', s=10, edgecolor='k', zorder=2)\n",
    "ax.set_xlim(-4.5, 4.5)\n",
    "ax.set_ylim(-4.5, 4.5)\n",
    "ax.tick_params(axis='both', which='major', labelleft=False, labelbottom=False)\n",
    "ax.set_xticks([])\n",
    "ax.set_yticks([])\n",
    "ax.set_title(r'Cov. Rec.: $\\lambda={},\\ \\mu={}$'.format(l, m), size=10)\n",
    "plt.tight_layout()\n",
    "fig.savefig('savings/krr_{}_{}_fc_f.pdf'.format(l, m_bis))    "
   ]
  },
  {
   "cell_type": "code",
   "execution_count": 94,
   "id": "partial-solomon",
   "metadata": {},
   "outputs": [
    {
     "data": {
      "image/png": "[encoded data removed]",
      "text/plain": [
       "<Figure size 129.6x108 with 1 Axes>"
      ]
     },
     "metadata": {},
     "output_type": "display_data"
    }
   ],
   "source": [
    "fig, ax = plt.subplots(1, 1, figsize=(1.8, 1.5)) \n",
    "# fig, ax = plt.subplots(1, 1, figsize=(10, 7)) \n",
    "ax.pcolor(X, Y, np.sign(Z.reshape((num, num))), cmap=\"RdBu_r\", vmin=-1.2, vmax=1.2)\n",
    "ax.scatter(x_train[4:, 0], x_train[4:, 1], color='k', s=1, zorder=2)\n",
    "ax.scatter(x_train[0, 0], x_train[0, 1], color='b', s=10, edgecolor='k', zorder=2)\n",
    "ax.scatter(x_train[1, 0], x_train[1, 1], color='r', s=10, edgecolor='k', zorder=2)\n",
    "ax.scatter(x_train[2, 0], x_train[2, 1], color='b', s=10, edgecolor='k', zorder=2)\n",
    "ax.scatter(x_train[3, 0], x_train[3, 1], color='r', s=10, edgecolor='k', zorder=2)\n",
    "ax.set_xlim(-4.5, 4.5)\n",
    "ax.set_ylim(-4.5, 4.5)\n",
    "ax.tick_params(axis='both', which='major', labelleft=False, labelbottom=False)\n",
    "ax.set_xticks([])\n",
    "ax.set_yticks([])\n",
    "ax.set_title(r'Cov. Rec.: $\\lambda={},\\ \\mu={}$'.format(l, m), size=10)\n",
    "plt.tight_layout()\n",
    "fig.savefig('savings/krr_{}_{}_fc_fhard.pdf'.format(l, m_bis))    "
   ]
  },
  {
   "cell_type": "code",
   "execution_count": null,
   "id": "composite-halloween",
   "metadata": {},
   "outputs": [],
   "source": []
  }
 ],
 "metadata": {
  "kernelspec": {
   "display_name": "Python 3",
   "language": "python",
   "name": "python3"
  },
  "language_info": {
   "codemirror_mode": {
    "name": "ipython",
    "version": 3
   },
   "file_extension": ".py",
   "mimetype": "text/x-python",
   "name": "python",
   "nbconvert_exporter": "python",
   "pygments_lexer": "ipython3",
   "version": "3.7.9"
  }
 },
 "nbformat": 4,
 "nbformat_minor": 5
}
