{
 "cells": [
  {
   "cell_type": "markdown",
   "metadata": {},
   "source": [
    "# Classification"
   ]
  },
  {
   "cell_type": "markdown",
   "metadata": {},
   "source": [
    "Loading standard libraries"
   ]
  },
  {
   "cell_type": "code",
   "execution_count": 1,
   "metadata": {},
   "outputs": [],
   "source": [
    "import os\n",
    "import sys\n",
    "import matplotlib.pyplot as plt\n",
    "import numpy as np\n",
    "import time"
   ]
  },
  {
   "cell_type": "code",
   "execution_count": 2,
   "metadata": {},
   "outputs": [],
   "source": [
    "%matplotlib inline\n",
    "np.random.seed(0)\n",
    "plt.rcParams['text.usetex'] = True\n",
    "plt.rcParams[\"font.family\"] = \"serif\"\n",
    "plt.rcParams[\"font.serif\"] = \"Times\""
   ]
  },
  {
   "cell_type": "markdown",
   "metadata": {},
   "source": [
    "Loading internal abstractions"
   ]
  },
  {
   "cell_type": "code",
   "execution_count": 3,
   "metadata": {},
   "outputs": [],
   "source": [
    "sys.path.append('..')\n",
    "from weights import KernelComputer, KernelRegressor\n",
    "from dataloader import LIBSVMLoader, FoldsGenerator\n",
    "from classification import DF"
   ]
  },
  {
   "cell_type": "markdown",
   "metadata": {},
   "source": [
    "### Choose datasets to play with"
   ]
  },
  {
   "cell_type": "code",
   "execution_count": 4,
   "metadata": {},
   "outputs": [],
   "source": [
    "names = LIBSVMLoader.datasets\n",
    "names = ['dna', 'svmguide2']"
   ]
  },
  {
   "cell_type": "markdown",
   "metadata": {},
   "source": [
    "### Choose a kernel"
   ]
  },
  {
   "cell_type": "code",
   "execution_count": 5,
   "metadata": {},
   "outputs": [],
   "source": [
    "kernel_type = 'Gaussian'  # 'Gaussian', 'Laplacian', 'Linear'"
   ]
  },
  {
   "cell_type": "markdown",
   "metadata": {},
   "source": [
    "### Choose hyparameters for the simulations"
   ]
  },
  {
   "cell_type": "code",
   "execution_count": 6,
   "metadata": {},
   "outputs": [],
   "source": [
    "nb_folds = 8                                              # number of folds\n",
    "corruptions = [0, .1, .2, .3, .4, .5, .6, .7, .8, .9, 1]  # corruptions to test\n",
    "sigmas = [1e0, 1e-1, 1e-2]                      # different kernel parameters to test\n",
    "lambdas = [1e0, 1e-3, 1e-6]                    # different regularizations to test"
   ]
  },
  {
   "cell_type": "markdown",
   "metadata": {},
   "source": [
    "Internal main script"
   ]
  },
  {
   "cell_type": "code",
   "execution_count": 7,
   "metadata": {
    "scrolled": true
   },
   "outputs": [
    {
     "name": "stdout",
     "output_type": "stream",
     "text": [
      "dna\n",
      "svmguide2\n",
      "102.92331194877625\n"
     ]
    }
   ],
   "source": [
    "t = time.time()\n",
    "kernel = KernelComputer(kernel_type, sigma=1)\n",
    "kernel_reg = KernelRegressor(kernel)\n",
    "\n",
    "err_df, err_il, err_ac = {}, {}, {}\n",
    "shape_err = (len(corruptions), nb_folds, len(sigmas), len(lambdas))\n",
    "\n",
    "for name in names:\n",
    "    print(name)\n",
    "    \n",
    "    loader = LIBSVMLoader(name)\n",
    "    x, y = loader.get_trainset()\n",
    "    \n",
    "    index_to_corrupt = np.argmax(y.sum(axis=0))\n",
    "\n",
    "    S = np.empty((*y.shape, len(corruptions)))\n",
    "    for i, corruption in enumerate(corruptions):\n",
    "        S[..., i] = loader.skewed_corruption(y, corruption, index_to_corrupt)\n",
    "#         S[..., i] = loader.synthetic_corruption(y, corruption)\n",
    "        \n",
    "    err_df[name]= np.empty(shape_err)\n",
    "    err_il[name]= np.empty(shape_err)\n",
    "    err_ac[name]= np.empty(shape_err)\n",
    "    \n",
    "    floader = FoldsGenerator(x, y, S, nb_folds=nb_folds)\n",
    "    \n",
    "    for fold in range(nb_folds):\n",
    "\n",
    "        (x_train, S_train), (x_test, y_test) = floader()\n",
    "        y_test = np.argmax(y_test, axis=1)\n",
    "        kernel_reg.set_support(x_train)\n",
    "        n_train, dim = x_train.shape\n",
    "        \n",
    "        for i_s, c_sigma in enumerate(sigmas):\n",
    "            sigma = c_sigma * dim\n",
    "            kernel_reg.update_sigma(sigma)\n",
    "\n",
    "            for i_l, c_lambda in enumerate(lambdas):\n",
    "                lambd = c_lambda / np.sqrt(n_train)\n",
    "                kernel_reg.update_lambda(lambd)\n",
    "                alpha = kernel_reg(x_test)\n",
    "                alpha_train = kernel_reg(x_train)\n",
    "                alpha_train += alpha_train.T\n",
    "\n",
    "                for i_c, corruption in enumerate(corruptions):\n",
    "                    s_train = S_train[..., i_c]\n",
    "\n",
    "                    y_train = DF.disambiguation(alpha_train, s_train.astype(np.bool_))\n",
    "                    y_df = np.argmax(alpha @ y_train, axis=1)\n",
    "        \n",
    "                    y_il = np.argmax(alpha @ s_train, axis=1)                    \n",
    "                    \n",
    "                    s_train = s_train / s_train.sum(axis=1)[:, np.newaxis]\n",
    "                    y_ac = np.argmax(alpha @ s_train, axis=1)\n",
    "                        \n",
    "                    err_df[name][i_c, fold, i_s, i_l] = (y_df != y_test).mean()\n",
    "                    err_il[name][i_c, fold, i_s, i_l] = (y_il != y_test).mean()                  \n",
    "                    err_ac[name][i_c, fold, i_s, i_l] = (y_ac != y_test).mean()\n",
    "print(time.time() - t)"
   ]
  },
  {
   "cell_type": "code",
   "execution_count": 8,
   "metadata": {},
   "outputs": [],
   "source": [
    "# best = np.array([['s0l0', 's1l0', 's2l0'], ['s0l1', 's1l1', 's2l1'], ['s0l2', 's1l2', 's2l2']]).reshape(-1)\n",
    "n_c = len(corruptions)\n",
    "mus, stds = np.empty((len(names), 3, n_c)), np.empty((len(names), 3, n_c))\n",
    "for i, name in enumerate(names):\n",
    "    for j, err in zip([0, 1, 2], [err_df, err_il, err_ac]):\n",
    "        tmp = err[name].reshape((len(corruptions), nb_folds, -1))\n",
    "        mu = tmp.mean(axis=1)\n",
    "        ind = mu.argmin(axis=-1)\n",
    "        for k in range(len(corruptions)):\n",
    "            mus[i, j, k] = mu[k, ind[k]]\n",
    "            stds[i, j, k] = tmp[k, :, ind[k]].std()\n",
    "#         print(name, best[ind])"
   ]
  },
  {
   "cell_type": "code",
   "execution_count": 9,
   "metadata": {},
   "outputs": [
    {
     "data": {
      "image/png": "[encoded data removed]",
      "text/plain": [
       "<Figure size 216x126 with 1 Axes>"
      ]
     },
     "metadata": {
      "needs_background": "light"
     },
     "output_type": "display_data"
    },
    {
     "data": {
      "image/png": "[encoded data removed]",
      "text/plain": [
       "<Figure size 216x126 with 1 Axes>"
      ]
     },
     "metadata": {
      "needs_background": "light"
     },
     "output_type": "display_data"
    }
   ],
   "source": [
    "for i, name in enumerate(names):\n",
    "    fig, ax = plt.subplots(figsize=(3, 1.75))\n",
    "    c = ax.errorbar([100*i for i in corruptions[:-2]], mus[i, 2][:-2], .5*stds[i, 2][:-2], capsize=2, linewidth=2, capthick=2, color='C0', alpha=.5)\n",
    "    b = ax.errorbar([100*i for i in corruptions[:-2]], mus[i, 1][:-2], .5*stds[i, 1][:-2], capsize=2, linewidth=2, capthick=2, color='C2', alpha=.5)\n",
    "    a = ax.errorbar([100*i for i in corruptions[:-2]], mus[i, 0][:-2], .5*stds[i, 0][:-2], capsize=2, linewidth=2, capthick=2, color='C1')\n",
    "    ax.legend([a, b, c], ['DF', \"IL\", \"AC\"], prop={'size':6}, ncol=3)\n",
    "#     ax.legend([b, c], [\"IL\", \"AC\"], prop={'size':9}, ncol=2)\n",
    "    ax.grid()\n",
    "    ax.set_title(r\"``\" + name[0].upper() + name[1:] + \"'' dataset\", size=10)\n",
    "    ax.set_ylabel(r'Loss', size=8)\n",
    "    ax.set_xlabel(r'Corruption (in \\%)', size=8)\n",
    "    ax.tick_params(axis='both', which='major', labelsize=5)\n",
    "    ax.set_yticks([])\n",
    "    fig.tight_layout()\n",
    "    fig.savefig(os.path.join('savings', 'cl', name + '.pdf'))"
   ]
  },
  {
   "cell_type": "raw",
   "metadata": {},
   "source": [
    "for i, name in enumerate(names):\n",
    "    fig, ax = plt.subplots(figsize=(15, 10))\n",
    "    c = ax.errorbar([100*i for i in corruptions[:-1]], mus[i, 2][:-1], .5*stds[i, 2][:-1], capsize=20, linewidth=10, capthick=10, color='C0')\n",
    "    b = ax.errorbar([100*i for i in corruptions[:-1]], mus[i, 1][:-1], .5*stds[i, 1][:-1], capsize=20, linewidth=10, capthick=10, color='C1')\n",
    "    ax.legend([b, c], [\"IL\", \"AC\"], prop={'size':48}, ncol=2, edgecolor='k')\n",
    "    ax.grid()\n",
    "    ax.set_title(name, size=48, color='w')\n",
    "    ax.set_ylabel('Loss', size=48, color='w')\n",
    "    ax.set_xlabel('Corruption (in %)', size=48, color='w')\n",
    "    ax.tick_params(axis='both', which='major', labelsize=34, color='w', labelcolor='w')\n",
    "    plt.tight_layout()\n",
    "    fig.savefig(os.path.join('savings', 'cl', name + '.png'), facecolor='k', transparent=False)"
   ]
  },
  {
   "cell_type": "code",
   "execution_count": null,
   "metadata": {},
   "outputs": [],
   "source": []
  }
 ],
 "metadata": {
  "kernelspec": {
   "display_name": "Python 3",
   "language": "python",
   "name": "python3"
  },
  "language_info": {
   "codemirror_mode": {
    "name": "ipython",
    "version": 3
   },
   "file_extension": ".py",
   "mimetype": "text/x-python",
   "name": "python",
   "nbconvert_exporter": "python",
   "pygments_lexer": "ipython3",
   "version": "3.7.9"
  }
 },
 "nbformat": 4,
 "nbformat_minor": 4
}
