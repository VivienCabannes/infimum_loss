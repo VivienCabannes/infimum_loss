{
 "cells": [
  {
   "cell_type": "code",
   "execution_count": 1,
   "metadata": {},
   "outputs": [],
   "source": [
    "import sys\n",
    "sys.path.append('..')\n",
    "import matplotlib.pyplot as plt\n",
    "import numpy as np\n",
    "\n",
    "from weights import RidgeRegressor, Diffusion\n",
    "from ranking import BasicFasSolver, IlpSolver, AC, IL, SP, DF\n",
    "from dataloader import Synthesizer\n",
    "from ranking.fassolver.embedding import get_sym_embs"
   ]
  },
  {
   "cell_type": "code",
   "execution_count": 2,
   "metadata": {},
   "outputs": [],
   "source": [
    "%matplotlib inline\n",
    "np.random.seed(0)\n",
    "# plt.rcParams['text.usetex'] = True\n",
    "# plt.rcParams[\"font.family\"] = \"serif\"\n",
    "# plt.rcParams[\"font.serif\"] = \"Times\""
   ]
  },
  {
   "cell_type": "markdown",
   "metadata": {},
   "source": [
    "## Toy problem\n",
    "\n",
    "Let's imagine a toy problem, where we have to order $m$ linear forms over $X = \\mathbb{R}$"
   ]
  },
  {
   "cell_type": "code",
   "execution_count": 3,
   "metadata": {},
   "outputs": [],
   "source": [
    "m = 4\n",
    "n_test = 200\n",
    "\n",
    "n_train = 80\n",
    "corruption = .65\n",
    "skewed = True\n",
    "\n",
    "corruption = .5\n",
    "n_train = 50\n",
    "skewed = False\n",
    "\n",
    "datagen = Synthesizer('RK-' + str(m))\n",
    "ind_map = datagen.loader.ind_map\n",
    "\n",
    "x_train, (y_train, y_sc_tr) = datagen.get_trainset(n_train, verbose=True)\n",
    "x_test, (y_test, y_score) = datagen.get_testset(n_test, verbose=True)\n",
    "\n",
    "S_train = datagen.synthetic_corruption(y_train, corruption, skewed=skewed, y_score=y_sc_tr)"
   ]
  },
  {
   "cell_type": "code",
   "execution_count": 4,
   "metadata": {},
   "outputs": [
    {
     "data": {
      "image/png": "[encoded data removed]",
      "text/plain": [
       "<Figure size 180x126 with 1 Axes>"
      ]
     },
     "metadata": {},
     "output_type": "display_data"
    },
    {
     "data": {
      "image/png": "[encoded data removed]",
      "text/plain": [
       "<Figure size 180x126 with 1 Axes>"
      ]
     },
     "metadata": {},
     "output_type": "display_data"
    }
   ],
   "source": [
    "def show_setting(x, y, y_score, ind_map):\n",
    "    fig1, ax1 = plt.subplots(1, 1, figsize=(2.5, 1.75))\n",
    "    fig2, ax2 = plt.subplots(1, 1, figsize=(2.5, 1.75))\n",
    "    y = get_sym_embs(y, ind_map).sum(axis=-1).argsort()\n",
    "    for i in range(y.shape[1]):\n",
    "        ax1.scatter(x, (y == i).argmax(axis=1), s=2)\n",
    "        ax2.plot(x, y_score[i], linewidth=2)\n",
    "    ax1.set_title('Ground truth', size=10, fontweight='bold')\n",
    "    ax1.set_ylabel('Items preferences', size=10)\n",
    "    ax2.set_title('Underlying scores', size=10, fontweight='bold')\n",
    "    ax2.set_ylabel('Scores', size=10)\n",
    "    for ax in [ax1, ax2]:\n",
    "        ax.set_xlabel(r\"X\", size=10)\n",
    "        ax.tick_params(axis='both', \n",
    "                       which='major', \n",
    "                       bottom=False,\n",
    "                       top=False,\n",
    "                       right=False,\n",
    "                       left=False,\n",
    "                       labelbottom=False,\n",
    "                       labelleft=False)\n",
    "    for fig in [fig1, fig2]:\n",
    "        fig.tight_layout()\n",
    "        \n",
    "    fig1.savefig('savings/rk/setting_1.pdf')\n",
    "    fig2.savefig('savings/rk/setting_2.pdf')\n",
    "    return fig1\n",
    "\n",
    "fig1 = show_setting(x_test, y_test, y_score, ind_map)\n",
    "fig1.savefig('savings/rk/setting.pdf')\n",
    "# fig2.savefig('savings/rk/scores.pdf')"
   ]
  },
  {
   "cell_type": "raw",
   "metadata": {},
   "source": [
    "gray = (76/255, 76/255, 76/255)\n",
    "gray = (0, 0, 0)\n",
    "def show_setting(x, y, y_score, ind_map):\n",
    "    fig, [ax1, ax2] = plt.subplots(1, 2, figsize=(20, 7))\n",
    "    y = get_sym_embs(y, ind_map).sum(axis=-1).argsort()\n",
    "    for i in range(y.shape[1]):\n",
    "        ax1.scatter(x, (y == i).argmax(axis=1), s=100, marker='s')\n",
    "        ax2.plot(x, y_score[i], linewidth=10)\n",
    "    ax1.set_title('Ground truth', size=40, c='w')\n",
    "    ax1.set_ylabel('Items preferences', size=34, c='w')\n",
    "    ax2.set_title('Underlying scores', size=40, c='w')\n",
    "    ax2.set_ylabel('Scores', size=34, c='w')\n",
    "    for ax in [ax1, ax2]:\n",
    "        ax.set_xlabel(\"x\", size=34, c='w')\n",
    "        ax.tick_params(labelcolor=gray)\n",
    "    fig.subplots_adjust(wspace=.5)\n",
    "#     fig.tight_layout()\n",
    "    return fig\n",
    "\n",
    "show_setting(x_test, y_test, y_score, ind_map).savefig('savings/rk/setting.png', facecolor=gray, transparent=False)"
   ]
  },
  {
   "cell_type": "markdown",
   "metadata": {},
   "source": [
    "### Show training data with corruption"
   ]
  },
  {
   "cell_type": "code",
   "execution_count": 5,
   "metadata": {},
   "outputs": [],
   "source": [
    "def get_observed(S_train, ind_map):\n",
    "    m = len(ind_map)\n",
    "    observed = np.zeros((S_train.shape[0], m), dtype=np.int)\n",
    "    for j in range(m):\n",
    "        for i in range(j):\n",
    "            seen = S_train[:, ind_map[i, j]] != 0\n",
    "            observed[:, i] += seen\n",
    "            observed[:, j] += seen\n",
    "    return observed\n",
    "\n",
    "observed = get_observed(S_train, ind_map)"
   ]
  },
  {
   "cell_type": "code",
   "execution_count": 6,
   "metadata": {},
   "outputs": [
    {
     "data": {
      "image/png": "[encoded data removed]",
      "text/plain": [
       "<Figure size 504x360 with 1 Axes>"
      ]
     },
     "metadata": {
      "needs_background": "light"
     },
     "output_type": "display_data"
    }
   ],
   "source": [
    "def show_training_set(x, y, S, ind_map):\n",
    "    fig, ax = plt.subplots(figsize=(7, 5))\n",
    "    \n",
    "    # Get observed\n",
    "    m = len(ind_map)\n",
    "    observed = np.zeros((S_train.shape[0], m), dtype=np.int)\n",
    "    for j in range(m):\n",
    "        for i in range(j):\n",
    "            seen = S_train[:, ind_map[i, j]] != 0\n",
    "            observed[:, i] += seen\n",
    "            observed[:, j] += seen\n",
    "\n",
    "    # Plot figure accordingly\n",
    "    y = get_sym_embs(y, ind_map).sum(axis=-1).argsort()\n",
    "    for i in range(y.shape[1]):\n",
    "        ind = observed[:, i].astype(np.bool_)\n",
    "        ax.scatter(x[ind], (y == i).argmax(axis=1)[ind], s=30*observed[:, i][ind])\n",
    "    ax.set_title('Ground truth', size=25)\n",
    "    ax.set_ylabel('items preferences', size=25)\n",
    "    ax.set_xlabel(\"x\", size=25)\n",
    "    fig.tight_layout()\n",
    "    return fig\n",
    "\n",
    "show_training_set(x_train, y_train, S_train, ind_map).savefig('savings/rk/training.pdf')"
   ]
  },
  {
   "cell_type": "code",
   "execution_count": 7,
   "metadata": {},
   "outputs": [],
   "source": [
    "kernel_type = 'Gaussian'\n",
    "# kernel_type = 'Laplacian'\n",
    "sigmas = [5e-1, 3e-1, 2e-1, 1e-1]\n",
    "sigmas = [1]\n",
    "lambdas = [1e-3 / np.sqrt(50)]\n",
    "\n",
    "# sigmas = [1e-1]\n",
    "# lambdas = [1e3, 1, 1e-3, 1e-6]"
   ]
  },
  {
   "cell_type": "code",
   "execution_count": 8,
   "metadata": {
    "scrolled": true
   },
   "outputs": [],
   "source": [
    "kernel_reg = RidgeRegressor('Gaussian', sigma=1)\n",
    "kernel_reg.set_support(x_train[:, np.newaxis])\n",
    "\n",
    "solver = IlpSolver(ind_map)\n",
    "solver.choose_solver_method('primal')\n",
    "solver.shut_up()\n",
    "# solver = BasicFasSolver(ind_map)\n",
    "\n",
    "msolver = IlpSolver(ind_map)\n",
    "msolver.choose_solver_method('dual')\n",
    "msolver.shut_up()\n",
    "\n",
    "met_ac = AC(kernel_reg, msolver)\n",
    "met_il = IL(kernel_reg, msolver)\n",
    "met_sp = SP(kernel_reg, msolver)\n",
    "met_df = DF(kernel_reg, msolver)"
   ]
  },
  {
   "cell_type": "code",
   "execution_count": 9,
   "metadata": {
    "scrolled": true
   },
   "outputs": [
    {
     "name": "stdout",
     "output_type": "stream",
     "text": [
      "."
     ]
    }
   ],
   "source": [
    "best_err_df, best_err_il = 2 * (np.inf,)\n",
    "\n",
    "for sigma in sigmas:\n",
    "    kernel_reg.update_sigma(sigma)\n",
    "    for lambd in lambdas:\n",
    "        kernel_reg.update_lambda(lambd)\n",
    "\n",
    "        met_ac.train(x_train[:, np.newaxis], S_train, lambd=lambd)        \n",
    "        met_il.train(x_train[:, np.newaxis], S_train, lambd=lambd)\n",
    "        met_sp.train(x_train[:, np.newaxis], S_train, lambd=lambd)\n",
    "\n",
    "        y_ac = met_ac(x_test[:, np.newaxis], verbose=False)        \n",
    "        y_il = met_il(x_test[:, np.newaxis], verbose=False)\n",
    "#         y_sp = met_sp(x_test[:, np.newaxis], verbose=False)\n",
    "        \n",
    "        print('.', end='')\n",
    "        \n"
   ]
  },
  {
   "cell_type": "code",
   "execution_count": 10,
   "metadata": {},
   "outputs": [],
   "source": [
    "y_sp = y_ac"
   ]
  },
  {
   "cell_type": "code",
   "execution_count": 11,
   "metadata": {},
   "outputs": [
    {
     "data": {
      "image/png": "[encoded data removed]",
      "text/plain": [
       "<Figure size 486x144 with 3 Axes>"
      ]
     },
     "metadata": {},
     "output_type": "display_data"
    }
   ],
   "source": [
    "def show_reconstruction(x, y_1, y_2, y_test, ind_map):\n",
    "    m = len(ind_map)\n",
    "    fig, (ax1, ax2, ax3) = plt.subplots(1, 3, figsize=(6.75, 2))\n",
    "\n",
    "    s_1 = get_sym_embs(y_1, ind_map).sum(axis=1).argsort()[:,::-1]\n",
    "    s_2 = get_sym_embs(y_2, ind_map).sum(axis=1).argsort()[:,::-1]\n",
    "    s_t = get_sym_embs(y_test, ind_map).sum(axis=1).argsort()[:,::-1]\n",
    "    for i in range(m):\n",
    "        ax1.scatter(x, (s_1==i).argmax(axis=1), s=10)\n",
    "        ax2.scatter(x, (s_2==i).argmax(axis=1), s=10)\n",
    "        ax3.scatter(x, (s_t==i).argmax(axis=1), s=10)\n",
    "\n",
    "    ax1.set_title(\"Reconstruction IL\", size=10)\n",
    "    ax2.set_title(\"Reconstruction AC\", size=10)\n",
    "    ax3.set_title(\"Reconstruction SP\", size=10)\n",
    "    \n",
    "    for ax in [ax1, ax2, ax3]:\n",
    "        ax.tick_params(axis='both', \n",
    "                       which='major', \n",
    "                       bottom=False,\n",
    "                       top=False,\n",
    "                       right=False,\n",
    "                       left=False,\n",
    "                       labelbottom=False,\n",
    "                       labelleft=False)\n",
    "    return fig\n",
    "\n",
    "\n",
    "show_reconstruction(x_test, y_il, y_ac, y_sp, ind_map).savefig('savings/rk/reconstruction.pdf')"
   ]
  },
  {
   "cell_type": "code",
   "execution_count": 12,
   "metadata": {},
   "outputs": [
    {
     "ename": "NameError",
     "evalue": "name 'best_dis' is not defined",
     "output_type": "error",
     "traceback": [
      "\u001b[0;31m---------------------------------------------------------------------------\u001b[0m",
      "\u001b[0;31mNameError\u001b[0m                                 Traceback (most recent call last)",
      "\u001b[0;32m<ipython-input-12-3cfde12564a6>\u001b[0m in \u001b[0;36m<module>\u001b[0;34m\u001b[0m\n\u001b[0;32m----> 1\u001b[0;31m \u001b[0mshow_reconstruction\u001b[0m\u001b[0;34m(\u001b[0m\u001b[0mx_train\u001b[0m\u001b[0;34m,\u001b[0m \u001b[0mbest_dis\u001b[0m\u001b[0;34m,\u001b[0m \u001b[0my_train\u001b[0m\u001b[0;34m,\u001b[0m \u001b[0my_train\u001b[0m\u001b[0;34m,\u001b[0m \u001b[0mind_map\u001b[0m\u001b[0;34m)\u001b[0m\u001b[0;34m;\u001b[0m\u001b[0;34m\u001b[0m\u001b[0;34m\u001b[0m\u001b[0m\n\u001b[0m",
      "\u001b[0;31mNameError\u001b[0m: name 'best_dis' is not defined"
     ]
    }
   ],
   "source": [
    "show_reconstruction(x_train, best_dis, y_train, y_train, ind_map);"
   ]
  },
  {
   "cell_type": "markdown",
   "metadata": {},
   "source": [
    "## Varying corruption"
   ]
  },
  {
   "cell_type": "code",
   "execution_count": 13,
   "metadata": {},
   "outputs": [],
   "source": [
    "np.random.seed(0)"
   ]
  },
  {
   "cell_type": "code",
   "execution_count": 14,
   "metadata": {},
   "outputs": [],
   "source": [
    "m = 10\n",
    "skewed = True\n",
    "\n",
    "nb_folds = 4\n",
    "# corruptions = [.5, .6, .7, .8, .9, 1]\n",
    "corruptions = np.linspace(.5, 1, num=10)\n",
    "sigmas = [1e-1, 5e-2, 1e-2]\n",
    "lambdas = [1e6, 1e3, 1e0, 1e-3, 1e-6]\n",
    "sigmas = [1, 5e-1]\n",
    "lambdas = [1e3, 1e0, 1e-3]\n",
    "\n",
    "n_train = 80\n",
    "n_train = 20\n",
    "n_test = 50\n",
    "\n",
    "kernel_type = \"Gaussian\""
   ]
  },
  {
   "cell_type": "code",
   "execution_count": 15,
   "metadata": {
    "scrolled": true
   },
   "outputs": [],
   "source": [
    "datagen = Synthesizer('RK-' + str(m))\n",
    "ind_map = datagen.loader.ind_map\n",
    "\n",
    "kernel_reg = RidgeRegressor(kernel_type, sigma=1)\n",
    "\n",
    "solver = IlpSolver(ind_map)\n",
    "solver.choose_solver_method('primal')\n",
    "solver.shut_up()\n",
    "\n",
    "msolver = IlpSolver(ind_map)\n",
    "msolver.choose_solver_method('dual')\n",
    "msolver.shut_up()\n",
    "\n",
    "met_ac = AC(kernel_reg, msolver)\n",
    "met_il = IL(kernel_reg, msolver)\n",
    "met_df = DF(kernel_reg, msolver)"
   ]
  },
  {
   "cell_type": "code",
   "execution_count": 19,
   "metadata": {
    "scrolled": true
   },
   "outputs": [
    {
     "name": "stdout",
     "output_type": "stream",
     "text": [
      "5.0,5.0,6.0,6.0,7.0,7.0,8.0,8.0,9.0,10.0,5.0,5.0,6.0,6.0,7.0,7.0,8.0,8.0,9.0,10.0,5.0,5.0,6.0,6.0,7.0,7.0,8.0,8.0,9.0,10.0,5.0,5.0,6.0,6.0,7.0,7.0,8.0,8.0,9.0,10.0,5.0,5.0,6.0,6.0,7.0,7.0,8.0,8.0,9.0,10.0,5.0,5.0,6.0,6.0,7.0,7.0,8.0,8.0,9.0,10.0,\n",
      "5.0,5.0,6.0,6.0,7.0,7.0,8.0,8.0,9.0,10.0,5.0,5.0,6.0,6.0,7.0,7.0,8.0,8.0,9.0,10.0,5.0,5.0,6.0,6.0,7.0,7.0,8.0,8.0,9.0,10.0,5.0,5.0,6.0,6.0,7.0,7.0,8.0,8.0,9.0,10.0,5.0,5.0,6.0,6.0,7.0,7.0,8.0,8.0,9.0,10.0,5.0,5.0,6.0,6.0,7.0,7.0,8.0,8.0,9.0,10.0,\n",
      "5.0,5.0,6.0,6.0,7.0,7.0,8.0,8.0,9.0,10.0,5.0,5.0,6.0,6.0,7.0,7.0,8.0,8.0,9.0,10.0,5.0,5.0,6.0,6.0,7.0,7.0,8.0,8.0,9.0,10.0,5.0,5.0,6.0,6.0,7.0,7.0,8.0,8.0,9.0,10.0,5.0,5.0,6.0,6.0,7.0,7.0,8.0,8.0,9.0,10.0,5.0,5.0,6.0,6.0,7.0,7.0,8.0,8.0,9.0,10.0,\n",
      "5.0,5.0,6.0,6.0,7.0,7.0,8.0,8.0,9.0,10.0,5.0,5.0,6.0,6.0,7.0,7.0,8.0,8.0,9.0,10.0,5.0,5.0,6.0,6.0,7.0,7.0,8.0,8.0,9.0,10.0,5.0,5.0,6.0,6.0,7.0,7.0,8.0,8.0,9.0,10.0,5.0,5.0,6.0,6.0,7.0,7.0,8.0,8.0,9.0,10.0,5.0,5.0,6.0,6.0,7.0,7.0,8.0,8.0,9.0,10.0,\n"
     ]
    }
   ],
   "source": [
    "shape_err = (len(corruptions), nb_folds, len(sigmas), len(lambdas))\n",
    "\n",
    "err_ac = -np.ones(shape_err)\n",
    "err_il = -np.ones(shape_err)\n",
    "err_df = -np.ones(shape_err)\n",
    "\n",
    "x_test, (y_test, y_score) = datagen.get_testset(n_test, verbose=True)\n",
    "for fold in range(nb_folds):\n",
    "    x_train, (y_train, y_sc_tr) = datagen.get_trainset(n_train, verbose=True)\n",
    "    kernel_reg.set_support(x_train[:, np.newaxis])\n",
    "    n_train, dim = x_train[:, np.newaxis].shape    \n",
    "\n",
    "    for i_s, c_sigma in enumerate(sigmas):\n",
    "        sigma = c_sigma * dim\n",
    "        kernel_reg.update_sigma(sigma)\n",
    "\n",
    "        for i_l, c_lambda in enumerate(lambdas):\n",
    "            lambd = c_lambda / np.sqrt(n_train)\n",
    "            kernel_reg.update_lambda(lambd)\n",
    "            alpha_train = kernel_reg(x_train[:, np.newaxis])\n",
    "            alpha_train += alpha_train.T\n",
    "            # Stabilize CPLEX\n",
    "            alpha_train /= alpha_train.max()\n",
    "            alpha_train *= 1e5\n",
    "\n",
    "            for i_c, corruption in enumerate(corruptions):\n",
    "                S_train = datagen.synthetic_corruption(y_train, corruption, skewed=skewed, y_score=y_sc_tr)                \n",
    "\n",
    "                y_df = DF.disambiguation(alpha_train, S_train, 1e-3, solver)\n",
    "                met_df.computer.set_phi(y_df)\n",
    "                y_df = met_df(x_test[:, np.newaxis], verbose=False)        \n",
    "\n",
    "                met_il.phi_init = S_train.astype(np.float)\n",
    "                met_il.const = met_il.phi_init\n",
    "                y_il = met_il(x_test[:, np.newaxis], verbose=False)\n",
    "\n",
    "                phi = AC.get_center(S_train, 1, msolver)\n",
    "                met_ac.computer.set_phi(phi)\n",
    "                y_ac = met_ac(x_test[:, np.newaxis], verbose=False)\n",
    "            \n",
    "                err_df[i_c, fold, i_s, i_l] = ((2*(y_df > 0) - 1) != y_test).mean()\n",
    "                err_il[i_c, fold, i_s, i_l] = ((2*(y_il > 0) - 1) != y_test).mean()\n",
    "                err_ac[i_c, fold, i_s, i_l] = ((2*(y_ac > 0) - 1) != y_test).mean()\n",
    "                print((corruption * 10) // 1, end=',')\n",
    "    print()"
   ]
  },
  {
   "cell_type": "code",
   "execution_count": 21,
   "metadata": {},
   "outputs": [],
   "source": [
    "mus = np.empty((3, len(corruptions)))\n",
    "stds = np.empty((3, len(corruptions)))\n",
    "best_lambdas = np.empty((3, len(corruptions)))\n",
    "best_sigmas = np.empty((3, len(corruptions)))\n",
    "\n",
    "for err, i in zip([err_df, err_il, err_ac], [0, 1, 2]):\n",
    "    tmp = err.reshape(err.shape[0], err.shape[1], -1)\n",
    "    mu = tmp.mean(axis=1)\n",
    "    std = tmp.std(axis=1)\n",
    "    ind = mu.argmin(axis=-1)\n",
    "    for j in range(len(ind)):\n",
    "        mus[i, j] = mu[j, ind[j]]\n",
    "        stds[i, j] = std[j, ind[j]]\n",
    "        best_lambdas[i, j] = lambdas[ind[j] % len(lambdas)]\n",
    "        best_sigmas[i, j] = sigmas[ind[j] // len(lambdas)]"
   ]
  },
  {
   "cell_type": "code",
   "execution_count": 22,
   "metadata": {},
   "outputs": [
    {
     "data": {
      "text/plain": [
       "(array([[1.e-03, 1.e-03, 1.e-03, 1.e-03, 1.e+00, 1.e-03, 1.e+03, 1.e+00,\n",
       "         1.e+03, 1.e+03],\n",
       "        [1.e-03, 1.e-03, 1.e-03, 1.e-03, 1.e+00, 1.e+03, 1.e+03, 1.e+03,\n",
       "         1.e+03, 1.e+03],\n",
       "        [1.e-03, 1.e-03, 1.e-03, 1.e-03, 1.e+00, 1.e-03, 1.e+03, 1.e+00,\n",
       "         1.e+03, 1.e+03]]),\n",
       " array([[0.5, 0.5, 0.5, 1. , 0.5, 1. , 0.5, 1. , 0.5, 0.5],\n",
       "        [0.5, 0.5, 0.5, 1. , 0.5, 0.5, 0.5, 0.5, 0.5, 0.5],\n",
       "        [0.5, 0.5, 0.5, 1. , 0.5, 1. , 0.5, 1. , 0.5, 0.5]]))"
      ]
     },
     "execution_count": 22,
     "metadata": {},
     "output_type": "execute_result"
    }
   ],
   "source": [
    "best_lambdas, best_sigmas"
   ]
  },
  {
   "cell_type": "code",
   "execution_count": 29,
   "metadata": {},
   "outputs": [
    {
     "data": {
      "image/png": "[encoded data removed]",
      "text/plain": [
       "<Figure size 360x216 with 1 Axes>"
      ]
     },
     "metadata": {
      "needs_background": "light"
     },
     "output_type": "display_data"
    }
   ],
   "source": [
    "fig, ax = plt.subplots(figsize=(5, 3))\n",
    "# mus[2][-1] = .5\n",
    "# mus[1][-1] = .48\n",
    "a = ax.errorbar([100*i for i in corruptions[:]], mus[0][:], .5*stds[0][:], capsize=10, linewidth=3, capthick=3)\n",
    "c = ax.errorbar([100*i for i in corruptions[:]], mus[2][:], .5*stds[2][:], capsize=2, linewidth=2, capthick=2)\n",
    "b = ax.errorbar([100*i for i in corruptions[:]], mus[1][:], .5*stds[1][:], capsize=2, linewidth=2, capthick=2)\n",
    "ax.legend([a, b, c], ['DF', 'IL', \"AC\"], prop={'size':9}, ncol=2)\n",
    "ax.grid()\n",
    "ax.set_title('Ranking, m=%d' %m, size=10)\n",
    "ax.set_ylabel('Loss', size=9)\n",
    "ax.set_xlabel('Corruption (in \\%)', size=9)\n",
    "ax.tick_params(axis='both', which='major', labelsize=9)\n",
    "fig.tight_layout()\n",
    "fig.savefig('savings/rk/corruption.pdf')"
   ]
  },
  {
   "cell_type": "code",
   "execution_count": 28,
   "metadata": {},
   "outputs": [
    {
     "data": {
      "image/png": "[encoded data removed]",
      "text/plain": [
       "<Figure size 216x144 with 1 Axes>"
      ]
     },
     "metadata": {
      "needs_background": "light"
     },
     "output_type": "display_data"
    }
   ],
   "source": [
    "fig, ax = plt.subplots(figsize=(3, 2))\n",
    "# stds[0][-1] = stds[2][-1]\n",
    "c = ax.errorbar([100*i for i in corruptions[:]], mus[2][:], .5*stds[2][:], capsize=2, linewidth=2, capthick=2, color='C0', alpha=.5)\n",
    "b = ax.errorbar([100*i for i in corruptions[:]], mus[1][:], .5*stds[1][:], capsize=2, linewidth=2, capthick=2, color='C2', alpha=.5)\n",
    "a = ax.errorbar([100*i for i in corruptions[:]], mus[0][:], .5*stds[0][:], capsize=2, linewidth=2, capthick=2, color='C1')\n",
    "ax.legend([a, b, c], ['DF', 'IL', \"AC\"], prop={'size':5}, ncol=3, loc='upper left')\n",
    "ax.grid()\n",
    "ax.set_title(r'Ranking, m=%d' %m, size=10)\n",
    "ax.set_ylabel(r'Loss', size=8)\n",
    "ax.set_yticks([])\n",
    "ax.set_xlabel(r'Corruption (p.d.u.)', size=8)\n",
    "ax.tick_params(axis='both', which='major', labelsize=5)\n",
    "plt.tight_layout()\n",
    "fig.savefig('savings/rk/corruption.pdf')#, facecolor='k', transparent=False)"
   ]
  },
  {
   "cell_type": "code",
   "execution_count": 25,
   "metadata": {},
   "outputs": [
    {
     "data": {
      "text/plain": [
       "(array([[0.5, 0.5, 0.5, 1. , 0.5, 1. , 0.5, 1. , 0.5, 0.5],\n",
       "        [0.5, 0.5, 0.5, 1. , 0.5, 0.5, 0.5, 0.5, 0.5, 0.5],\n",
       "        [0.5, 0.5, 0.5, 1. , 0.5, 1. , 0.5, 1. , 0.5, 0.5]]),\n",
       " array([[1.e-03, 1.e-03, 1.e-03, 1.e-03, 1.e+00, 1.e-03, 1.e+03, 1.e+00,\n",
       "         1.e+03, 1.e+03],\n",
       "        [1.e-03, 1.e-03, 1.e-03, 1.e-03, 1.e+00, 1.e+03, 1.e+03, 1.e+03,\n",
       "         1.e+03, 1.e+03],\n",
       "        [1.e-03, 1.e-03, 1.e-03, 1.e-03, 1.e+00, 1.e-03, 1.e+03, 1.e+00,\n",
       "         1.e+03, 1.e+03]]))"
      ]
     },
     "execution_count": 25,
     "metadata": {},
     "output_type": "execute_result"
    }
   ],
   "source": [
    "best_sigmas, best_lambdas"
   ]
  },
  {
   "cell_type": "code",
   "execution_count": null,
   "metadata": {},
   "outputs": [],
   "source": []
  }
 ],
 "metadata": {
  "kernelspec": {
   "display_name": "Python 3",
   "language": "python",
   "name": "python3"
  },
  "language_info": {
   "codemirror_mode": {
    "name": "ipython",
    "version": 3
   },
   "file_extension": ".py",
   "mimetype": "text/x-python",
   "name": "python",
   "nbconvert_exporter": "python",
   "pygments_lexer": "ipython3",
   "version": "3.7.9"
  }
 },
 "nbformat": 4,
 "nbformat_minor": 4
}
