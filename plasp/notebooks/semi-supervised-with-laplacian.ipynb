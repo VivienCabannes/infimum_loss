{
 "cells": [
  {
   "cell_type": "markdown",
   "metadata": {},
   "source": [
    "# Semi supervised learning"
   ]
  },
  {
   "cell_type": "code",
   "execution_count": 15,
   "metadata": {},
   "outputs": [],
   "source": [
    "import sys\n",
    "sys.path.append('..')\n",
    "import numpy as np\n",
    "import matplotlib.pyplot as plt\n",
    "\n",
    "from weights import NearestNeighbors, KernelComputer, KernelRegressor\n",
    "np.random.seed(0)"
   ]
  },
  {
   "cell_type": "markdown",
   "metadata": {},
   "source": [
    "The following command are using LaTeX backend to produce Type 1 font in PDF produced by matplotlib (it produces Type 3 otherwise). You can uncomment those lines."
   ]
  },
  {
   "cell_type": "code",
   "execution_count": 16,
   "metadata": {},
   "outputs": [],
   "source": [
    "%matplotlib inline\n",
    "plt.rcParams['text.latex.preamble'] = [r'\\usepackage{newtxmath}'] \n",
    "plt.rcParams['text.usetex'] = True\n",
    "plt.rcParams[\"font.family\"] = \"serif\"\n",
    "plt.rcParams[\"font.serif\"] = \"Times\"\n",
    "plt.rc('text', usetex=True)"
   ]
  },
  {
   "cell_type": "markdown",
   "metadata": {},
   "source": [
    "## Real Simulation"
   ]
  },
  {
   "cell_type": "code",
   "execution_count": 17,
   "metadata": {},
   "outputs": [],
   "source": [
    "nb = 2000\n",
    "\n",
    "def get_trainset(nb, verbose=True):\n",
    "    theta = 2 * np.pi * np.random.rand(nb)\n",
    "    cluster = np.random.choice(4, nb) + 1\n",
    "    x = cluster * np.cos(theta)\n",
    "    y = cluster * np.sin(theta)\n",
    "    y1 = 2\n",
    "    x1 = -2*np.sqrt(3)\n",
    "    x2 = 1\n",
    "    y2 = -2*np.sqrt(2)\n",
    "    y3 = -1\n",
    "    x3 = -np.sqrt(3)\n",
    "    x4 = -1\n",
    "    y4 = 0\n",
    "    x_train = np.vstack((np.hstack((x1, x2, x3, x4, x)), np.hstack((y1, y2, y3, y4, y)))).T\n",
    "    s_train = np.zeros(x_train.shape[0])\n",
    "    s_train[0] = -1\n",
    "    s_train[1] = +1\n",
    "    s_train[2] = -1\n",
    "    s_train[3] = +1\n",
    "    return x_train, s_train\n",
    "\n",
    "x_train, s_train = get_trainset(nb)"
   ]
  },
  {
   "cell_type": "code",
   "execution_count": 18,
   "metadata": {},
   "outputs": [],
   "source": [
    "def get_x_test(num):\n",
    "    x = np.linspace(-4.5, 4.5, num)\n",
    "    X, Y = np.meshgrid(x, x)\n",
    "    x_test = np.vstack((X.reshape(-1), Y.reshape(-1))).T\n",
    "    return x_test, X, Y"
   ]
  },
  {
   "cell_type": "code",
   "execution_count": 19,
   "metadata": {},
   "outputs": [
    {
     "data": {
      "image/png": "[encoded data removed]",
      "text/plain": [
       "<Figure size 129.6x108 with 1 Axes>"
      ]
     },
     "metadata": {},
     "output_type": "display_data"
    }
   ],
   "source": [
    "fig, ax = plt.subplots(1, 1, figsize=(1.8, 1.5)) \n",
    "a = ax.scatter(x_train[4:, 0], x_train[4:, 1], color='k', s=1, zorder=2)\n",
    "b = ax.scatter(x_train[0, 0], x_train[0, 1], color='r', s=20, edgecolor='k', zorder=2)\n",
    "c = ax.scatter(x_train[1, 0], x_train[1, 1], color='b', s=20, edgecolor='k', zorder=2)\n",
    "d = ax.scatter(x_train[2, 0], x_train[2, 1], color='r', s=20, edgecolor='k', zorder=2)\n",
    "e = ax.scatter(x_train[3, 0], x_train[3, 1], color='b', s=20, edgecolor='k', zorder=2)\n",
    "ax.set_xlim(-4.5, 4.5)\n",
    "ax.set_ylim(-4.5, 4.5)\n",
    "# ax.legend([a, c], ['unlabelled data', 'labelled data'], loc='upper right', prop={'size': 8}, ncol=1) \n",
    "ax.tick_params(axis='both', which='major', labelleft=False, labelbottom=False)\n",
    "ax.set_xticks([])\n",
    "ax.set_yticks([])\n",
    "ax.set_title(r'Semi-supervision setting', size=10)\n",
    "plt.tight_layout()\n",
    "fig.savefig('savings/setting.pdf')    "
   ]
  },
  {
   "cell_type": "markdown",
   "metadata": {},
   "source": [
    "## With kernel methods without Laplacian"
   ]
  },
  {
   "cell_type": "markdown",
   "metadata": {},
   "source": [
    "#### Big regularization"
   ]
  },
  {
   "cell_type": "code",
   "execution_count": 20,
   "metadata": {},
   "outputs": [],
   "source": [
    "num = 100\n",
    "x_test, X, Y = get_x_test(num)"
   ]
  },
  {
   "cell_type": "code",
   "execution_count": 26,
   "metadata": {},
   "outputs": [],
   "source": [
    "sigma = 5e-1\n",
    "lambd = 1 * nb\n",
    "kernel_internal = KernelComputer('Gaussian', sigma=sigma)\n",
    "kernel = KernelRegressor(kernel_internal)\n",
    "kernel.set_support(x_train)"
   ]
  },
  {
   "cell_type": "code",
   "execution_count": 27,
   "metadata": {},
   "outputs": [],
   "source": [
    "kernel.update_sigma(sigma)\n",
    "kernel.update_lambda(lambd)"
   ]
  },
  {
   "cell_type": "code",
   "execution_count": 28,
   "metadata": {},
   "outputs": [],
   "source": [
    "alpha = kernel(x_test)\n",
    "Z = alpha @ s_train"
   ]
  },
  {
   "cell_type": "code",
   "execution_count": 29,
   "metadata": {},
   "outputs": [
    {
     "data": {
      "image/png": "[encoded data removed]",
      "text/plain": [
       "<Figure size 129.6x108 with 1 Axes>"
      ]
     },
     "metadata": {},
     "output_type": "display_data"
    }
   ],
   "source": [
    "fig, ax = plt.subplots(1, 1, figsize=(1.8, 1.5)) \n",
    "# ax.pcolor(X, Y, Z.reshape((num, num)) / np.max(np.abs(Z)), cmap=\"RdBu_r\", vmin=-1, vmax=1)\n",
    "ax.pcolor(X, Y, np.sign(Z.reshape((num, num))), cmap=\"RdBu_r\", vmin=-1, vmax=1)\n",
    "ax.scatter(x_train[4:, 0], x_train[4:, 1], color='k', s=1, zorder=2)\n",
    "ax.scatter(x_train[0, 0], x_train[0, 1], color='b', s=20, edgecolor='k', zorder=2)\n",
    "ax.scatter(x_train[1, 0], x_train[1, 1], color='r', s=20, edgecolor='k', zorder=2)\n",
    "ax.scatter(x_train[2, 0], x_train[2, 1], color='b', s=20, edgecolor='k', zorder=2)\n",
    "ax.scatter(x_train[3, 0], x_train[3, 1], color='r', s=20, edgecolor='k', zorder=2)\n",
    "ax.set_xlim(-4.5, 4.5)\n",
    "ax.set_ylim(-4.5, 4.5)\n",
    "ax.tick_params(axis='both', which='major', labelleft=False, labelbottom=False)\n",
    "ax.set_xticks([])\n",
    "ax.set_yticks([])\n",
    "ax.set_title(r'Reconstruction: $\\lambda=0,\\ \\mu=1$', size=10)\n",
    "plt.tight_layout()\n",
    "fig.savefig('savings/krr_1.pdf')    \n",
    "\n",
    "# Add a color bar which maps values to colors.\n"
   ]
  },
  {
   "cell_type": "markdown",
   "metadata": {},
   "source": [
    "#### Small regularization"
   ]
  },
  {
   "cell_type": "code",
   "execution_count": 30,
   "metadata": {},
   "outputs": [],
   "source": [
    "lambd = 0\n",
    "kernel.update_lambda(lambd)\n",
    "alpha = kernel(x_test)\n",
    "Z = alpha @ s_train"
   ]
  },
  {
   "cell_type": "code",
   "execution_count": 32,
   "metadata": {},
   "outputs": [
    {
     "data": {
      "image/png": "[encoded data removed]",
      "text/plain": [
       "<Figure size 129.6x108 with 1 Axes>"
      ]
     },
     "metadata": {},
     "output_type": "display_data"
    }
   ],
   "source": [
    "fig, ax = plt.subplots(1, 1, figsize=(1.8, 1.5)) \n",
    "# ax.pcolor(X, Y, Z.reshape((num, num)) / np.max(np.abs(Z)), cmap=\"RdBu_r\", vmin=-1, vmax=1)\n",
    "ax.pcolor(X, Y, np.sign(Z.reshape((num, num))), cmap=\"RdBu_r\", vmin=-1, vmax=1)\n",
    "ax.scatter(x_train[4:, 0], x_train[4:, 1], color='k', s=1, zorder=2)\n",
    "ax.scatter(x_train[0, 0], x_train[0, 1], color='b', s=20, edgecolor='k', zorder=2)\n",
    "ax.scatter(x_train[1, 0], x_train[1, 1], color='r', s=20, edgecolor='k', zorder=2)\n",
    "ax.scatter(x_train[2, 0], x_train[2, 1], color='b', s=20, edgecolor='k', zorder=2)\n",
    "ax.scatter(x_train[3, 0], x_train[3, 1], color='r', s=20, edgecolor='k', zorder=2)\n",
    "ax.set_xlim(-4.5, 4.5)\n",
    "ax.set_ylim(-4.5, 4.5)\n",
    "ax.tick_params(axis='both', which='major', labelleft=False, labelbottom=False)\n",
    "ax.set_xticks([])\n",
    "ax.set_yticks([])\n",
    "ax.set_title(r'Reconstruction: $\\lambda=0,\\ \\mu=0$', size=10)\n",
    "plt.tight_layout()\n",
    "fig.savefig('savings/krr_0.pdf')    "
   ]
  },
  {
   "cell_type": "code",
   "execution_count": null,
   "metadata": {},
   "outputs": [],
   "source": []
  },
  {
   "cell_type": "code",
   "execution_count": null,
   "metadata": {},
   "outputs": [],
   "source": []
  },
  {
   "cell_type": "code",
   "execution_count": null,
   "metadata": {},
   "outputs": [],
   "source": [
    "y_train = np.zeros(s_train.shape, s_train.dtype)\n",
    "for i in range(4):\n",
    "    ind = y_pred == i\n",
    "    y_train[:, i][ind] = 1"
   ]
  },
  {
   "cell_type": "code",
   "execution_count": 59,
   "metadata": {},
   "outputs": [],
   "source": [
    "yp = np.argmax(alpha @ y_train, axis=1)"
   ]
  },
  {
   "cell_type": "code",
   "execution_count": 60,
   "metadata": {},
   "outputs": [
    {
     "data": {
      "image/png": "[encoded data removed]",
      "text/plain": [
       "<Figure size 432x288 with 1 Axes>"
      ]
     },
     "metadata": {
      "needs_background": "light"
     },
     "output_type": "display_data"
    }
   ],
   "source": [
    "for i in range(4):\n",
    "    ind = yp == i\n",
    "    plt.scatter(x_test[ind, 0], x_test[ind, 1])"
   ]
  },
  {
   "cell_type": "markdown",
   "metadata": {},
   "source": [
    "## With neighborhood diffusion"
   ]
  },
  {
   "cell_type": "code",
   "execution_count": 49,
   "metadata": {},
   "outputs": [],
   "source": [
    "def graph_Laplacian_disambiguation(x_train, s_train, sigma=1e-1):\n",
    "    W = 2 * x_train @ x_train.T\n",
    "    norm = np.sum(x_train ** 2, axis=1)\n",
    "    W -= norm[:, np.newaxis]\n",
    "    W -= norm[np.newaxis, :]\n",
    "    W /= sigma**2\n",
    "    W = np.exp(W)\n",
    "\n",
    "    W -= np.diag(np.sum(W, axis=1))\n",
    "    W[:nb,:nb] *= -1\n",
    "\n",
    "    alpha = np.linalg.solve(W[:nb,:nb], W[:nb, nb:])\n",
    "    y_dis = s_train.copy()\n",
    "    y_dis[:nb] = alpha @ s_train[nb:]\n",
    "    y_pred = np.argmax(y_dis, axis=1)\n",
    "    \n",
    "    return y_pred"
   ]
  },
  {
   "cell_type": "code",
   "execution_count": 50,
   "metadata": {},
   "outputs": [],
   "source": [
    "y_pred = graph_Laplacian_disambiguation(x_train, s_train)"
   ]
  },
  {
   "cell_type": "code",
   "execution_count": 51,
   "metadata": {},
   "outputs": [
    {
     "data": {
      "image/png": "[encoded data removed]",
      "text/plain": [
       "<Figure size 432x288 with 1 Axes>"
      ]
     },
     "metadata": {
      "needs_background": "light"
     },
     "output_type": "display_data"
    }
   ],
   "source": [
    "fig, ax = plt.subplots()\n",
    "for i in range(4):\n",
    "    ind = y_pred == i\n",
    "    plt.scatter(x_train[ind, 0], x_train[ind, 1])"
   ]
  },
  {
   "cell_type": "code",
   "execution_count": null,
   "metadata": {},
   "outputs": [],
   "source": []
  }
 ],
 "metadata": {
  "kernelspec": {
   "display_name": "Python 3",
   "language": "python",
   "name": "python3"
  },
  "language_info": {
   "codemirror_mode": {
    "name": "ipython",
    "version": 3
   },
   "file_extension": ".py",
   "mimetype": "text/x-python",
   "name": "python",
   "nbconvert_exporter": "python",
   "pygments_lexer": "ipython3",
   "version": "3.7.9"
  }
 },
 "nbformat": 4,
 "nbformat_minor": 4
}
