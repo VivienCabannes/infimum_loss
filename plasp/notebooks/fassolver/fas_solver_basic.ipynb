{
 "cells": [
  {
   "cell_type": "markdown",
   "metadata": {},
   "source": [
    "# Basic Fas Solver\n",
    "\n",
    "This notebook follows the ``ranking_embedding`` one. \n",
    "\n",
    "We designed a simple minimum feedback arc set solver. In this notebook, we incorporate constraints into the solver. \n",
    "\n",
    "We later introduce a different solver, based on quick sorting and pivoting."
   ]
  },
  {
   "cell_type": "code",
   "execution_count": 1,
   "metadata": {},
   "outputs": [],
   "source": [
    "import sys\n",
    "import numba\n",
    "import numpy as np\n",
    "sys.path.append('../..')\n",
    "from ranking.fassolver.embedding import (\n",
    "    fill_sym_emb, fill_emb_f8, canonical_map, \n",
    "    get_sym_emb, get_emb, get_emb_from_rank, fill_emb_from_rank\n",
    ") "
   ]
  },
  {
   "cell_type": "code",
   "execution_count": 2,
   "metadata": {},
   "outputs": [],
   "source": [
    "np.random.seed(0)"
   ]
  },
  {
   "cell_type": "markdown",
   "metadata": {},
   "source": [
    "Let's consider a feedback arc set problem, with target $$\\inf <\\phi(y), c>,$$ and constraint \n",
    "$$\\phi(y)_{ij} = \\text{const}_{ij}, \\qquad\\text{if}\\qquad \\text{const}_{ij} \\neq 0.$$"
   ]
  },
  {
   "cell_type": "code",
   "execution_count": 3,
   "metadata": {},
   "outputs": [],
   "source": [
    "m = 10\n",
    "m_emb = (m*(m-1)) // 2\n",
    "ind_map = canonical_map(m)\n",
    "c = np.random.randn(m_emb)"
   ]
  },
  {
   "cell_type": "markdown",
   "metadata": {},
   "source": [
    "In the following, we suggest to solve the unconstraint problem first, before incorporating the constraint"
   ]
  },
  {
   "cell_type": "code",
   "execution_count": 4,
   "metadata": {},
   "outputs": [],
   "source": [
    "class BasicFasSolver:\n",
    "    def __init__(self, ind_map):\n",
    "        self.ind_map = ind_map\n",
    "        \n",
    "        # Placeholders\n",
    "        m = len(ind_map)\n",
    "        self.sym_pl = np.empty((m, m), dtype=np.float)\n",
    "        self.score_pl = np.empty(m, dtype=np.float)\n",
    "    \n",
    "    def solve(self, c):\n",
    "        \"\"\"\n",
    "        Solve inf_y <phi(y), c>.\n",
    "        \"\"\"\n",
    "        emb = np.empty(c.shape, dtype=np.float)\n",
    "        fill_sym_emb(c, self.sym_pl, self.ind_map)\n",
    "        np.sum(self.sym_pl, axis=1, out=self.score_pl) \n",
    "        self.score_pl *= -1\n",
    "        fill_emb_f8(self.score_pl, emb, self.ind_map)\n",
    "        return emb\n",
    "    \n",
    "    def pre_solve(self, c):\n",
    "        \"\"\"\n",
    "        Solve inf_y <phi(y), c>.\n",
    "        \"\"\"\n",
    "        fill_sym_emb(c, self.sym_pl, self.ind_map)\n",
    "        scores = np.sum(self.sym_pl, axis=1)\n",
    "        scores *= -1\n",
    "        rank = scores.argsort()\n",
    "        return rank, scores"
   ]
  },
  {
   "cell_type": "code",
   "execution_count": 5,
   "metadata": {},
   "outputs": [
    {
     "name": "stdout",
     "output_type": "stream",
     "text": [
      "[0 1 9 7 3 6 8 2 4 5]\n"
     ]
    }
   ],
   "source": [
    "ind_map = canonical_map(m)\n",
    "solver = BasicFasSolver(ind_map)\n",
    "rank, scores = solver.pre_solve(c)\n",
    "print(rank)"
   ]
  },
  {
   "cell_type": "markdown",
   "metadata": {},
   "source": [
    "Let's get some constraint from partial ordering"
   ]
  },
  {
   "cell_type": "code",
   "execution_count": 6,
   "metadata": {},
   "outputs": [
    {
     "name": "stdout",
     "output_type": "stream",
     "text": [
      "[ 0.  0.  0.  0.  0.  0.  0.  0.  0.  0.  0.  0.  0.  0.  0.  0.  0.  0.\n",
      "  0.  0.  0.  1.  0.  1.  0.  0.  0.  0.  0.  0.  0.  0. -1.  0.  0. -1.\n",
      "  1.  1.  0.  0. -1.  0.  1.  0.  1.]\n"
     ]
    }
   ],
   "source": [
    "sigma = np.random.permutation(m)\n",
    "const = get_emb(sigma, ind_map)\n",
    "const *= (np.random.randn(m_emb) > .5).astype(np.float)\n",
    "const[const == 0] = 0\n",
    "print(const)"
   ]
  },
  {
   "cell_type": "markdown",
   "metadata": {},
   "source": [
    "To incorporate those constraint, we perform a insertion-like sort. \n",
    "\n",
    "We build a list reviewing element from the smallest to the biggest. \n",
    "\n",
    "We insert element from the least to the most prefered ones based on the unconstraint solution. \n",
    "\n",
    "When inserting an element, one should first insert smaller element according to the constraints."
   ]
  },
  {
   "cell_type": "code",
   "execution_count": 7,
   "metadata": {},
   "outputs": [],
   "source": [
    "class BasicFasSolver:\n",
    "    def __init__(self, ind_map):\n",
    "        self.ind_map = ind_map\n",
    "        \n",
    "        # Placeholders\n",
    "        m = len(ind_map)\n",
    "        self.sym_pl = np.empty((m, m), dtype=np.float)\n",
    "        self.score_pl = np.empty(m, dtype=np.float)\n",
    "        self.const_pl = np.empty((m, m), dtype=np.bool_)\n",
    "        self.range_pl = np.arange(m)\n",
    "        self.rank_pl = np.empty(m, dtype=np.int)\n",
    "        self.visited = np.empty(m, dtype=np.bool_)\n",
    "    \n",
    "    def solve(self, c):\n",
    "        \"\"\"\n",
    "        Solve inf_y <phi(y), c>.\n",
    "        \"\"\"\n",
    "        emb = np.empty(c.shape, dtype=np.float)\n",
    "        self.solve_out(c, emb)\n",
    "        return emb\n",
    "    \n",
    "    def solve_out(self, c, out):\n",
    "        fill_sym_emb(c, self.sym_pl, self.ind_map)\n",
    "        np.sum(self.sym_pl, axis=1, out=self.score_pl) \n",
    "        self.score_pl *= -1\n",
    "        fill_emb_f8(self.score_pl, out, self.ind_map)\n",
    "    \n",
    "    def solve_const(self, c, const):\n",
    "        pre_sol = self.pre_solve(c)\n",
    "        return self.resolve_const(pre_sol, const)\n",
    "\n",
    "    def pre_solve(self, c):\n",
    "        fill_sym_emb(c, self.sym_pl, self.ind_map)\n",
    "        scores = np.sum(self.sym_pl, axis=1)\n",
    "        scores *= -1\n",
    "        rank = scores.argsort()\n",
    "        return rank, scores\n",
    "\n",
    "    def resolve_const(self, pre_sol, const):\n",
    "        emb = np.empty(c.shape, dtype=np.float)\n",
    "        self.resolve_const_out(pre_sol, const, emb)\n",
    "        return emb    \n",
    "\n",
    "    def resolve_const_out(self, pre_sol, const, out):\n",
    "        rank, scores = pre_sol\n",
    "\n",
    "        fill_sym_emb(const, self.sym_pl, self.ind_map)\n",
    "        np.equal(self.sym_pl, 1, out=self.const_pl)\n",
    "\n",
    "        self.visited[:] = False\n",
    "        for item in rank:\n",
    "            self.insert_const(item, scores)\n",
    "        fill_emb_from_rank(self.rank_pl, out, self.ind_map)\n",
    "    \n",
    "    def insert_const(self, item, scores):\n",
    "        if self.visited[item]:\n",
    "            return\n",
    "        ind = self.const_pl[item] & (~self.visited)\n",
    "        sm_items = self.range_pl[ind]\n",
    "        sm_items = sm_items[scores[sm_items].argsort()]\n",
    "\n",
    "        for i in sm_items:\n",
    "            self.insert_const(i, scores)\n",
    "\n",
    "        self.rank_pl[self.visited.sum()] = item\n",
    "        self.visited[item] = True"
   ]
  },
  {
   "cell_type": "code",
   "execution_count": 8,
   "metadata": {},
   "outputs": [
    {
     "name": "stdout",
     "output_type": "stream",
     "text": [
      "0.0\n",
      "0.7333333333333333\n"
     ]
    }
   ],
   "source": [
    "solver = BasicFasSolver(ind_map)\n",
    "sol_emb = solver.solve_const(c, const)\n",
    "print(np.abs((sol_emb - const)[const != 0]).max())\n",
    "print(((sol_emb - solver.solve(c)) == 0).mean())"
   ]
  },
  {
   "cell_type": "markdown",
   "metadata": {},
   "source": [
    "## Speeding up the code"
   ]
  },
  {
   "cell_type": "code",
   "execution_count": 9,
   "metadata": {},
   "outputs": [],
   "source": [
    "@numba.jit('(i8, f8[::1], i8[::1], b1[::1], b1[:,::1], i8[::1])', nopython=True)\n",
    "def _insert_const(item, scores, rank_pl, visited, const_pl, range_pl):\n",
    "    if visited[item]:\n",
    "        return\n",
    "    ind = const_pl[item] & (~visited)\n",
    "    sm_items = range_pl[ind]\n",
    "    sm_items = sm_items[np.argsort(scores[sm_items])]\n",
    "\n",
    "    for i in sm_items:\n",
    "        _insert_const(i, scores, rank_pl, visited, const_pl, range_pl)\n",
    "\n",
    "    rank_pl[visited.sum()] = item\n",
    "    visited[item] = True\n",
    "\n",
    "    \n",
    "@numba.jit('(i8[::1], f8[::1], f8[::1], f8[::1], b1[::1], i8[::1],'\\\n",
    "            'f8[:,::1], b1[:,::1], i8[:,::1], i8[::1])', nopython=True)\n",
    "def _resolve_out(rank, scores, const, out, visited, rank_pl, sym_pl, const_pl, ind_map, range_pl):\n",
    "    fill_sym_emb(const, sym_pl, ind_map)\n",
    "    for i in range_pl:\n",
    "        for j in range_pl:\n",
    "            const_pl[i,j] = sym_pl[i, j] == 1\n",
    "\n",
    "    visited[:] = False\n",
    "    for item in rank:\n",
    "        _insert_const(item, scores, rank_pl, visited, const_pl, range_pl)\n",
    "    fill_emb_from_rank(rank_pl, out, ind_map)\n",
    "\n",
    "    \n",
    "class BasicFasSolver:\n",
    "    def __init__(self, ind_map):\n",
    "        self.ind_map = ind_map\n",
    "        \n",
    "        # Placeholders\n",
    "        m = len(ind_map)\n",
    "        self.sym_pl = np.empty((m, m), dtype=np.float)\n",
    "        self.score_pl = np.empty(m, dtype=np.float)\n",
    "        self.const_pl = np.empty((m, m), dtype=np.bool_)\n",
    "        self.range_pl = np.arange(m)\n",
    "        self.rank_pl = np.empty(m, dtype=np.int)\n",
    "        self.visited = np.empty(m, dtype=np.bool_)\n",
    "    \n",
    "    def solve(self, c):\n",
    "        \"\"\"\n",
    "        Solve inf_y <phi(y), c>.\n",
    "        \"\"\"\n",
    "        emb = np.empty(c.shape, dtype=np.float)\n",
    "        self.solve_out(c, emb)\n",
    "        return emb\n",
    "    \n",
    "    def solve_out(self, c, out):\n",
    "        fill_sym_emb(c, self.sym_pl, self.ind_map)\n",
    "        np.sum(self.sym_pl, axis=1, out=self.score_pl) \n",
    "        self.score_pl *= -1\n",
    "        fill_emb_f8(self.score_pl, out, self.ind_map)\n",
    "    \n",
    "    def solve_const(self, c, const):\n",
    "        pre_sol = self.pre_solve(c)\n",
    "        return self.resolve_const(pre_sol, const)\n",
    "\n",
    "    def pre_solve(self, c):\n",
    "        fill_sym_emb(c, self.sym_pl, self.ind_map)\n",
    "        scores = np.sum(self.sym_pl, axis=1)\n",
    "        scores *= -1\n",
    "        rank = scores.argsort()\n",
    "        return rank, scores\n",
    "\n",
    "    def resolve_const(self, pre_sol, const):\n",
    "        emb = np.empty(c.shape, dtype=np.float)\n",
    "        self.resolve_const_out(pre_sol, const, emb)\n",
    "        return emb    \n",
    "\n",
    "    def resolve_const_out(self, pre_sol, const, out):\n",
    "        rank, scores = pre_sol\n",
    "        _resolve_out(rank, scores, const, out, \n",
    "            self.visited, self.rank_pl, self.sym_pl, \n",
    "            self.const_pl, self.ind_map, self.range_pl)"
   ]
  },
  {
   "cell_type": "code",
   "execution_count": 10,
   "metadata": {},
   "outputs": [
    {
     "name": "stdout",
     "output_type": "stream",
     "text": [
      "0.0\n",
      "171 µs ± 15.4 µs per loop (mean ± std. dev. of 7 runs, 1000 loops each)\n",
      "59.8 µs ± 15.6 µs per loop (mean ± std. dev. of 7 runs, 10000 loops each)\n"
     ]
    }
   ],
   "source": [
    "fas_solver = BasicFasSolver(ind_map)\n",
    "print(np.abs(sol_emb - fas_solver.solve_const(c, const)).max())\n",
    "%timeit solver.solve_const(c, const)\n",
    "%timeit fas_solver.solve_const(c, const)"
   ]
  },
  {
   "cell_type": "markdown",
   "metadata": {},
   "source": [
    "## Define a FasSolver class for more lisibility"
   ]
  },
  {
   "cell_type": "code",
   "execution_count": 11,
   "metadata": {},
   "outputs": [],
   "source": [
    "class FasSolver:\n",
    "    def __init__(self, ind_map):\n",
    "        self.ind_map = ind_map\n",
    "        \n",
    "        self.IL_met = '' # either pre_solve, either resolve\n",
    "            \n",
    "    def solve(self, c):\n",
    "        \"\"\"\n",
    "        Solve the minimum feedback arc set problem reading:\n",
    "           argmin_e <e, c>\n",
    "        Subject to:\n",
    "           - e Kendall's embedding of a permutation\n",
    "        \"\"\"\n",
    "        emb = np.empty(c.shape, dtype=np.float)\n",
    "        self.solve_out(c, emb)\n",
    "        return emb\n",
    "    \n",
    "    def solve_const(self, c, const):\n",
    "        \"\"\"\n",
    "        Solve the minimum feedback arc set problem reading:\n",
    "           argmin_e <e, c>\n",
    "        Subject to:\n",
    "           - e[const != 0] = const\n",
    "           - e Kendall's embedding of a permutation\n",
    "        \"\"\"\n",
    "        emb = np.empty(c.shape, dtype=np.float)\n",
    "        self.solve_const_out(c, const, emb)\n",
    "        return emb\n",
    "    \n",
    "    def pre_solve(self, c):\n",
    "        \"\"\"\n",
    "        First pass to solve the minimum feedback arc set problem reading:\n",
    "           argmin_e <e, c>\n",
    "        Subject to constraint not defined yet.\n",
    "        \n",
    "        This function allows to solve efficiently a big number of \n",
    "        instance with the same objective but different constraint.\n",
    "        This is useful for the infimum loss.\n",
    "        \"\"\"\n",
    "        raise NotImplementedError\n",
    "        \n",
    "    def incorporate_const(self, pre_sol, const):\n",
    "        \"\"\"\n",
    "        Use pre solution of the problem argmin_e <e, c> and retune it to solve:\n",
    "           argmin_e <e, c>\n",
    "        Subject to:\n",
    "           - e[const != 0] = const\n",
    "           - e Kendall's embedding of a permutatiom\n",
    "\n",
    "        This function allows to solve efficiently a big number of \n",
    "        instance with the same objective but different constraint.\n",
    "        This is useful for the infimum loss.\n",
    "        \"\"\"\n",
    "        emb = np.empty(c.shape, dtype=np.float)\n",
    "        self.incorporate_const_out(pre_sol, const, emb)\n",
    "        return emb\n",
    "\n",
    "    def define_const(self, const):\n",
    "        \"\"\"\n",
    "        Define constraint for the following ``resolve`` call.\n",
    "        \n",
    "        Useful for the disambiguation framework with warmstartable call.\n",
    "        \"\"\"\n",
    "        raise NotImplementedError\n",
    "        \n",
    "    def resolve(self, c):\n",
    "        \"\"\"\n",
    "        Solve by retaking last solution calculation:\n",
    "           argmin_e <e, c>\n",
    "        Subject to:\n",
    "           - e[const != 0] = const\n",
    "           - e Kendall's embedding of a permutation   \n",
    "        where const has been define by ``define_const``.\n",
    "\n",
    "        Useful for the disambiguation framework with warmstartable call.\n",
    "        \"\"\"\n",
    "        emb = np.empty(c.shape, dtype=np.float)\n",
    "        self.resolve_out(c, emb)\n",
    "        return emb\n",
    "\n",
    "    def solve_out(self, c, out):\n",
    "        raise NotImplementedError\n",
    "\n",
    "    def solve_const_out(self, c, const, out):\n",
    "        raise NotImplementedError\n",
    "        \n",
    "#     def pre_solve(self, c):\n",
    "#         raise NotImplementedError\n",
    "        \n",
    "    def incorporate_const_out(self, pre_sol, const, out):\n",
    "        raise NotImplementedError\n",
    "\n",
    "#     def define_const(self, const):\n",
    "#         raise NotImplementedError\n",
    "\n",
    "    def resolve_out(self, c, out):\n",
    "        raise NotImplementedError"
   ]
  },
  {
   "cell_type": "code",
   "execution_count": 12,
   "metadata": {},
   "outputs": [],
   "source": [
    "@numba.jit('(i8, f8[::1], i8[::1], b1[::1], b1[:,::1], i8[::1])', nopython=True)\n",
    "def _insert_const(item, scores, rank_pl, visited, const_pl, range_pl):\n",
    "    if visited[item]:\n",
    "        return\n",
    "    ind = const_pl[item] & (~visited)\n",
    "    sm_items = range_pl[ind]\n",
    "    sm_items = sm_items[np.argsort(scores[sm_items])]\n",
    "\n",
    "    for i in sm_items:\n",
    "        _insert_const(i, scores, rank_pl, visited, const_pl, range_pl)\n",
    "\n",
    "    rank_pl[visited.sum()] = item\n",
    "    visited[item] = True\n",
    "\n",
    "    \n",
    "@numba.jit('(i8[::1], f8[::1], f8[::1], f8[::1], b1[::1], i8[::1],'\\\n",
    "            'f8[:,::1], b1[:,::1], i8[:,::1], i8[::1])', nopython=True)\n",
    "def _incorporate_const_out(rank, scores, const, out, visited, rank_pl, \n",
    "                           sym_pl, const_pl, ind_map, range_pl):\n",
    "    fill_sym_emb(const, sym_pl, ind_map)\n",
    "    for i in range_pl:\n",
    "        for j in range_pl:\n",
    "            const_pl[i,j] = sym_pl[i, j] == 1\n",
    "\n",
    "    visited[:] = False\n",
    "    for item in rank:\n",
    "        _insert_const(item, scores, rank_pl, visited, const_pl, range_pl)\n",
    "    fill_emb_from_rank(rank_pl, out, ind_map)\n",
    "\n",
    "    \n",
    "class BasicFasSolver(FasSolver):\n",
    "    def __init__(self, ind_map):\n",
    "        super(BasicFasSolver, self).__init__(ind_map)\n",
    "        self.IL_met = 'pre_solve'\n",
    "        \n",
    "        # Placeholders\n",
    "        m = len(ind_map)\n",
    "        self.sym_pl = np.empty((m, m), dtype=np.float)\n",
    "        self.score_pl = np.empty(m, dtype=np.float)\n",
    "        self.const_pl = np.empty((m, m), dtype=np.bool_)\n",
    "        self.range_pl = np.arange(m)\n",
    "        self.rank_pl = np.empty(m, dtype=np.int)\n",
    "        self.visited = np.empty(m, dtype=np.bool_)\n",
    "   \n",
    "    def solve_out(self, c, out):\n",
    "        fill_sym_emb(c, self.sym_pl, self.ind_map)\n",
    "        np.sum(self.sym_pl, axis=1, out=self.score_pl) \n",
    "        self.score_pl *= -1\n",
    "        fill_emb_f8(self.score_pl, out, self.ind_map)\n",
    "\n",
    "    def solve_const_out(self, c, const, out):\n",
    "        pre_sol = self.pre_solve(c)\n",
    "        self.incorporate_const_out(pre_sol, const, out)\n",
    "\n",
    "    def pre_solve(self, c):\n",
    "        \"\"\"\n",
    "        First pass to solve the minimum feedback arc set problem reading:\n",
    "           argmin_e <e, c>\n",
    "        Subject to constraint not defined yet.\n",
    "        \n",
    "        This function allows to solve efficiently a big number of \n",
    "        instance with the same objective but different constraint.\n",
    "        This is useful for the infimum loss.\n",
    "        \"\"\"\n",
    "        fill_sym_emb(c, self.sym_pl, self.ind_map)\n",
    "        scores = np.sum(self.sym_pl, axis=1)\n",
    "        scores *= -1\n",
    "        rank = scores.argsort()\n",
    "        return rank, scores\n",
    "        \n",
    "    def incorporate_const_out(self, pre_sol, const, out):\n",
    "        rank, scores = pre_sol\n",
    "        _incorporate_const_out(rank, scores, const, out, \n",
    "            self.visited, self.rank_pl, self.sym_pl, \n",
    "            self.const_pl, self.ind_map, self.range_pl)\n",
    "        \n",
    "#     def define_const(self, const):\n",
    "#         raise NotImplementedError\n",
    "\n",
    "#     def resolve_out(self, c, out):\n",
    "#         raise NotImplementedError"
   ]
  },
  {
   "cell_type": "code",
   "execution_count": 13,
   "metadata": {},
   "outputs": [
    {
     "name": "stdout",
     "output_type": "stream",
     "text": [
      "0.0\n",
      "242 µs ± 51 µs per loop (mean ± std. dev. of 7 runs, 1000 loops each)\n",
      "45.9 µs ± 3.77 µs per loop (mean ± std. dev. of 7 runs, 10000 loops each)\n"
     ]
    }
   ],
   "source": [
    "fas_solver = BasicFasSolver(ind_map)\n",
    "print(np.abs(sol_emb - fas_solver.solve_const(c, const)).max())\n",
    "%timeit solver.solve_const(c, const)\n",
    "%timeit fas_solver.solve_const(c, const)"
   ]
  },
  {
   "cell_type": "code",
   "execution_count": null,
   "metadata": {},
   "outputs": [],
   "source": []
  }
 ],
 "metadata": {
  "kernelspec": {
   "display_name": "Python 3",
   "language": "python",
   "name": "python3"
  },
  "language_info": {
   "codemirror_mode": {
    "name": "ipython",
    "version": 3
   },
   "file_extension": ".py",
   "mimetype": "text/x-python",
   "name": "python",
   "nbconvert_exporter": "python",
   "pygments_lexer": "ipython3",
   "version": "3.7.5"
  }
 },
 "nbformat": 4,
 "nbformat_minor": 4
}
