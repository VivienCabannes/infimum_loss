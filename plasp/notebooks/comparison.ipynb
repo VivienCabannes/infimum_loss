{
 "cells": [
  {
   "cell_type": "markdown",
   "id": "damaged-touch",
   "metadata": {},
   "source": [
    "# Spectral decomposition with kernels"
   ]
  },
  {
   "cell_type": "code",
   "execution_count": 1,
   "id": "juvenile-jason",
   "metadata": {},
   "outputs": [],
   "source": [
    "import time\n",
    "import sys\n",
    "\n",
    "import matplotlib.pyplot as plt\n",
    "import numpy as np\n",
    "from scipy.linalg import eigh\n",
    "\n",
    "sys.path.append('..')\n",
    "from weights import NearestNeighbors, KernelComputer, KernelRegressor\n",
    "\n",
    "np.random.seed(0)"
   ]
  },
  {
   "cell_type": "markdown",
   "id": "sealed-surname",
   "metadata": {},
   "source": [
    "The following command are using LaTeX backend to produce Type 1 font in PDF produced by matplotlib (it produces Type 3 otherwise). You can uncomment those lines."
   ]
  },
  {
   "cell_type": "code",
   "execution_count": 2,
   "id": "interim-complexity",
   "metadata": {},
   "outputs": [],
   "source": [
    "%matplotlib inline\n",
    "plt.rcParams['text.latex.preamble'] = [r'\\usepackage{newtxmath}'] \n",
    "plt.rcParams['text.usetex'] = True\n",
    "plt.rcParams[\"font.family\"] = \"serif\"\n",
    "plt.rcParams[\"font.serif\"] = \"Times\"\n",
    "plt.rc('text', usetex=True)"
   ]
  },
  {
   "cell_type": "raw",
   "id": "pediatric-province",
   "metadata": {},
   "source": [
    "def get_data(nb, d):\n",
    "    x = np.random.randn(nb, d)\n",
    "    x /= np.sqrt((x ** 2).sum(axis=1))[:, np.newaxis]\n",
    "    r = np.tile(np.arange(1, 5), int(np.ceil(nb / 4)))[:nb]\n",
    "    x *= r[:, np.newaxis]\n",
    "    y = r - 1\n",
    "    return x, y"
   ]
  },
  {
   "cell_type": "code",
   "execution_count": 3,
   "id": "stopped-patent",
   "metadata": {},
   "outputs": [],
   "source": [
    "def get_data(nb, d, dist=1):\n",
    "    x = np.random.randn(nb, d)\n",
    "    x[::2, 0] += dist\n",
    "    y = np.ones(nb)\n",
    "    y[::2] = -1\n",
    "    return x, y"
   ]
  },
  {
   "cell_type": "code",
   "execution_count": 4,
   "id": "loose-experiment",
   "metadata": {},
   "outputs": [],
   "source": [
    "def get_K(x1, x2, sigma):\n",
    "    # x1 = xtrain, x2 = xtest\n",
    "    sigma2 = sigma ** 2\n",
    "    K = x1 @ x2.T\n",
    "    K *= 2\n",
    "    _attr1 = np.sum(x1 ** 2, axis=1)[:, np.newaxis]\n",
    "    K -= _attr1\n",
    "    K -= np.sum(x2 ** 2, axis=1)\n",
    "    K /= 2*sigma2\n",
    "    np.exp(K, out=K)\n",
    "    return K\n",
    "\n",
    "\n",
    "def get_SZ(x1, x2, sigma, SS=None, reshape=True):\n",
    "    \"\"\"\n",
    "    To be written, something of the type\n",
    "    \n",
    "    Returns\n",
    "    -------\n",
    "    SZ: ndarray\n",
    "        SZ[i, j*m] = :math:`\\partial_{1,m}` k(x1[j], x2[i])\n",
    "    \"\"\"\n",
    "    if SS is None:\n",
    "        SS = get_K(x1, x2, sigma)\n",
    "    SZ = np.tile(SS[...,np.newaxis], (1, 1, x1.shape[1]))\n",
    "    # diff[i,j,k] = x1[i,k] - x2[j,k]\n",
    "    diff = x1[:, np.newaxis, :] - x2[np.newaxis, ...]\n",
    "    diff /= sigma**2\n",
    "    SZ *= diff\n",
    "    n1, n2, d = SZ.shape\n",
    "\n",
    "    if reshape:\n",
    "        # return SZ.reshape(n1, -1, order='F') # slower than the following\n",
    "        SZ_reshape = np.empty((n1, n2*d), SZ.dtype)\n",
    "        for i in range(d):\n",
    "            SZ_reshape[:, i*n2:(i+1)*n2] = SZ[..., i]\n",
    "        return SZ_reshape\n",
    "    return SZ\n",
    "\n",
    "\n",
    "def get_ZZ(x1, x2, sigma, SS=None, reshape=True):\n",
    "    if SS is None:\n",
    "        SS = get_K(x1, x2, sigma)\n",
    "    d = x1.shape[1]\n",
    "    ZZ = np.tile(SS[...,np.newaxis, np.newaxis], (1, 1, d, d,))\n",
    "    # diff[i,j,k] = x1[i,k] - x2[j,k]\n",
    "    diff = x1[:, np.newaxis, :] - x2[np.newaxis, ...]\n",
    "    # prod_diff[i,j,k,l] = diff[i,j,l]*diff[i,j,k] = (x1[i,l] - x2[j,l]) * (x1[i,k] - x2[j,k])\n",
    "    prod_diff = diff[:,:, np.newaxis, :]*diff[:,:,:,np.newaxis]\n",
    "    prod_diff /= sigma**4\n",
    "    prod_diff *= -1\n",
    "    for i in range(d):\n",
    "        prod_diff[:, :, i, i] += 1 / (sigma**2)\n",
    "    ZZ *= prod_diff\n",
    "    if reshape:\n",
    "        # return ZZ.transpose((0, 2, 1, 3)).reshape(n1 * d, n2 * d, order='F') # slower\n",
    "        n1, n2, = SS.shape\n",
    "        ZZ_reshape = np.empty((n1*d, n2*d), ZZ.dtype)\n",
    "        for i in range(d):\n",
    "            for j in range(i):\n",
    "                ZZ_reshape[n1*i:n1*(i+1), n2*j:n2*(j+1)] = ZZ[..., i, j]\n",
    "                ZZ_reshape[n1*j:n1*(j+1), n2*i:n2*(i+1)] = ZZ[..., j, i]\n",
    "            ZZ_reshape[n1*i:n1*(i+1), n2*i:n2*(i+1)] = ZZ[..., i, i]\n",
    "        return ZZ_reshape\n",
    "    return ZZ\n",
    "\n",
    "\n",
    "def get_ST(x1, x2, sigma, SS=None, SZ=None):\n",
    "    if SS is None:\n",
    "        SS = get_K(x1, x2, sigma)\n",
    "    if SZ is None:\n",
    "        SZ = get_SZ(x1, x2, sigma, SS)\n",
    "    n1, n2 = SS.shape\n",
    "    d = x1.shape[1]\n",
    "    ST = np.zeros((n1, n2*(d+1)), dtype=np.float)\n",
    "    ST[:, :n2] = SS\n",
    "    ST[:, n2:] = SZ\n",
    "    return ST\n",
    "\n",
    "\n",
    "def get_TZ(x1, x2, sigma, SZ=None, ZZ=None):\n",
    "    if SZ is None:\n",
    "        SZ = get_SZ(x1, x2, sigma)\n",
    "    if ZZ is None:\n",
    "        ZZ = get_ZZ(x1, x2, sigma)\n",
    "    n1, d = x1.shape\n",
    "    n2 = x2.shape[0]\n",
    "    TZ = np.zeros((n1*(d+1), n2*d), dtype=np.float)\n",
    "    TZ[:n1,:] = SZ\n",
    "    TZ[n1:,:] = ZZ\n",
    "    return TZ\n",
    "\n",
    "\n",
    "def get_TT(x1, sigma, SS=None, SZ=None, ZZ=None):\n",
    "    if SS is None:\n",
    "        SS = get_K(x1, sigma)\n",
    "    if SZ is None:\n",
    "        SZ = get_SZ(x1, sigma)\n",
    "    if ZZ is None:\n",
    "        ZZ = get_ZZ(x1, sigma)\n",
    "    n, d = x1.shape\n",
    "    TT = np.zeros((n*(d+1), n*(d+1)), dtype=np.float)\n",
    "    TT[:n, :n] = SS\n",
    "    TT[:n, n:] = SZ\n",
    "    TT[n:, :n] = SZ.transpose()\n",
    "    TT[n:, n:] = ZZ\n",
    "    return TT"
   ]
  },
  {
   "cell_type": "code",
   "execution_count": 5,
   "id": "saving-david",
   "metadata": {},
   "outputs": [],
   "source": [
    "def Laplacian_weights(x_train, sigma=.2, mu=1, \n",
    "                      Tikhonov=True, lambd=1, full_matrix=False,\n",
    "                      k=4, psi=lambda x: (x+1)**(-1),\n",
    "                      p=None\n",
    "                     ):\n",
    "    \"\"\"Solution with small representation\n",
    "    \n",
    "    Parameters\n",
    "    ----------\n",
    "    x_train: ndarray\n",
    "        design matrices of the data of shape (number_data, data_dimension)\n",
    "    sigma: float\n",
    "        bandwidth of the Gaussian kernel\n",
    "    mu: float\n",
    "        regularizer of the kernel diffusion operator\n",
    "    Tikhonov: boolean, optional\n",
    "        specify a call to np.linalg.solve rather than scipy.linalg.eigh\n",
    "    lambd: float, optional\n",
    "        value of Tikhonov regularization\n",
    "    k: int, optional\n",
    "        number of eigen vector to consider in spectral clutering\n",
    "    psi: function, optional\n",
    "        filtering function for spectral clustering\n",
    "        \n",
    "    Returns\n",
    "    -------\n",
    "    y_pred: ndarray of int\n",
    "        array of prediction of shape (number_data,)\n",
    "    \"\"\"\n",
    "    n, nl = len(x_train), len(y_train)\n",
    "    SS = get_K(x_train, x_train, sigma)\n",
    "    if full_matrix:\n",
    "        A = SS[:p, ...] @ SS[..., :p]\n",
    "        A /= n\n",
    "    else:\n",
    "        A = SS[:p, :nl] @ SS[:nl, :p]\n",
    "        A /= nl\n",
    "    \n",
    "    SZ = get_SZ(x_train, x_train, sigma, SS)\n",
    "    B = SZ[:p] @ SZ[:p].transpose()\n",
    "    B /= n\n",
    "    B += mu * SS[:p,:p]\n",
    "    B += 1e-10 * np.eye(B.shape[0])\n",
    "\n",
    "    b = SS[:p, :nl]\n",
    "    b /= nl\n",
    "    \n",
    "    if Tikhonov:\n",
    "        c = np.linalg.solve(A + lambd * B, b)\n",
    "    else:\n",
    "        v, e = eigh(A, B, subset_by_index = [A.shape[0]-k, A.shape[0]-1])\n",
    "        c = (e * psi(v)) @ (e.T @ b)\n",
    "        \n",
    "    return c\n",
    "#     return SS[..., :p] @ c"
   ]
  },
  {
   "cell_type": "code",
   "execution_count": 6,
   "id": "warming-scale",
   "metadata": {},
   "outputs": [],
   "source": [
    "def Laplacian_full_weights(x_train, sigma=.2, mu=1, \n",
    "                           Tikhonov=True, lambd=1, full_matrix=False,\n",
    "                           k=4, psi=lambda x: (x+1)**(-1),\n",
    "                          ):\n",
    "    \"\"\"Solution with small representation\n",
    "    \n",
    "    Parameters\n",
    "    ----------\n",
    "    x_train: ndarray\n",
    "        design matrices of the data of shape (number_data, data_dimension)\n",
    "    sigma: float\n",
    "        bandwidth of the Gaussian kernel\n",
    "    mu: float\n",
    "        regularizer of the kernel diffusion operator\n",
    "    Tikhonov: boolean, optional\n",
    "        specify a call to np.linalg.solve rather than scipy.linalg.eigh\n",
    "    lambd: float, optional\n",
    "        value of Tikhonov regularization\n",
    "    k: int, optional\n",
    "        number of eigen vector to consider in spectral clutering\n",
    "    psi: function, optional\n",
    "        filtering function for spectral clustering\n",
    "        \n",
    "    Returns\n",
    "    -------\n",
    "    y_pred: ndarray of int\n",
    "        array of prediction of shape (number_data,)\n",
    "    \"\"\"\n",
    "    n, nl = len(x_train), len(y_train)\n",
    "    SS = get_K(x_train, x_train, sigma)\n",
    "    SZ = get_SZ(x_train, x_train, sigma, SS)\n",
    "    ST = get_ST(x_train, x_train, sigma, SS, SZ)\n",
    "    if full_matrix:\n",
    "        A = ST.transpose() @ ST\n",
    "        A /= n\n",
    "    else:\n",
    "        A = ST.transpose()[..., :nl] @ ST[:nl]\n",
    "        A /= nl\n",
    "    \n",
    "    ZZ = get_ZZ(x_train, x_train, sigma, SS)\n",
    "    TZ = get_TZ(x_train, x_train, sigma, SZ, ZZ)\n",
    "    B = TZ @ TZ.transpose()\n",
    "    B /= n\n",
    "    TT = get_TT(x_train, sigma, SS, SZ, ZZ)\n",
    "    B += mu * TT\n",
    "    B += 1e-10 * np.eye(B.shape[0])\n",
    "\n",
    "    b = ST.transpose()[..., :nl]\n",
    "    b /= nl\n",
    "    \n",
    "    if Tikhonov:\n",
    "        c = np.linalg.solve(A + lambd * B, b)\n",
    "    else:\n",
    "        v, e = eigh(A, B, subset_by_index = [A.shape[0]-k, A.shape[0]-1])\n",
    "        c = (e * psi(v)) @ (e.T @ b)\n",
    "        \n",
    "    return c\n",
    "#     return SS[..., :p] @ c"
   ]
  },
  {
   "cell_type": "code",
   "execution_count": 7,
   "id": "answering-temple",
   "metadata": {},
   "outputs": [],
   "source": [
    "def graph_weights(x_train, sigma=2e-1):\n",
    "    # Laplacian matrix\n",
    "    W = 2 * x_train @ x_train.T\n",
    "    norm = np.sum(x_train ** 2, axis=1)\n",
    "    W -= norm[:, np.newaxis]\n",
    "    W -= norm[np.newaxis, :]\n",
    "    W /= sigma**2\n",
    "    W = np.exp(W)\n",
    "    W -= np.diag(np.sum(W, axis=1))\n",
    "    \n",
    "    n_label = len(y_train)\n",
    "    W[n_label:, n_label:] += 1e-10 * np.eye(len(W) - n_label)\n",
    "    alpha = np.linalg.solve(W[n_label:, n_label:], W[n_label:, :n_label])\n",
    "    alpha *= -1\n",
    "    alpha = np.vstack((np.eye(n_label), alpha))    \n",
    "    return alpha"
   ]
  },
  {
   "cell_type": "code",
   "execution_count": 8,
   "id": "senior-devices",
   "metadata": {},
   "outputs": [],
   "source": [
    "dim = 10\n",
    "dist = 3\n",
    "n_label = 50\n",
    "n_train = 5000\n",
    "# sigma = .1*np.sqrt(dim)\n",
    "sigma = (np.log(n_train) / n_train) ** (1 / (dim + 4))\n",
    "# sigma = dim ** (1/5)\n",
    "\n",
    "# dim = 200\n",
    "# n_train = 200\n",
    "# dist = .3*np.sqrt(dim)\n",
    "# n_label = 50\n",
    "# sigma = 1*np.sqrt(dim)\n",
    "\n",
    "# dim = 200\n",
    "# n_train = 200\n",
    "# dim = 20\n",
    "# n_train = 2000\n",
    "# dist = np.sqrt(dim)\n",
    "# n_label = 50\n",
    "# sigma = .1*np.sqrt(dim)\n",
    "\n",
    "x_train, y_test = get_data(n_train, dim, dist)\n",
    "n_label = min(n_train, n_label)\n",
    "y_train = y_test[:n_label]"
   ]
  },
  {
   "cell_type": "code",
   "execution_count": 26,
   "id": "included-bradley",
   "metadata": {},
   "outputs": [
    {
     "name": "stdout",
     "output_type": "stream",
     "text": [
      "[   10    56   316  1778 10000]\n"
     ]
    }
   ],
   "source": [
    "ns = np.logspace(1, 4, num=5).astype(int)\n",
    "# ns = [int(10**(3))]\n",
    "nb_trials = 30\n",
    "print(ns)"
   ]
  },
  {
   "cell_type": "code",
   "execution_count": 9,
   "id": "backed-appointment",
   "metadata": {},
   "outputs": [],
   "source": [
    "n_train = 1000"
   ]
  },
  {
   "cell_type": "code",
   "execution_count": 12,
   "id": "initial-ethernet",
   "metadata": {},
   "outputs": [
    {
     "name": "stdout",
     "output_type": "stream",
     "text": [
      "4.217462494454697\n"
     ]
    }
   ],
   "source": [
    "n_train = 1000\n",
    "dim = 10\n",
    "sigma = np.log(n_train) / (n_train ** (1/(dim+4)))\n",
    "print(sigma)"
   ]
  },
  {
   "cell_type": "code",
   "execution_count": 13,
   "id": "annoying-excerpt",
   "metadata": {},
   "outputs": [
    {
     "data": {
      "text/plain": [
       "0.6105402296585328"
      ]
     },
     "execution_count": 13,
     "metadata": {},
     "output_type": "execute_result"
    }
   ],
   "source": [
    "n_train ** (-1/(dim + 4))"
   ]
  },
  {
   "cell_type": "code",
   "execution_count": 27,
   "id": "identified-parking",
   "metadata": {},
   "outputs": [
    {
     "name": "stdout",
     "output_type": "stream",
     "text": [
      "10\n",
      "56\n",
      "316\n",
      "1778\n",
      "10000\n"
     ]
    },
    {
     "ename": "KeyboardInterrupt",
     "evalue": "",
     "output_type": "error",
     "traceback": [
      "\u001b[0;31m---------------------------------------------------------------------------\u001b[0m",
      "\u001b[0;31mKeyboardInterrupt\u001b[0m                         Traceback (most recent call last)",
      "\u001b[0;32m<ipython-input-27-05be19186498>\u001b[0m in \u001b[0;36m<module>\u001b[0;34m\u001b[0m\n\u001b[1;32m     21\u001b[0m \u001b[0;34m\u001b[0m\u001b[0m\n\u001b[1;32m     22\u001b[0m         \u001b[0mt\u001b[0m \u001b[0;34m=\u001b[0m \u001b[0mtime\u001b[0m\u001b[0;34m.\u001b[0m\u001b[0mtime\u001b[0m\u001b[0;34m(\u001b[0m\u001b[0;34m)\u001b[0m\u001b[0;34m\u001b[0m\u001b[0;34m\u001b[0m\u001b[0m\n\u001b[0;32m---> 23\u001b[0;31m         \u001b[0mc_kernel\u001b[0m \u001b[0;34m=\u001b[0m \u001b[0mLaplacian_weights\u001b[0m\u001b[0;34m(\u001b[0m\u001b[0mx_train\u001b[0m\u001b[0;34m,\u001b[0m \u001b[0mmu\u001b[0m\u001b[0;34m=\u001b[0m\u001b[0;36m1\u001b[0m\u001b[0;34m/\u001b[0m\u001b[0mn_train\u001b[0m\u001b[0;34m,\u001b[0m \u001b[0msigma\u001b[0m\u001b[0;34m=\u001b[0m\u001b[0msigma\u001b[0m\u001b[0;34m,\u001b[0m \u001b[0mTikhonov\u001b[0m\u001b[0;34m=\u001b[0m\u001b[0;32mTrue\u001b[0m\u001b[0;34m,\u001b[0m \u001b[0mlambd\u001b[0m\u001b[0;34m=\u001b[0m\u001b[0;36m1\u001b[0m\u001b[0;34m,\u001b[0m \u001b[0mp\u001b[0m\u001b[0;34m=\u001b[0m\u001b[0mp\u001b[0m\u001b[0;34m)\u001b[0m\u001b[0;34m\u001b[0m\u001b[0;34m\u001b[0m\u001b[0m\n\u001b[0m\u001b[1;32m     24\u001b[0m         \u001b[0mt_k\u001b[0m \u001b[0;34m=\u001b[0m \u001b[0mtime\u001b[0m\u001b[0;34m.\u001b[0m\u001b[0mtime\u001b[0m\u001b[0;34m(\u001b[0m\u001b[0;34m)\u001b[0m \u001b[0;34m-\u001b[0m \u001b[0mt\u001b[0m\u001b[0;34m\u001b[0m\u001b[0;34m\u001b[0m\u001b[0m\n\u001b[1;32m     25\u001b[0m         \u001b[0mSS\u001b[0m \u001b[0;34m=\u001b[0m \u001b[0mget_K\u001b[0m\u001b[0;34m(\u001b[0m\u001b[0mx_train\u001b[0m\u001b[0;34m,\u001b[0m \u001b[0mx_train\u001b[0m\u001b[0;34m,\u001b[0m \u001b[0msigma\u001b[0m\u001b[0;34m=\u001b[0m\u001b[0msigma\u001b[0m\u001b[0;34m)\u001b[0m\u001b[0;34m\u001b[0m\u001b[0;34m\u001b[0m\u001b[0m\n",
      "\u001b[0;32m<ipython-input-5-d36f94794c50>\u001b[0m in \u001b[0;36mLaplacian_weights\u001b[0;34m(x_train, sigma, mu, Tikhonov, lambd, full_matrix, k, psi, p)\u001b[0m\n\u001b[1;32m     37\u001b[0m         \u001b[0mA\u001b[0m \u001b[0;34m/=\u001b[0m \u001b[0mnl\u001b[0m\u001b[0;34m\u001b[0m\u001b[0;34m\u001b[0m\u001b[0m\n\u001b[1;32m     38\u001b[0m \u001b[0;34m\u001b[0m\u001b[0m\n\u001b[0;32m---> 39\u001b[0;31m     \u001b[0mSZ\u001b[0m \u001b[0;34m=\u001b[0m \u001b[0mget_SZ\u001b[0m\u001b[0;34m(\u001b[0m\u001b[0mx_train\u001b[0m\u001b[0;34m,\u001b[0m \u001b[0mx_train\u001b[0m\u001b[0;34m,\u001b[0m \u001b[0msigma\u001b[0m\u001b[0;34m,\u001b[0m \u001b[0mSS\u001b[0m\u001b[0;34m)\u001b[0m\u001b[0;34m\u001b[0m\u001b[0;34m\u001b[0m\u001b[0m\n\u001b[0m\u001b[1;32m     40\u001b[0m     \u001b[0mB\u001b[0m \u001b[0;34m=\u001b[0m \u001b[0mSZ\u001b[0m\u001b[0;34m[\u001b[0m\u001b[0;34m:\u001b[0m\u001b[0mp\u001b[0m\u001b[0;34m]\u001b[0m \u001b[0;34m@\u001b[0m \u001b[0mSZ\u001b[0m\u001b[0;34m[\u001b[0m\u001b[0;34m:\u001b[0m\u001b[0mp\u001b[0m\u001b[0;34m]\u001b[0m\u001b[0;34m.\u001b[0m\u001b[0mtranspose\u001b[0m\u001b[0;34m(\u001b[0m\u001b[0;34m)\u001b[0m\u001b[0;34m\u001b[0m\u001b[0;34m\u001b[0m\u001b[0m\n\u001b[1;32m     41\u001b[0m     \u001b[0mB\u001b[0m \u001b[0;34m/=\u001b[0m \u001b[0mn\u001b[0m\u001b[0;34m\u001b[0m\u001b[0;34m\u001b[0m\u001b[0m\n",
      "\u001b[0;32m<ipython-input-4-74dc90065e98>\u001b[0m in \u001b[0;36mget_SZ\u001b[0;34m(x1, x2, sigma, SS, reshape)\u001b[0m\n\u001b[1;32m     34\u001b[0m         \u001b[0mSZ_reshape\u001b[0m \u001b[0;34m=\u001b[0m \u001b[0mnp\u001b[0m\u001b[0;34m.\u001b[0m\u001b[0mempty\u001b[0m\u001b[0;34m(\u001b[0m\u001b[0;34m(\u001b[0m\u001b[0mn1\u001b[0m\u001b[0;34m,\u001b[0m \u001b[0mn2\u001b[0m\u001b[0;34m*\u001b[0m\u001b[0md\u001b[0m\u001b[0;34m)\u001b[0m\u001b[0;34m,\u001b[0m \u001b[0mSZ\u001b[0m\u001b[0;34m.\u001b[0m\u001b[0mdtype\u001b[0m\u001b[0;34m)\u001b[0m\u001b[0;34m\u001b[0m\u001b[0;34m\u001b[0m\u001b[0m\n\u001b[1;32m     35\u001b[0m         \u001b[0;32mfor\u001b[0m \u001b[0mi\u001b[0m \u001b[0;32min\u001b[0m \u001b[0mrange\u001b[0m\u001b[0;34m(\u001b[0m\u001b[0md\u001b[0m\u001b[0;34m)\u001b[0m\u001b[0;34m:\u001b[0m\u001b[0;34m\u001b[0m\u001b[0;34m\u001b[0m\u001b[0m\n\u001b[0;32m---> 36\u001b[0;31m             \u001b[0mSZ_reshape\u001b[0m\u001b[0;34m[\u001b[0m\u001b[0;34m:\u001b[0m\u001b[0;34m,\u001b[0m \u001b[0mi\u001b[0m\u001b[0;34m*\u001b[0m\u001b[0mn2\u001b[0m\u001b[0;34m:\u001b[0m\u001b[0;34m(\u001b[0m\u001b[0mi\u001b[0m\u001b[0;34m+\u001b[0m\u001b[0;36m1\u001b[0m\u001b[0;34m)\u001b[0m\u001b[0;34m*\u001b[0m\u001b[0mn2\u001b[0m\u001b[0;34m]\u001b[0m \u001b[0;34m=\u001b[0m \u001b[0mSZ\u001b[0m\u001b[0;34m[\u001b[0m\u001b[0;34m...\u001b[0m\u001b[0;34m,\u001b[0m \u001b[0mi\u001b[0m\u001b[0;34m]\u001b[0m\u001b[0;34m\u001b[0m\u001b[0;34m\u001b[0m\u001b[0m\n\u001b[0m\u001b[1;32m     37\u001b[0m         \u001b[0;32mreturn\u001b[0m \u001b[0mSZ_reshape\u001b[0m\u001b[0;34m\u001b[0m\u001b[0;34m\u001b[0m\u001b[0m\n\u001b[1;32m     38\u001b[0m     \u001b[0;32mreturn\u001b[0m \u001b[0mSZ\u001b[0m\u001b[0;34m\u001b[0m\u001b[0;34m\u001b[0m\u001b[0m\n",
      "\u001b[0;31mKeyboardInterrupt\u001b[0m: "
     ]
    }
   ],
   "source": [
    "times_k = np.zeros((len(ns), nb_trials))\n",
    "errors_k = np.zeros((len(ns), nb_trials))\n",
    "soft_errors_k = np.zeros((len(ns), nb_trials))\n",
    "times_fk = np.zeros((len(ns), nb_trials))\n",
    "errors_fk = np.zeros((len(ns), nb_trials))\n",
    "soft_errors_fk = np.zeros((len(ns), nb_trials))\n",
    "times_g = np.zeros((len(ns), nb_trials))\n",
    "errors_g = np.zeros((len(ns), nb_trials))\n",
    "soft_errors_g = np.zeros((len(ns), nb_trials))\n",
    "for i, n_train in enumerate(ns):\n",
    "    print(n_train)\n",
    "    n_label = int(n_train / 10)\n",
    "    for trial in range(nb_trials):\n",
    "\n",
    "        x_train, y_test = get_data(n_train, dim, dist)\n",
    "        n_label = min(n_train, n_label)\n",
    "        y_train = y_test[:n_label]\n",
    "\n",
    "        p = 50\n",
    "        sigma = np.log10(n_train) / (n_train ** (1/(dim+4)))\n",
    "\n",
    "        t = time.time()\n",
    "        c_kernel = Laplacian_weights(x_train, mu=1/n_train, sigma=sigma, Tikhonov=True, lambd=1, p=p)\n",
    "        t_k = time.time() - t\n",
    "        SS = get_K(x_train, x_train, sigma=sigma)\n",
    "        c_k = SS[...,:p] @ c_kernel\n",
    "        y_soft = c_k @ y_train\n",
    "        y_pred_k = np.sign(y_soft)\n",
    "\n",
    "        error_k = (y_pred_k != y_test).mean()\n",
    "        soft_error_k = ((y_soft - y_test) ** 2).mean()\n",
    "\n",
    "#         t = time.time()\n",
    "#         c_fk = Laplacian_full_weights(x_train, mu=1/n_train, sigma=sigma, Tikhonov=True, lambd=1, full_matrix=True)\n",
    "#         t_fk = time.time() - t\n",
    "#         ST = get_ST(x_train, x_train, sigma=sigma)\n",
    "#         c_fk = ST @ c_fk\n",
    "#         y_soft = c_fk @ y_train\n",
    "#         y_pred_fk = np.sign(y_soft)\n",
    "\n",
    "#         error_fk = (y_pred_fk != y_test).mean()\n",
    "#         soft_error_fk = ((y_soft - y_test) ** 2).mean()\n",
    "        \n",
    "        # Graph-based\n",
    "#         sigma = (np.log(n_train) / n_train) ** (1 / (dim + 4))\n",
    "\n",
    "        t = time.time()\n",
    "        c_g = graph_weights(x_train, sigma=sigma)\n",
    "        c_g /= np.abs(c_g).sum(axis=1)[:, np.newaxis]\n",
    "        t_g = time.time() - t\n",
    "\n",
    "        y_soft = c_g @ y_train\n",
    "        y_pred_g = np.sign(y_soft)\n",
    "\n",
    "        error_g = (y_pred_g != y_test).mean()\n",
    "        soft_error_g = ((y_soft - y_test) ** 2).mean()\n",
    "\n",
    "        times_k[i,trial] = t_k \n",
    "        errors_k[i,trial] = error_k\n",
    "        soft_errors_k[i,trial] = soft_error_k\n",
    "#         times_fk[i,trial] = t_fk \n",
    "#         errors_fk[i,trial] = error_fk\n",
    "#         soft_errors_fk[i,trial] = soft_error_fk\n",
    "        times_g[i,trial] = t_g\n",
    "        errors_g[i,trial] = error_g\n",
    "        soft_errors_g[i,trial] = soft_error_g"
   ]
  },
  {
   "cell_type": "code",
   "execution_count": 28,
   "id": "infrared-boost",
   "metadata": {},
   "outputs": [
    {
     "data": {
      "text/plain": [
       "2"
      ]
     },
     "execution_count": 28,
     "metadata": {},
     "output_type": "execute_result"
    }
   ],
   "source": [
    "trial"
   ]
  },
  {
   "cell_type": "code",
   "execution_count": 38,
   "id": "separate-cement",
   "metadata": {},
   "outputs": [
    {
     "data": {
      "text/plain": [
       "array([[0.5       , 0.6       , 0.6       , 0.5       , 0.4       ,\n",
       "        0.4       , 0.4       , 0.3       , 0.6       , 0.5       ,\n",
       "        0.6       , 0.5       , 0.6       , 0.2       , 0.1       ,\n",
       "        0.6       , 0.3       , 0.2       , 0.5       , 0.5       ,\n",
       "        0.7       , 0.4       , 0.4       , 0.3       , 0.2       ,\n",
       "        0.4       , 0.5       , 0.5       , 0.5       , 0.5       ],\n",
       "       [0.42857143, 0.03571429, 0.125     , 0.25      , 0.16071429,\n",
       "        0.46428571, 0.14285714, 0.125     , 0.39285714, 0.41071429,\n",
       "        0.125     , 0.41071429, 0.42857143, 0.19642857, 0.28571429,\n",
       "        0.08928571, 0.14285714, 0.41071429, 0.05357143, 0.26785714,\n",
       "        0.08928571, 0.44642857, 0.42857143, 0.46428571, 0.21428571,\n",
       "        0.14285714, 0.42857143, 0.25      , 0.42857143, 0.48214286],\n",
       "       [0.06962025, 0.4335443 , 0.09177215, 0.07594937, 0.06012658,\n",
       "        0.14240506, 0.25632911, 0.06012658, 0.09177215, 0.08860759,\n",
       "        0.32594937, 0.07278481, 0.12974684, 0.06329114, 0.38607595,\n",
       "        0.05063291, 0.06329114, 0.06962025, 0.08227848, 0.34177215,\n",
       "        0.05379747, 0.07594937, 0.06329114, 0.07594937, 0.11392405,\n",
       "        0.23417722, 0.07594937, 0.06012658, 0.32594937, 0.08227848],\n",
       "       [0.05736783, 0.0776153 , 0.09561305, 0.08098988, 0.05961755,\n",
       "        0.0871766 , 0.09336333, 0.05736783, 0.05568054, 0.07142857,\n",
       "        0.06917885, 0.0568054 , 0.0624297 , 0.06749156, 0.06692913,\n",
       "        0.06186727, 0.06017998, 0.06580427, 0.05568054, 0.05624297,\n",
       "        0.06974128, 0.06580427, 0.0776153 , 0.06017998, 0.05849269,\n",
       "        0.05736783, 0.08998875, 0.07536558, 0.0624297 , 0.06186727],\n",
       "       [0.0687    , 0.0597    , 0.        , 0.        , 0.        ,\n",
       "        0.        , 0.        , 0.        , 0.        , 0.        ,\n",
       "        0.        , 0.        , 0.        , 0.        , 0.        ,\n",
       "        0.        , 0.        , 0.        , 0.        , 0.        ,\n",
       "        0.        , 0.        , 0.        , 0.        , 0.        ,\n",
       "        0.        , 0.        , 0.        , 0.        , 0.        ]])"
      ]
     },
     "execution_count": 38,
     "metadata": {},
     "output_type": "execute_result"
    }
   ],
   "source": [
    "errors_g"
   ]
  },
  {
   "cell_type": "code",
   "execution_count": 19,
   "id": "substantial-currency",
   "metadata": {},
   "outputs": [],
   "source": [
    "ind = np.array([True, False, True, True, True,\n",
    "                True, True, True, True, True,\n",
    "                True, True, True, True, True,\n",
    "                True, True, True, False, False,\n",
    "               ])"
   ]
  },
  {
   "cell_type": "code",
   "execution_count": 34,
   "id": "industrial-scratch",
   "metadata": {},
   "outputs": [
    {
     "data": {
      "image/png": "[encoded data removed]",
      "text/plain": [
       "<Figure size 180x126 with 1 Axes>"
      ]
     },
     "metadata": {
      "needs_background": "light"
     },
     "output_type": "display_data"
    }
   ],
   "source": [
    "fig, ax = plt.subplots(figsize=(2.5, 1.75))\n",
    "ax.set_xscale(\"log\")\n",
    "b = ax.errorbar(ns, errors_g.mean(axis=1), .5*errors_g.std(axis=1), capsize=2, linewidth=2, capthick=2, color='C1', alpha=.5)\n",
    "c = ax.errorbar(ns, errors_fk.mean(axis=1), .5*errors_fk.std(axis=1), capsize=2, linewidth=2, capthick=2, color='C2', alpha=1)\n",
    "a = ax.errorbar(ns, errors_k.mean(axis=1), .5*errors_k.std(axis=1), capsize=2, linewidth=2, capthick=2, color='C0', alpha=1)\n",
    "ax.legend([a, c, b], ['small kernel', 'full kernel', 'graph-based'], prop={'size':8}, ncol=1, loc='upper right')\n",
    "# ax.legend([a, b], ['kernelized', 'graph-based'], prop={'size':8}, ncol=1, loc='upper right')\n",
    "ax.grid()\n",
    "ax.set_title(r'Classification error', size=10)\n",
    "ax.set_ylabel(r'Loss (0-1)', size=8)\n",
    "# ax.set_yticks([])\n",
    "# ax.set_ylim(0, .7)\n",
    "ax.set_xlabel(r'Number of samples', size=8)\n",
    "ax.tick_params(axis='both', which='major', labelsize=8)\n",
    "plt.tight_layout()\n",
    "# fig.savefig('savings/classification_error.pdf')#, facecolor='k', transparent=False)"
   ]
  },
  {
   "cell_type": "code",
   "execution_count": 35,
   "id": "gorgeous-ghana",
   "metadata": {},
   "outputs": [],
   "source": [
    "ind = np.array([True, False, True, True, True,\n",
    "                True, True, True, True, True,\n",
    "                True, True, True, True, True,\n",
    "                True, True, True, False, False,\n",
    "               ])"
   ]
  },
  {
   "cell_type": "code",
   "execution_count": 36,
   "id": "skilled-divide",
   "metadata": {},
   "outputs": [
    {
     "data": {
      "image/png": "[encoded data removed]",
      "text/plain": [
       "<Figure size 180x126 with 1 Axes>"
      ]
     },
     "metadata": {
      "needs_background": "light"
     },
     "output_type": "display_data"
    }
   ],
   "source": [
    "fig, ax = plt.subplots(figsize=(2.5, 1.75))\n",
    "ax.set_xscale(\"log\")\n",
    "b = ax.errorbar(ns, soft_errors_g.mean(axis=1), .5*soft_errors_g.std(axis=1), capsize=2, linewidth=2, capthick=2, color='C1', alpha=.5)\n",
    "c = ax.errorbar(ns, soft_errors_fk.mean(axis=1), .5*soft_errors_fk.std(axis=1), capsize=2, linewidth=2, capthick=2, color='C2', alpha=1)\n",
    "a = ax.errorbar(ns, soft_errors_k.mean(axis=1), .5*soft_errors_k.std(axis=1), capsize=2, linewidth=2, capthick=2, color='C0', alpha=1)\n",
    "# ax.legend([a, b], ['kernelized', 'graph-based'], prop={'size':8}, ncol=1, loc='upper right')\n",
    "ax.legend([a, c, b], ['small kernel', 'full kernel', 'graph-based'], prop={'size':6}, ncol=1, loc='upper right')\n",
    "ax.grid()\n",
    "ax.set_title(r'Regression error', size=10)\n",
    "ax.set_ylabel(r'Loss ($L^2$)', size=8)\n",
    "# ax.set_yticks([])\n",
    "ax.set_ylim(0.2, 1.8)\n",
    "ax.set_xlabel(r'Number of samples', size=8)\n",
    "ax.tick_params(axis='both', which='major', labelsize=8)\n",
    "plt.tight_layout()\n",
    "# fig.savefig('savings/regression_error.pdf')#, facecolor='k', transparent=False)"
   ]
  },
  {
   "cell_type": "code",
   "execution_count": 86,
   "id": "spare-luther",
   "metadata": {},
   "outputs": [
    {
     "data": {
      "image/png": "[encoded data removed]",
      "text/plain": [
       "<Figure size 180x126 with 1 Axes>"
      ]
     },
     "metadata": {
      "needs_background": "light"
     },
     "output_type": "display_data"
    }
   ],
   "source": [
    "fig, ax = plt.subplots(figsize=(2.5, 1.75))\n",
    "ax.set_yscale('log')\n",
    "ax.set_xscale('log')\n",
    "b = ax.errorbar((ns), times_g.mean(axis=1), .5*times_g.std(axis=1), capsize=2, linewidth=2, capthick=2, color='C1', alpha=.5)\n",
    "c = ax.errorbar((ns), times_fk.mean(axis=1), .5*times_fk.std(axis=1), capsize=2, linewidth=2, capthick=2, color='C2', alpha=.5)\n",
    "a = ax.errorbar((ns), times_k.mean(axis=1), .5*times_k.std(axis=1), capsize=2, linewidth=2, capthick=2, color='C0', alpha=1)\n",
    "ax.legend([a, c, b], ['small kernel', 'full kernel', 'graph-based'], prop={'size':6}, ncol=1, loc='upper left')\n",
    "ax.grid()\n",
    "ax.set_title(r'Computational complexity', size=10)\n",
    "ax.set_ylabel(r'Training time (s)', size=8)\n",
    "# ax.set_yticks([])\n",
    "ax.set_xlabel(r'Number of samples', size=8)\n",
    "ax.tick_params(axis='both', which='major', labelsize=8)\n",
    "plt.tight_layout()\n",
    "# fig.savefig('savings/computation_time.pdf')#, facecolor='k', transparent=False)"
   ]
  },
  {
   "cell_type": "code",
   "execution_count": 79,
   "id": "guilty-honduras",
   "metadata": {},
   "outputs": [
    {
     "data": {
      "image/png": "[encoded data removed]",
      "text/plain": [
       "<Figure size 360x126 with 3 Axes>"
      ]
     },
     "metadata": {
      "needs_background": "light"
     },
     "output_type": "display_data"
    }
   ],
   "source": [
    "fig, (ax1, ax2, ax3) = plt.subplots(1, 3, figsize=(5, 1.75))\n",
    "ind = y_test == 1\n",
    "ax1.scatter(x_train[ind, 0], x_train[ind, 1], c='C0', s=1, alpha=.5)\n",
    "ax1.scatter(x_train[~ind, 0], x_train[~ind, 1], c='C1', s=1, alpha=.5)\n",
    "ind = y_train == 1\n",
    "ax1.scatter(x_train[:n_label][~ind, 0], x_train[:n_label][~ind, 1], c='C1', edgecolor='k', s=10)\n",
    "ax1.scatter(x_train[:n_label][ind, 0], x_train[:n_label][ind, 1], c='C0', edgecolor='k', s=10)\n",
    "ax1.set_title('Trainset', size=10)\n",
    "ind = y_pred_k == 1\n",
    "ax2.scatter(x_train[~ind, 0], x_train[~ind, 1], c='C1', alpha=.5, s=1)\n",
    "ax2.scatter(x_train[ind, 0], x_train[ind, 1], c='C0', s=1)\n",
    "ax2.scatter(x_train[~ind, 0], x_train[~ind, 1], c='C1', alpha=.5, s=1)\n",
    "ax2.set_title('Kernelized estimate', size=10)\n",
    "ind = y_pred_g == 1\n",
    "ax3.scatter(x_train[~ind, 0], x_train[~ind, 1], c='C1', alpha=.5, s=1)\n",
    "ax3.scatter(x_train[ind, 0], x_train[ind, 1], c='C0', s=1, alpha=1)\n",
    "ax3.scatter(x_train[~ind, 0], x_train[~ind, 1], c='C1', alpha=.5, s=1)\n",
    "ax3.set_title('Graph-based estimate', size=10);\n",
    "for ax in [ax1, ax2, ax3]:\n",
    "    ax.grid(True)\n",
    "    ax.axes.xaxis.set_ticks([1.5])\n",
    "    ax.axes.xaxis.set_ticklabels([r'$\\partial X$'], size=8)\n",
    "    ax.axes.yaxis.set_visible(False)\n",
    "plt.tight_layout()\n",
    "fig.savefig('savings/comparison.pdf')"
   ]
  },
  {
   "cell_type": "code",
   "execution_count": 70,
   "id": "final-heating",
   "metadata": {},
   "outputs": [
    {
     "data": {
      "text/plain": [
       "100"
      ]
     },
     "execution_count": 70,
     "metadata": {},
     "output_type": "execute_result"
    }
   ],
   "source": [
    "n_label"
   ]
  },
  {
   "cell_type": "code",
   "execution_count": null,
   "id": "structured-contest",
   "metadata": {},
   "outputs": [],
   "source": []
  }
 ],
 "metadata": {
  "kernelspec": {
   "display_name": "Python 3",
   "language": "python",
   "name": "python3"
  },
  "language_info": {
   "codemirror_mode": {
    "name": "ipython",
    "version": 3
   },
   "file_extension": ".py",
   "mimetype": "text/x-python",
   "name": "python",
   "nbconvert_exporter": "python",
   "pygments_lexer": "ipython3",
   "version": "3.7.9"
  }
 },
 "nbformat": 4,
 "nbformat_minor": 5
}
